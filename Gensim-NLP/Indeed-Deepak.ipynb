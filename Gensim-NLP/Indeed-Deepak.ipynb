{
 "cells": [
  {
   "cell_type": "code",
   "execution_count": 1,
   "metadata": {},
   "outputs": [
    {
     "name": "stderr",
     "output_type": "stream",
     "text": [
      "/Users/deepak/anaconda/lib/python3.6/site-packages/sklearn/cross_validation.py:44: DeprecationWarning: This module was deprecated in version 0.18 in favor of the model_selection module into which all the refactored classes and functions are moved. Also note that the interface of the new CV iterators are different from that of this module. This module will be removed in 0.20.\n",
      "  \"This module will be removed in 0.20.\", DeprecationWarning)\n"
     ]
    }
   ],
   "source": [
    "import pandas as pd\n",
    "import numpy as np\n",
    "import warnings\n",
    "\n",
    "warnings.filterwarnings('ignore')\n",
    "\n",
    "\n",
    "import matplotlib\n",
    "import matplotlib.pyplot as plt\n",
    "from sklearn import cross_validation\n",
    "from sklearn.cross_validation import ShuffleSplit\n",
    "from sklearn.linear_model import LinearRegression\n",
    "\n",
    "\n",
    "\n",
    "%matplotlib inline\n",
    "import seaborn as sns\n",
    "from sklearn.metrics import r2_score\n",
    "from sklearn.preprocessing import LabelEncoder\n"
   ]
  },
  {
   "cell_type": "code",
   "execution_count": 2,
   "metadata": {
    "collapsed": true
   },
   "outputs": [],
   "source": [
    "features=pd.read_csv('/Users/deepak/Downloads/indeed_data_science_exercise 2/train_features_2013-03-07.csv')\n",
    "salaries=pd.read_csv('/Users/deepak/Downloads/indeed_data_science_exercise 2/train_salaries_2013-03-07.csv')"
   ]
  },
  {
   "cell_type": "markdown",
   "metadata": {},
   "source": [
    "## EDA and Initial Exploration"
   ]
  },
  {
   "cell_type": "code",
   "execution_count": 3,
   "metadata": {},
   "outputs": [
    {
     "name": "stdout",
     "output_type": "stream",
     "text": [
      "SHAPE:  (1000000, 8)\n",
      "SIZE: 8000000\n"
     ]
    }
   ],
   "source": [
    "print(\"SHAPE: \",features.shape)\n",
    "print(\"SIZE:\",features.size)"
   ]
  },
  {
   "cell_type": "code",
   "execution_count": 4,
   "metadata": {},
   "outputs": [
    {
     "data": {
      "text/html": [
       "<div>\n",
       "<style>\n",
       "    .dataframe thead tr:only-child th {\n",
       "        text-align: right;\n",
       "    }\n",
       "\n",
       "    .dataframe thead th {\n",
       "        text-align: left;\n",
       "    }\n",
       "\n",
       "    .dataframe tbody tr th {\n",
       "        vertical-align: top;\n",
       "    }\n",
       "</style>\n",
       "<table border=\"1\" class=\"dataframe\">\n",
       "  <thead>\n",
       "    <tr style=\"text-align: right;\">\n",
       "      <th></th>\n",
       "      <th>jobId</th>\n",
       "      <th>companyId</th>\n",
       "      <th>jobType</th>\n",
       "      <th>degree</th>\n",
       "      <th>major</th>\n",
       "      <th>industry</th>\n",
       "      <th>yearsExperience</th>\n",
       "      <th>milesFromMetropolis</th>\n",
       "    </tr>\n",
       "  </thead>\n",
       "  <tbody>\n",
       "    <tr>\n",
       "      <th>0</th>\n",
       "      <td>JOB1362684407687</td>\n",
       "      <td>COMP37</td>\n",
       "      <td>CFO</td>\n",
       "      <td>MASTERS</td>\n",
       "      <td>MATH</td>\n",
       "      <td>HEALTH</td>\n",
       "      <td>10</td>\n",
       "      <td>83</td>\n",
       "    </tr>\n",
       "    <tr>\n",
       "      <th>1</th>\n",
       "      <td>JOB1362684407688</td>\n",
       "      <td>COMP19</td>\n",
       "      <td>CEO</td>\n",
       "      <td>HIGH_SCHOOL</td>\n",
       "      <td>NONE</td>\n",
       "      <td>WEB</td>\n",
       "      <td>3</td>\n",
       "      <td>73</td>\n",
       "    </tr>\n",
       "    <tr>\n",
       "      <th>2</th>\n",
       "      <td>JOB1362684407689</td>\n",
       "      <td>COMP52</td>\n",
       "      <td>VICE_PRESIDENT</td>\n",
       "      <td>DOCTORAL</td>\n",
       "      <td>PHYSICS</td>\n",
       "      <td>HEALTH</td>\n",
       "      <td>10</td>\n",
       "      <td>38</td>\n",
       "    </tr>\n",
       "    <tr>\n",
       "      <th>3</th>\n",
       "      <td>JOB1362684407690</td>\n",
       "      <td>COMP38</td>\n",
       "      <td>MANAGER</td>\n",
       "      <td>DOCTORAL</td>\n",
       "      <td>CHEMISTRY</td>\n",
       "      <td>AUTO</td>\n",
       "      <td>8</td>\n",
       "      <td>17</td>\n",
       "    </tr>\n",
       "    <tr>\n",
       "      <th>4</th>\n",
       "      <td>JOB1362684407691</td>\n",
       "      <td>COMP7</td>\n",
       "      <td>VICE_PRESIDENT</td>\n",
       "      <td>BACHELORS</td>\n",
       "      <td>PHYSICS</td>\n",
       "      <td>FINANCE</td>\n",
       "      <td>8</td>\n",
       "      <td>16</td>\n",
       "    </tr>\n",
       "  </tbody>\n",
       "</table>\n",
       "</div>"
      ],
      "text/plain": [
       "              jobId companyId         jobType       degree      major  \\\n",
       "0  JOB1362684407687    COMP37             CFO      MASTERS       MATH   \n",
       "1  JOB1362684407688    COMP19             CEO  HIGH_SCHOOL       NONE   \n",
       "2  JOB1362684407689    COMP52  VICE_PRESIDENT     DOCTORAL    PHYSICS   \n",
       "3  JOB1362684407690    COMP38         MANAGER     DOCTORAL  CHEMISTRY   \n",
       "4  JOB1362684407691     COMP7  VICE_PRESIDENT    BACHELORS    PHYSICS   \n",
       "\n",
       "  industry  yearsExperience  milesFromMetropolis  \n",
       "0   HEALTH               10                   83  \n",
       "1      WEB                3                   73  \n",
       "2   HEALTH               10                   38  \n",
       "3     AUTO                8                   17  \n",
       "4  FINANCE                8                   16  "
      ]
     },
     "execution_count": 4,
     "metadata": {},
     "output_type": "execute_result"
    }
   ],
   "source": [
    "(features.head())"
   ]
  },
  {
   "cell_type": "code",
   "execution_count": 5,
   "metadata": {},
   "outputs": [
    {
     "data": {
      "text/plain": [
       "jobId                  object\n",
       "companyId              object\n",
       "jobType                object\n",
       "degree                 object\n",
       "major                  object\n",
       "industry               object\n",
       "yearsExperience         int64\n",
       "milesFromMetropolis     int64\n",
       "dtype: object"
      ]
     },
     "execution_count": 5,
     "metadata": {},
     "output_type": "execute_result"
    }
   ],
   "source": [
    "features.dtypes"
   ]
  },
  {
   "cell_type": "code",
   "execution_count": 6,
   "metadata": {},
   "outputs": [
    {
     "name": "stdout",
     "output_type": "stream",
     "text": [
      "       yearsExperience  milesFromMetropolis\n",
      "count   1000000.000000       1000000.000000\n",
      "mean         11.992386            49.529260\n",
      "std           7.212391            28.877733\n",
      "min           0.000000             0.000000\n",
      "25%           6.000000            25.000000\n",
      "50%          12.000000            50.000000\n",
      "75%          18.000000            75.000000\n",
      "max          24.000000            99.000000\n"
     ]
    }
   ],
   "source": [
    "print(features.describe())"
   ]
  },
  {
   "cell_type": "markdown",
   "metadata": {},
   "source": [
    "## Is there Skew in the  Continuous Parameters?"
   ]
  },
  {
   "cell_type": "code",
   "execution_count": 7,
   "metadata": {},
   "outputs": [
    {
     "name": "stdout",
     "output_type": "stream",
     "text": [
      "0.346415074651\n"
     ]
    }
   ],
   "source": [
    "print(salaries[\"salary\"].skew())\n"
   ]
  },
  {
   "cell_type": "code",
   "execution_count": 8,
   "metadata": {},
   "outputs": [
    {
     "name": "stdout",
     "output_type": "stream",
     "text": [
      "yearsExperience        0.001674\n",
      "milesFromMetropolis   -0.001139\n",
      "dtype: float64\n"
     ]
    }
   ],
   "source": [
    "print(features.skew())\n",
    "\n",
    "# Values close to 0 show less skew"
   ]
  },
  {
   "cell_type": "code",
   "execution_count": 9,
   "metadata": {},
   "outputs": [
    {
     "name": "stdout",
     "output_type": "stream",
     "text": [
      " ['jobId', 'companyId', 'degree', 'yearsExperience', 'milesFromMetropolis']\n"
     ]
    }
   ],
   "source": [
    "contFeatureslist = []\n",
    "for colName,x in features.iloc[1,:].iteritems():\n",
    "    #print(x)\n",
    "    if(not str(x).isalpha()):\n",
    "        contFeatureslist.append(colName)\n",
    "print(\"\",contFeatureslist)"
   ]
  },
  {
   "cell_type": "code",
   "execution_count": 10,
   "metadata": {},
   "outputs": [
    {
     "data": {
      "text/plain": [
       "<matplotlib.axes._subplots.AxesSubplot at 0x129027160>"
      ]
     },
     "execution_count": 10,
     "metadata": {},
     "output_type": "execute_result"
    },
    {
     "data": {
      "image/png": "[encoded data removed]",
      "text/plain": [
       "<matplotlib.figure.Figure at 0x117ee11d0>"
      ]
     },
     "metadata": {},
     "output_type": "display_data"
    }
   ],
   "source": [
    "catFeatureslist = []\n",
    "for colName,x in features.iloc[1,:].iteritems():\n",
    "    if(str(x).isalpha()):\n",
    "        catFeatureslist.append(colName)\n",
    "plt.figure(figsize=(13,9))\n",
    "sns.boxplot(features[contFeatureslist])"
   ]
  },
  {
   "cell_type": "markdown",
   "metadata": {},
   "source": [
    "Skew is really small can be Ignored"
   ]
  },
  {
   "cell_type": "code",
   "execution_count": 11,
   "metadata": {
    "collapsed": true
   },
   "outputs": [],
   "source": [
    "all_data=features.join(salaries,lsuffix='_')"
   ]
  },
  {
   "cell_type": "code",
   "execution_count": 12,
   "metadata": {},
   "outputs": [
    {
     "data": {
      "text/plain": [
       "jobId_                 0\n",
       "companyId              0\n",
       "jobType                0\n",
       "degree                 0\n",
       "major                  0\n",
       "industry               0\n",
       "yearsExperience        0\n",
       "milesFromMetropolis    0\n",
       "jobId                  0\n",
       "salary                 0\n",
       "dtype: int64"
      ]
     },
     "execution_count": 12,
     "metadata": {},
     "output_type": "execute_result"
    }
   ],
   "source": [
    "## Empty Values\n",
    "all_data.isnull().sum()"
   ]
  },
  {
   "cell_type": "markdown",
   "metadata": {},
   "source": [
    "## GROUP SALARY BY DEGREE"
   ]
  },
  {
   "cell_type": "code",
   "execution_count": 13,
   "metadata": {},
   "outputs": [
    {
     "data": {
      "text/html": [
       "<div>\n",
       "<style>\n",
       "    .dataframe thead tr:only-child th {\n",
       "        text-align: right;\n",
       "    }\n",
       "\n",
       "    .dataframe thead th {\n",
       "        text-align: left;\n",
       "    }\n",
       "\n",
       "    .dataframe tbody tr th {\n",
       "        vertical-align: top;\n",
       "    }\n",
       "</style>\n",
       "<table border=\"1\" class=\"dataframe\">\n",
       "  <thead>\n",
       "    <tr style=\"text-align: right;\">\n",
       "      <th></th>\n",
       "      <th>count</th>\n",
       "      <th>mean</th>\n",
       "      <th>min</th>\n",
       "      <th>max</th>\n",
       "    </tr>\n",
       "    <tr>\n",
       "      <th>degree</th>\n",
       "      <th></th>\n",
       "      <th></th>\n",
       "      <th></th>\n",
       "      <th></th>\n",
       "    </tr>\n",
       "  </thead>\n",
       "  <tbody>\n",
       "    <tr>\n",
       "      <th>BACHELORS</th>\n",
       "      <td>175495</td>\n",
       "      <td>125.454663</td>\n",
       "      <td>35</td>\n",
       "      <td>294</td>\n",
       "    </tr>\n",
       "    <tr>\n",
       "      <th>DOCTORAL</th>\n",
       "      <td>175364</td>\n",
       "      <td>135.489433</td>\n",
       "      <td>0</td>\n",
       "      <td>301</td>\n",
       "    </tr>\n",
       "    <tr>\n",
       "      <th>HIGH_SCHOOL</th>\n",
       "      <td>236976</td>\n",
       "      <td>101.920654</td>\n",
       "      <td>0</td>\n",
       "      <td>260</td>\n",
       "    </tr>\n",
       "    <tr>\n",
       "      <th>MASTERS</th>\n",
       "      <td>175311</td>\n",
       "      <td>130.504903</td>\n",
       "      <td>0</td>\n",
       "      <td>301</td>\n",
       "    </tr>\n",
       "    <tr>\n",
       "      <th>NONE</th>\n",
       "      <td>236854</td>\n",
       "      <td>98.176467</td>\n",
       "      <td>0</td>\n",
       "      <td>254</td>\n",
       "    </tr>\n",
       "  </tbody>\n",
       "</table>\n",
       "</div>"
      ],
      "text/plain": [
       "              count        mean  min  max\n",
       "degree                                   \n",
       "BACHELORS    175495  125.454663   35  294\n",
       "DOCTORAL     175364  135.489433    0  301\n",
       "HIGH_SCHOOL  236976  101.920654    0  260\n",
       "MASTERS      175311  130.504903    0  301\n",
       "NONE         236854   98.176467    0  254"
      ]
     },
     "execution_count": 13,
     "metadata": {},
     "output_type": "execute_result"
    }
   ],
   "source": [
    "salary_by_degree=all_data.groupby(\"degree\").salary.agg(['count', 'mean', 'min', 'max'])\n",
    "salary_by_degree"
   ]
  },
  {
   "cell_type": "code",
   "execution_count": 14,
   "metadata": {},
   "outputs": [
    {
     "data": {
      "image/png": "[encoded data removed]",
      "text/plain": [
       "<matplotlib.figure.Figure at 0x121d105c0>"
      ]
     },
     "metadata": {},
     "output_type": "display_data"
    }
   ],
   "source": [
    "fig, axes = plt.subplots(nrows=2, ncols=2)\n",
    "salary_by_degree.plot(y='mean',kind=\"bar\",title=\"Mean Salary by Degree\",ax=axes[0,0],figsize=(15,15))\n",
    "salary_by_degree.plot(y='max',kind=\"bar\",title=\"Max Salary by Degree\",ax=axes[0,1])\n",
    "salary_by_degree.plot(y='count',kind=\"bar\",title=\"Count by Degree\",ax=axes[1,0])\n",
    "salary_by_degree.plot(y='min',kind=\"bar\",title=\"Min Salary by Degree\",ax=axes[1,1])\n",
    "\n",
    "plt.show()"
   ]
  },
  {
   "cell_type": "markdown",
   "metadata": {},
   "source": [
    "## Observations:\n",
    "\n",
    "* As Expected mean Salary has the following order- \n",
    "Doctoral > Masters > Bachelors > None\n",
    "\n",
    "\n",
    "* Minimum Salary doesnt make sense bacaause of '0' Salary in some cases"
   ]
  },
  {
   "cell_type": "markdown",
   "metadata": {},
   "source": [
    "## GROUP SALARY BY INDUSTRY"
   ]
  },
  {
   "cell_type": "code",
   "execution_count": 15,
   "metadata": {},
   "outputs": [
    {
     "data": {
      "text/html": [
       "<div>\n",
       "<style>\n",
       "    .dataframe thead tr:only-child th {\n",
       "        text-align: right;\n",
       "    }\n",
       "\n",
       "    .dataframe thead th {\n",
       "        text-align: left;\n",
       "    }\n",
       "\n",
       "    .dataframe tbody tr th {\n",
       "        vertical-align: top;\n",
       "    }\n",
       "</style>\n",
       "<table border=\"1\" class=\"dataframe\">\n",
       "  <thead>\n",
       "    <tr style=\"text-align: right;\">\n",
       "      <th></th>\n",
       "      <th>count</th>\n",
       "      <th>mean</th>\n",
       "      <th>min</th>\n",
       "      <th>max</th>\n",
       "    </tr>\n",
       "    <tr>\n",
       "      <th>industry</th>\n",
       "      <th></th>\n",
       "      <th></th>\n",
       "      <th></th>\n",
       "      <th></th>\n",
       "    </tr>\n",
       "  </thead>\n",
       "  <tbody>\n",
       "    <tr>\n",
       "      <th>AUTO</th>\n",
       "      <td>142943</td>\n",
       "      <td>109.433690</td>\n",
       "      <td>0</td>\n",
       "      <td>264</td>\n",
       "    </tr>\n",
       "    <tr>\n",
       "      <th>EDUCATION</th>\n",
       "      <td>142819</td>\n",
       "      <td>99.448386</td>\n",
       "      <td>17</td>\n",
       "      <td>253</td>\n",
       "    </tr>\n",
       "    <tr>\n",
       "      <th>FINANCE</th>\n",
       "      <td>142867</td>\n",
       "      <td>130.746743</td>\n",
       "      <td>0</td>\n",
       "      <td>294</td>\n",
       "    </tr>\n",
       "    <tr>\n",
       "      <th>HEALTH</th>\n",
       "      <td>142755</td>\n",
       "      <td>115.735540</td>\n",
       "      <td>28</td>\n",
       "      <td>275</td>\n",
       "    </tr>\n",
       "    <tr>\n",
       "      <th>OIL</th>\n",
       "      <td>142771</td>\n",
       "      <td>130.952946</td>\n",
       "      <td>0</td>\n",
       "      <td>301</td>\n",
       "    </tr>\n",
       "    <tr>\n",
       "      <th>SERVICE</th>\n",
       "      <td>142639</td>\n",
       "      <td>104.446820</td>\n",
       "      <td>22</td>\n",
       "      <td>256</td>\n",
       "    </tr>\n",
       "    <tr>\n",
       "      <th>WEB</th>\n",
       "      <td>143206</td>\n",
       "      <td>121.644512</td>\n",
       "      <td>0</td>\n",
       "      <td>290</td>\n",
       "    </tr>\n",
       "  </tbody>\n",
       "</table>\n",
       "</div>"
      ],
      "text/plain": [
       "            count        mean  min  max\n",
       "industry                               \n",
       "AUTO       142943  109.433690    0  264\n",
       "EDUCATION  142819   99.448386   17  253\n",
       "FINANCE    142867  130.746743    0  294\n",
       "HEALTH     142755  115.735540   28  275\n",
       "OIL        142771  130.952946    0  301\n",
       "SERVICE    142639  104.446820   22  256\n",
       "WEB        143206  121.644512    0  290"
      ]
     },
     "execution_count": 15,
     "metadata": {},
     "output_type": "execute_result"
    }
   ],
   "source": [
    "salary_by_industry=all_data.groupby(\"industry\").salary.agg(['count', 'mean', 'min', 'max'])\n",
    "salary_by_industry"
   ]
  },
  {
   "cell_type": "code",
   "execution_count": 16,
   "metadata": {},
   "outputs": [
    {
     "data": {
      "image/png": "[encoded data removed]",
      "text/plain": [
       "<matplotlib.figure.Figure at 0x121d10f60>"
      ]
     },
     "metadata": {},
     "output_type": "display_data"
    }
   ],
   "source": [
    "fig, axes = plt.subplots(nrows=2, ncols=2)\n",
    "salary_by_industry.plot(y='mean',kind=\"bar\",title=\"Mean Salary by industry\",ax=axes[0,0],figsize=(15,15))\n",
    "salary_by_industry.plot(y='max',kind=\"bar\",title=\"Max Salary by industry\",ax=axes[0,1])\n",
    "salary_by_industry.plot(y='count',kind=\"bar\",title=\"Count by industry\",ax=axes[1,0])\n",
    "salary_by_industry.plot(y='min',kind=\"bar\",title=\"Min Salary by industry\",ax=axes[1,1])\n",
    "\n",
    "plt.show()"
   ]
  },
  {
   "cell_type": "markdown",
   "metadata": {},
   "source": [
    "## GROUP SALARY BY JOBTYPE"
   ]
  },
  {
   "cell_type": "code",
   "execution_count": 17,
   "metadata": {},
   "outputs": [
    {
     "data": {
      "image/png": "[encoded data removed]",
      "text/plain": [
       "<matplotlib.figure.Figure at 0x11a60ebe0>"
      ]
     },
     "metadata": {},
     "output_type": "display_data"
    }
   ],
   "source": [
    "salary_by_jobType=all_data.groupby(\"jobType\").salary.agg(['count', 'mean', 'min', 'max'])\n",
    "salary_by_jobType\n",
    "fig, axes = plt.subplots(nrows=2, ncols=2)\n",
    "salary_by_jobType.plot(y='mean',kind=\"bar\",title=\"Mean Salary by Job Type\",ax=axes[0,0],figsize=(15,15))\n",
    "salary_by_jobType.plot(y='max',kind=\"bar\",title=\"Max Salary by Job Type\",ax=axes[0,1])\n",
    "salary_by_jobType.plot(y='count',kind=\"bar\",title=\"Count by Job Type\",ax=axes[1,0])\n",
    "salary_by_jobType.plot(y='min',kind=\"bar\",title=\"Min Salary by Job Type\",ax=axes[1,1])\n",
    "\n",
    "plt.show()"
   ]
  },
  {
   "cell_type": "code",
   "execution_count": 18,
   "metadata": {},
   "outputs": [
    {
     "data": {
      "text/html": [
       "<div>\n",
       "<style>\n",
       "    .dataframe thead tr:only-child th {\n",
       "        text-align: right;\n",
       "    }\n",
       "\n",
       "    .dataframe thead th {\n",
       "        text-align: left;\n",
       "    }\n",
       "\n",
       "    .dataframe tbody tr th {\n",
       "        vertical-align: top;\n",
       "    }\n",
       "</style>\n",
       "<table border=\"1\" class=\"dataframe\">\n",
       "  <thead>\n",
       "    <tr style=\"text-align: right;\">\n",
       "      <th></th>\n",
       "      <th>count</th>\n",
       "      <th>mean</th>\n",
       "      <th>min</th>\n",
       "      <th>max</th>\n",
       "    </tr>\n",
       "    <tr>\n",
       "      <th>jobType</th>\n",
       "      <th></th>\n",
       "      <th></th>\n",
       "      <th></th>\n",
       "      <th></th>\n",
       "    </tr>\n",
       "  </thead>\n",
       "  <tbody>\n",
       "    <tr>\n",
       "      <th>CEO</th>\n",
       "      <td>124778</td>\n",
       "      <td>145.311425</td>\n",
       "      <td>55</td>\n",
       "      <td>298</td>\n",
       "    </tr>\n",
       "    <tr>\n",
       "      <th>CFO</th>\n",
       "      <td>124369</td>\n",
       "      <td>135.458547</td>\n",
       "      <td>51</td>\n",
       "      <td>301</td>\n",
       "    </tr>\n",
       "    <tr>\n",
       "      <th>CTO</th>\n",
       "      <td>125046</td>\n",
       "      <td>135.479983</td>\n",
       "      <td>0</td>\n",
       "      <td>301</td>\n",
       "    </tr>\n",
       "    <tr>\n",
       "      <th>JANITOR</th>\n",
       "      <td>124971</td>\n",
       "      <td>70.813045</td>\n",
       "      <td>17</td>\n",
       "      <td>189</td>\n",
       "    </tr>\n",
       "    <tr>\n",
       "      <th>JUNIOR</th>\n",
       "      <td>124594</td>\n",
       "      <td>95.331557</td>\n",
       "      <td>0</td>\n",
       "      <td>248</td>\n",
       "    </tr>\n",
       "    <tr>\n",
       "      <th>MANAGER</th>\n",
       "      <td>125121</td>\n",
       "      <td>115.367596</td>\n",
       "      <td>0</td>\n",
       "      <td>270</td>\n",
       "    </tr>\n",
       "    <tr>\n",
       "      <th>SENIOR</th>\n",
       "      <td>125886</td>\n",
       "      <td>105.487775</td>\n",
       "      <td>31</td>\n",
       "      <td>258</td>\n",
       "    </tr>\n",
       "    <tr>\n",
       "      <th>VICE_PRESIDENT</th>\n",
       "      <td>125235</td>\n",
       "      <td>125.367629</td>\n",
       "      <td>0</td>\n",
       "      <td>272</td>\n",
       "    </tr>\n",
       "  </tbody>\n",
       "</table>\n",
       "</div>"
      ],
      "text/plain": [
       "                 count        mean  min  max\n",
       "jobType                                     \n",
       "CEO             124778  145.311425   55  298\n",
       "CFO             124369  135.458547   51  301\n",
       "CTO             125046  135.479983    0  301\n",
       "JANITOR         124971   70.813045   17  189\n",
       "JUNIOR          124594   95.331557    0  248\n",
       "MANAGER         125121  115.367596    0  270\n",
       "SENIOR          125886  105.487775   31  258\n",
       "VICE_PRESIDENT  125235  125.367629    0  272"
      ]
     },
     "execution_count": 18,
     "metadata": {},
     "output_type": "execute_result"
    }
   ],
   "source": [
    "salary_by_jobType"
   ]
  },
  {
   "cell_type": "markdown",
   "metadata": {},
   "source": [
    "## OBSERVATIONS\n",
    "* Average SALARY is maximum for CEO and minimum for Janitor(almost half of CEO )\n",
    "* Almost Equal number of Observations for each Job type"
   ]
  },
  {
   "cell_type": "markdown",
   "metadata": {},
   "source": [
    "## GROUP SALARY BY YEARS OF EXPERIENCE"
   ]
  },
  {
   "cell_type": "code",
   "execution_count": 19,
   "metadata": {},
   "outputs": [
    {
     "data": {
      "image/png": "[encoded data removed]",
      "text/plain": [
       "<matplotlib.figure.Figure at 0x11b4fed68>"
      ]
     },
     "metadata": {},
     "output_type": "display_data"
    }
   ],
   "source": [
    "value=all_data.groupby(\"yearsExperience\").salary.agg(['count', 'mean', 'min', 'max'])\n",
    "value\n",
    "fig, axes = plt.subplots(nrows=2, ncols=2)\n",
    "value.plot(y='mean',kind=\"bar\",title=\"Mean Salary by Years of Experience\",ax=axes[0,0],figsize=(15,15))\n",
    "value.plot(y='max',kind=\"bar\",title=\"Max Salary by Years of Experience\",ax=axes[0,1])\n",
    "value.plot(y='count',kind=\"bar\",title=\"Count by Years of Experience\",ax=axes[1,0])\n",
    "value.plot(y='min',kind=\"bar\",title=\"Min Salary by Years of Experience\",ax=axes[1,1])\n",
    "fig.text(0.04,0.5, 'SALARY', va='center', rotation='vertical')\n",
    "\n",
    "plt.show()"
   ]
  },
  {
   "cell_type": "code",
   "execution_count": 20,
   "metadata": {},
   "outputs": [
    {
     "data": {
      "text/html": [
       "<div>\n",
       "<style>\n",
       "    .dataframe thead tr:only-child th {\n",
       "        text-align: right;\n",
       "    }\n",
       "\n",
       "    .dataframe thead th {\n",
       "        text-align: left;\n",
       "    }\n",
       "\n",
       "    .dataframe tbody tr th {\n",
       "        vertical-align: top;\n",
       "    }\n",
       "</style>\n",
       "<table border=\"1\" class=\"dataframe\">\n",
       "  <thead>\n",
       "    <tr style=\"text-align: right;\">\n",
       "      <th></th>\n",
       "      <th>count</th>\n",
       "      <th>mean</th>\n",
       "      <th>min</th>\n",
       "      <th>max</th>\n",
       "    </tr>\n",
       "    <tr>\n",
       "      <th>yearsExperience</th>\n",
       "      <th></th>\n",
       "      <th></th>\n",
       "      <th></th>\n",
       "      <th></th>\n",
       "    </tr>\n",
       "  </thead>\n",
       "  <tbody>\n",
       "    <tr>\n",
       "      <th>0</th>\n",
       "      <td>39839</td>\n",
       "      <td>91.873541</td>\n",
       "      <td>17</td>\n",
       "      <td>227</td>\n",
       "    </tr>\n",
       "    <tr>\n",
       "      <th>1</th>\n",
       "      <td>40265</td>\n",
       "      <td>93.960040</td>\n",
       "      <td>0</td>\n",
       "      <td>223</td>\n",
       "    </tr>\n",
       "    <tr>\n",
       "      <th>2</th>\n",
       "      <td>40045</td>\n",
       "      <td>96.125184</td>\n",
       "      <td>19</td>\n",
       "      <td>229</td>\n",
       "    </tr>\n",
       "    <tr>\n",
       "      <th>3</th>\n",
       "      <td>40191</td>\n",
       "      <td>98.090368</td>\n",
       "      <td>0</td>\n",
       "      <td>234</td>\n",
       "    </tr>\n",
       "    <tr>\n",
       "      <th>4</th>\n",
       "      <td>40036</td>\n",
       "      <td>100.014112</td>\n",
       "      <td>21</td>\n",
       "      <td>245</td>\n",
       "    </tr>\n",
       "  </tbody>\n",
       "</table>\n",
       "</div>"
      ],
      "text/plain": [
       "                 count        mean  min  max\n",
       "yearsExperience                             \n",
       "0                39839   91.873541   17  227\n",
       "1                40265   93.960040    0  223\n",
       "2                40045   96.125184   19  229\n",
       "3                40191   98.090368    0  234\n",
       "4                40036  100.014112   21  245"
      ]
     },
     "execution_count": 20,
     "metadata": {},
     "output_type": "execute_result"
    }
   ],
   "source": [
    "value[0:5]"
   ]
  },
  {
   "cell_type": "markdown",
   "metadata": {},
   "source": [
    "## OBSERVATIONS"
   ]
  },
  {
   "cell_type": "markdown",
   "metadata": {},
   "source": [
    "* We see a clear linear trend in increase of mean salary with years of expereince"
   ]
  },
  {
   "cell_type": "markdown",
   "metadata": {},
   "source": [
    "## GROUP SALARY BY YEARS OF miles from Metroplois"
   ]
  },
  {
   "cell_type": "code",
   "execution_count": 21,
   "metadata": {},
   "outputs": [
    {
     "data": {
      "text/plain": [
       "<matplotlib.text.Text at 0x11bea2780>"
      ]
     },
     "execution_count": 21,
     "metadata": {},
     "output_type": "execute_result"
    },
    {
     "data": {
      "image/png": "[encoded data removed]",
      "text/plain": [
       "<matplotlib.figure.Figure at 0x11ce15940>"
      ]
     },
     "metadata": {},
     "output_type": "display_data"
    }
   ],
   "source": [
    "value=all_data.groupby(\"milesFromMetropolis\").salary.agg(['count', 'mean', 'min', 'max'])\n",
    "value\n",
    "value.plot(y='mean',kind=\"bar\",title=\"Mean Salary by industry\",figsize=(20,5))\n",
    "plt.ylabel('Salary')\n",
    "# value.plot(y='max',kind=\"bar\",title=\"Max Salary by industry\",ax=axes[0,1])\n",
    "# value.plot(y='count',kind=\"bar\",title=\"Count by industry\",ax=axes[1,0])\n",
    "# value.plot(y='min',kind=\"bar\",title=\"Min Salary by industry\",ax=axes[1,1])\n",
    "\n",
    "# plt.show()"
   ]
  },
  {
   "cell_type": "markdown",
   "metadata": {},
   "source": [
    "## OBSERVATION\n",
    "\n",
    "* There is a clear trend that as distance from metropolis increases salary decreases"
   ]
  },
  {
   "cell_type": "code",
   "execution_count": 22,
   "metadata": {},
   "outputs": [
    {
     "data": {
      "text/plain": [
       "<matplotlib.axes._subplots.AxesSubplot at 0x10c798438>"
      ]
     },
     "execution_count": 22,
     "metadata": {},
     "output_type": "execute_result"
    },
    {
     "data": {
      "image/png": "[encoded data removed]",
      "text/plain": [
       "<matplotlib.figure.Figure at 0x11a3741d0>"
      ]
     },
     "metadata": {},
     "output_type": "display_data"
    }
   ],
   "source": [
    "#x=all_data.drop([\"yearsExperience\"],axis=1)\n",
    "all_data.groupby(\"degree\").mean().plot(kind=\"bar\")"
   ]
  },
  {
   "cell_type": "code",
   "execution_count": 23,
   "metadata": {},
   "outputs": [
    {
     "data": {
      "text/html": [
       "<div>\n",
       "<style>\n",
       "    .dataframe thead tr:only-child th {\n",
       "        text-align: right;\n",
       "    }\n",
       "\n",
       "    .dataframe thead th {\n",
       "        text-align: left;\n",
       "    }\n",
       "\n",
       "    .dataframe tbody tr th {\n",
       "        vertical-align: top;\n",
       "    }\n",
       "</style>\n",
       "<table border=\"1\" class=\"dataframe\">\n",
       "  <thead>\n",
       "    <tr style=\"text-align: right;\">\n",
       "      <th></th>\n",
       "      <th>jobId_</th>\n",
       "      <th>companyId</th>\n",
       "      <th>jobType</th>\n",
       "      <th>degree</th>\n",
       "      <th>major</th>\n",
       "      <th>industry</th>\n",
       "      <th>yearsExperience</th>\n",
       "      <th>milesFromMetropolis</th>\n",
       "      <th>jobId</th>\n",
       "      <th>salary</th>\n",
       "    </tr>\n",
       "  </thead>\n",
       "  <tbody>\n",
       "    <tr>\n",
       "      <th>0</th>\n",
       "      <td>JOB1362684407687</td>\n",
       "      <td>COMP37</td>\n",
       "      <td>CFO</td>\n",
       "      <td>MASTERS</td>\n",
       "      <td>MATH</td>\n",
       "      <td>HEALTH</td>\n",
       "      <td>10</td>\n",
       "      <td>83</td>\n",
       "      <td>JOB1362684407687</td>\n",
       "      <td>130</td>\n",
       "    </tr>\n",
       "    <tr>\n",
       "      <th>1</th>\n",
       "      <td>JOB1362684407688</td>\n",
       "      <td>COMP19</td>\n",
       "      <td>CEO</td>\n",
       "      <td>HIGH_SCHOOL</td>\n",
       "      <td>NONE</td>\n",
       "      <td>WEB</td>\n",
       "      <td>3</td>\n",
       "      <td>73</td>\n",
       "      <td>JOB1362684407688</td>\n",
       "      <td>101</td>\n",
       "    </tr>\n",
       "    <tr>\n",
       "      <th>2</th>\n",
       "      <td>JOB1362684407689</td>\n",
       "      <td>COMP52</td>\n",
       "      <td>VICE_PRESIDENT</td>\n",
       "      <td>DOCTORAL</td>\n",
       "      <td>PHYSICS</td>\n",
       "      <td>HEALTH</td>\n",
       "      <td>10</td>\n",
       "      <td>38</td>\n",
       "      <td>JOB1362684407689</td>\n",
       "      <td>137</td>\n",
       "    </tr>\n",
       "    <tr>\n",
       "      <th>3</th>\n",
       "      <td>JOB1362684407690</td>\n",
       "      <td>COMP38</td>\n",
       "      <td>MANAGER</td>\n",
       "      <td>DOCTORAL</td>\n",
       "      <td>CHEMISTRY</td>\n",
       "      <td>AUTO</td>\n",
       "      <td>8</td>\n",
       "      <td>17</td>\n",
       "      <td>JOB1362684407690</td>\n",
       "      <td>142</td>\n",
       "    </tr>\n",
       "    <tr>\n",
       "      <th>4</th>\n",
       "      <td>JOB1362684407691</td>\n",
       "      <td>COMP7</td>\n",
       "      <td>VICE_PRESIDENT</td>\n",
       "      <td>BACHELORS</td>\n",
       "      <td>PHYSICS</td>\n",
       "      <td>FINANCE</td>\n",
       "      <td>8</td>\n",
       "      <td>16</td>\n",
       "      <td>JOB1362684407691</td>\n",
       "      <td>163</td>\n",
       "    </tr>\n",
       "  </tbody>\n",
       "</table>\n",
       "</div>"
      ],
      "text/plain": [
       "             jobId_ companyId         jobType       degree      major  \\\n",
       "0  JOB1362684407687    COMP37             CFO      MASTERS       MATH   \n",
       "1  JOB1362684407688    COMP19             CEO  HIGH_SCHOOL       NONE   \n",
       "2  JOB1362684407689    COMP52  VICE_PRESIDENT     DOCTORAL    PHYSICS   \n",
       "3  JOB1362684407690    COMP38         MANAGER     DOCTORAL  CHEMISTRY   \n",
       "4  JOB1362684407691     COMP7  VICE_PRESIDENT    BACHELORS    PHYSICS   \n",
       "\n",
       "  industry  yearsExperience  milesFromMetropolis             jobId  salary  \n",
       "0   HEALTH               10                   83  JOB1362684407687     130  \n",
       "1      WEB                3                   73  JOB1362684407688     101  \n",
       "2   HEALTH               10                   38  JOB1362684407689     137  \n",
       "3     AUTO                8                   17  JOB1362684407690     142  \n",
       "4  FINANCE                8                   16  JOB1362684407691     163  "
      ]
     },
     "execution_count": 23,
     "metadata": {},
     "output_type": "execute_result"
    }
   ],
   "source": [
    "all_data.head()"
   ]
  },
  {
   "cell_type": "markdown",
   "metadata": {},
   "source": [
    "## Normalized count by Categorical Variables"
   ]
  },
  {
   "cell_type": "code",
   "execution_count": 24,
   "metadata": {},
   "outputs": [
    {
     "name": "stdout",
     "output_type": "stream",
     "text": [
      "degree-Normalized Count: \n",
      " HIGH_SCHOOL    0.236976\n",
      "NONE           0.236854\n",
      "BACHELORS      0.175495\n",
      "DOCTORAL       0.175364\n",
      "MASTERS        0.175311\n",
      "Name: degree, dtype: float64 \n",
      "\n",
      "industry-Normalized Count: \n",
      " WEB          0.143206\n",
      "AUTO         0.142943\n",
      "FINANCE      0.142867\n",
      "EDUCATION    0.142819\n",
      "OIL          0.142771\n",
      "HEALTH       0.142755\n",
      "SERVICE      0.142639\n",
      "Name: industry, dtype: float64 \n",
      "\n",
      "jobType-Normalized Count: \n",
      " SENIOR            0.125886\n",
      "VICE_PRESIDENT    0.125235\n",
      "MANAGER           0.125121\n",
      "CTO               0.125046\n",
      "JANITOR           0.124971\n",
      "CEO               0.124778\n",
      "JUNIOR            0.124594\n",
      "CFO               0.124369\n",
      "Name: jobType, dtype: float64 \n",
      "\n"
     ]
    }
   ],
   "source": [
    "print(\"degree-Normalized Count: \\n\",all_data.degree.value_counts(normalize=True),\"\\n\")\n",
    "print(\"industry-Normalized Count: \\n\",all_data.industry.value_counts(normalize=True),\"\\n\")\n",
    "print(\"jobType-Normalized Count: \\n\",all_data.jobType.value_counts(normalize=True),\"\\n\")"
   ]
  },
  {
   "cell_type": "markdown",
   "metadata": {},
   "source": [
    "There seems to be a uniform distrbution of examples between different categorical values"
   ]
  },
  {
   "cell_type": "markdown",
   "metadata": {},
   "source": [
    "## What Industry are most educated and least educated people working in?"
   ]
  },
  {
   "cell_type": "code",
   "execution_count": 25,
   "metadata": {},
   "outputs": [
    {
     "name": "stdout",
     "output_type": "stream",
     "text": [
      "industry         AUTO  EDUCATION   FINANCE    HEALTH       OIL   SERVICE  \\\n",
      "degree                                                                     \n",
      "BACHELORS    0.025212   0.025143  0.025065  0.025002  0.024922  0.025064   \n",
      "DOCTORAL     0.025231   0.025060  0.025085  0.025105  0.025187  0.024699   \n",
      "HIGH_SCHOOL  0.033581   0.034058  0.033769  0.033867  0.033959  0.033634   \n",
      "MASTERS      0.025006   0.024814  0.025088  0.025123  0.024975  0.025080   \n",
      "NONE         0.033913   0.033744  0.033860  0.033658  0.033728  0.034162   \n",
      "\n",
      "industry          WEB  \n",
      "degree                 \n",
      "BACHELORS    0.025087  \n",
      "DOCTORAL     0.024997  \n",
      "HIGH_SCHOOL  0.034108  \n",
      "MASTERS      0.025225  \n",
      "NONE         0.033789  \n"
     ]
    },
    {
     "data": {
      "text/plain": [
       "<matplotlib.axes._subplots.AxesSubplot at 0x11b64af60>"
      ]
     },
     "execution_count": 25,
     "metadata": {},
     "output_type": "execute_result"
    },
    {
     "data": {
      "image/png": "[encoded data removed]",
      "text/plain": [
       "<matplotlib.figure.Figure at 0x11bef6470>"
      ]
     },
     "metadata": {},
     "output_type": "display_data"
    }
   ],
   "source": [
    "table=pd.crosstab(all_data.degree, all_data.industry, normalize=True)\n",
    "print(table)\n",
    "table.plot(kind=\"bar\", \n",
    "                 figsize=(8,8),\n",
    "                 stacked=True)"
   ]
  },
  {
   "cell_type": "markdown",
   "metadata": {},
   "source": [
    "Most educated and least educated people are uniformly spread across all industries"
   ]
  },
  {
   "cell_type": "code",
   "execution_count": 26,
   "metadata": {},
   "outputs": [
    {
     "data": {
      "text/html": [
       "<div>\n",
       "<style>\n",
       "    .dataframe thead tr:only-child th {\n",
       "        text-align: right;\n",
       "    }\n",
       "\n",
       "    .dataframe thead th {\n",
       "        text-align: left;\n",
       "    }\n",
       "\n",
       "    .dataframe tbody tr th {\n",
       "        vertical-align: top;\n",
       "    }\n",
       "</style>\n",
       "<table border=\"1\" class=\"dataframe\">\n",
       "  <thead>\n",
       "    <tr style=\"text-align: right;\">\n",
       "      <th>industry</th>\n",
       "      <th>AUTO</th>\n",
       "      <th>EDUCATION</th>\n",
       "      <th>FINANCE</th>\n",
       "      <th>HEALTH</th>\n",
       "      <th>OIL</th>\n",
       "      <th>SERVICE</th>\n",
       "      <th>WEB</th>\n",
       "    </tr>\n",
       "    <tr>\n",
       "      <th>degree</th>\n",
       "      <th></th>\n",
       "      <th></th>\n",
       "      <th></th>\n",
       "      <th></th>\n",
       "      <th></th>\n",
       "      <th></th>\n",
       "      <th></th>\n",
       "    </tr>\n",
       "  </thead>\n",
       "  <tbody>\n",
       "    <tr>\n",
       "      <th>BACHELORS</th>\n",
       "      <td>0.025212</td>\n",
       "      <td>0.025143</td>\n",
       "      <td>0.025065</td>\n",
       "      <td>0.025002</td>\n",
       "      <td>0.024922</td>\n",
       "      <td>0.025064</td>\n",
       "      <td>0.025087</td>\n",
       "    </tr>\n",
       "    <tr>\n",
       "      <th>DOCTORAL</th>\n",
       "      <td>0.025231</td>\n",
       "      <td>0.025060</td>\n",
       "      <td>0.025085</td>\n",
       "      <td>0.025105</td>\n",
       "      <td>0.025187</td>\n",
       "      <td>0.024699</td>\n",
       "      <td>0.024997</td>\n",
       "    </tr>\n",
       "    <tr>\n",
       "      <th>HIGH_SCHOOL</th>\n",
       "      <td>0.033581</td>\n",
       "      <td>0.034058</td>\n",
       "      <td>0.033769</td>\n",
       "      <td>0.033867</td>\n",
       "      <td>0.033959</td>\n",
       "      <td>0.033634</td>\n",
       "      <td>0.034108</td>\n",
       "    </tr>\n",
       "    <tr>\n",
       "      <th>MASTERS</th>\n",
       "      <td>0.025006</td>\n",
       "      <td>0.024814</td>\n",
       "      <td>0.025088</td>\n",
       "      <td>0.025123</td>\n",
       "      <td>0.024975</td>\n",
       "      <td>0.025080</td>\n",
       "      <td>0.025225</td>\n",
       "    </tr>\n",
       "    <tr>\n",
       "      <th>NONE</th>\n",
       "      <td>0.033913</td>\n",
       "      <td>0.033744</td>\n",
       "      <td>0.033860</td>\n",
       "      <td>0.033658</td>\n",
       "      <td>0.033728</td>\n",
       "      <td>0.034162</td>\n",
       "      <td>0.033789</td>\n",
       "    </tr>\n",
       "  </tbody>\n",
       "</table>\n",
       "</div>"
      ],
      "text/plain": [
       "industry         AUTO  EDUCATION   FINANCE    HEALTH       OIL   SERVICE  \\\n",
       "degree                                                                     \n",
       "BACHELORS    0.025212   0.025143  0.025065  0.025002  0.024922  0.025064   \n",
       "DOCTORAL     0.025231   0.025060  0.025085  0.025105  0.025187  0.024699   \n",
       "HIGH_SCHOOL  0.033581   0.034058  0.033769  0.033867  0.033959  0.033634   \n",
       "MASTERS      0.025006   0.024814  0.025088  0.025123  0.024975  0.025080   \n",
       "NONE         0.033913   0.033744  0.033860  0.033658  0.033728  0.034162   \n",
       "\n",
       "industry          WEB  \n",
       "degree                 \n",
       "BACHELORS    0.025087  \n",
       "DOCTORAL     0.024997  \n",
       "HIGH_SCHOOL  0.034108  \n",
       "MASTERS      0.025225  \n",
       "NONE         0.033789  "
      ]
     },
     "execution_count": 26,
     "metadata": {},
     "output_type": "execute_result"
    }
   ],
   "source": [
    "table"
   ]
  },
  {
   "cell_type": "code",
   "execution_count": 27,
   "metadata": {},
   "outputs": [
    {
     "name": "stdout",
     "output_type": "stream",
     "text": [
      "jobType           CEO       CFO       CTO   JANITOR    JUNIOR   MANAGER  \\\n",
      "degree                                                                    \n",
      "BACHELORS    0.025123  0.024983  0.025057  0.000000  0.024872  0.025018   \n",
      "DOCTORAL     0.025145  0.024697  0.024920  0.000000  0.025021  0.024968   \n",
      "HIGH_SCHOOL  0.024721  0.024912  0.024894  0.062427  0.025080  0.024895   \n",
      "MASTERS      0.024891  0.025063  0.025293  0.000000  0.024839  0.025148   \n",
      "NONE         0.024898  0.024714  0.024882  0.062544  0.024782  0.025092   \n",
      "\n",
      "jobType        SENIOR  VICE_PRESIDENT  \n",
      "degree                                 \n",
      "BACHELORS    0.025318        0.025124  \n",
      "DOCTORAL     0.025379        0.025234  \n",
      "HIGH_SCHOOL  0.024846        0.025201  \n",
      "MASTERS      0.025226        0.024851  \n",
      "NONE         0.025117        0.024825  \n"
     ]
    },
    {
     "data": {
      "text/plain": [
       "<matplotlib.axes._subplots.AxesSubplot at 0x11b614fd0>"
      ]
     },
     "execution_count": 27,
     "metadata": {},
     "output_type": "execute_result"
    },
    {
     "data": {
      "image/png": "[encoded data removed]",
      "text/plain": [
       "<matplotlib.figure.Figure at 0x11bf0ef60>"
      ]
     },
     "metadata": {},
     "output_type": "display_data"
    }
   ],
   "source": [
    "table=pd.crosstab(all_data.degree, all_data.jobType, normalize=True)\n",
    "print(table)\n",
    "table.plot(kind=\"bar\", \n",
    "                 figsize=(8,8),\n",
    "                 stacked=True)"
   ]
  },
  {
   "cell_type": "markdown",
   "metadata": {},
   "source": [
    "* High school degree holders as likely to become CEO's  as PhD holders\n",
    "* All Janitors have high school or 'NONE' degree"
   ]
  },
  {
   "cell_type": "code",
   "execution_count": 28,
   "metadata": {
    "collapsed": true
   },
   "outputs": [],
   "source": [
    "## SALARY by confidence Intervals"
   ]
  },
  {
   "cell_type": "code",
   "execution_count": 29,
   "metadata": {},
   "outputs": [
    {
     "data": {
      "text/plain": [
       "<matplotlib.axes._subplots.AxesSubplot at 0x11f918eb8>"
      ]
     },
     "execution_count": 29,
     "metadata": {},
     "output_type": "execute_result"
    },
    {
     "data": {
      "image/png": "[encoded data removed]",
      "text/plain": [
       "<matplotlib.figure.Figure at 0x11bdd32e8>"
      ]
     },
     "metadata": {},
     "output_type": "display_data"
    }
   ],
   "source": [
    "all_data.boxplot(column=\"salary\",        # Column to plot\n",
    "                 by= \"jobType\",         # Column to split upon\n",
    "                 figsize= (8,8))        # Figure size"
   ]
  },
  {
   "cell_type": "code",
   "execution_count": 30,
   "metadata": {},
   "outputs": [
    {
     "data": {
      "text/plain": [
       "<matplotlib.axes._subplots.AxesSubplot at 0x122df6c18>"
      ]
     },
     "execution_count": 30,
     "metadata": {},
     "output_type": "execute_result"
    },
    {
     "data": {
      "image/png": "[encoded data removed]",
      "text/plain": [
       "<matplotlib.figure.Figure at 0x11bdcd6a0>"
      ]
     },
     "metadata": {},
     "output_type": "display_data"
    }
   ],
   "source": [
    "all_data.boxplot(column=\"salary\",        # Column to plot\n",
    "                 by= \"degree\",         # Column to split upon\n",
    "                 figsize= (8,8))        # Figure size"
   ]
  },
  {
   "cell_type": "code",
   "execution_count": 31,
   "metadata": {},
   "outputs": [
    {
     "data": {
      "text/plain": [
       "<matplotlib.axes._subplots.AxesSubplot at 0x118b53940>"
      ]
     },
     "execution_count": 31,
     "metadata": {},
     "output_type": "execute_result"
    },
    {
     "data": {
      "image/png": "[encoded data removed]",
      "text/plain": [
       "<matplotlib.figure.Figure at 0x118b5ed68>"
      ]
     },
     "metadata": {},
     "output_type": "display_data"
    }
   ],
   "source": [
    "all_data.boxplot(column=\"salary\",        # Column to plot\n",
    "                 by= \"industry\",         # Column to split upon\n",
    "                 figsize= (8,8))        # Figure size"
   ]
  },
  {
   "cell_type": "markdown",
   "metadata": {},
   "source": [
    "## Salary Distribution"
   ]
  },
  {
   "cell_type": "code",
   "execution_count": 32,
   "metadata": {},
   "outputs": [
    {
     "data": {
      "text/plain": [
       "<matplotlib.axes._subplots.AxesSubplot at 0x11f24f550>"
      ]
     },
     "execution_count": 32,
     "metadata": {},
     "output_type": "execute_result"
    },
    {
     "data": {
      "image/png": "[encoded data removed]",
      "text/plain": [
       "<matplotlib.figure.Figure at 0x11b63e908>"
      ]
     },
     "metadata": {},
     "output_type": "display_data"
    }
   ],
   "source": [
    "sns.distplot((salaries[\"salary\"]))"
   ]
  },
  {
   "cell_type": "markdown",
   "metadata": {},
   "source": [
    "* Salary is normally distributed no need for transformations."
   ]
  },
  {
   "cell_type": "code",
   "execution_count": 33,
   "metadata": {},
   "outputs": [
    {
     "data": {
      "text/plain": [
       "count    1000000.000000\n",
       "mean         116.061818\n",
       "std           38.717936\n",
       "min            0.000000\n",
       "25%           88.000000\n",
       "50%          114.000000\n",
       "75%          141.000000\n",
       "max          301.000000\n",
       "Name: salary, dtype: float64"
      ]
     },
     "execution_count": 33,
     "metadata": {},
     "output_type": "execute_result"
    }
   ],
   "source": [
    "all_data.salary.describe()"
   ]
  },
  {
   "cell_type": "markdown",
   "metadata": {},
   "source": [
    "* Salary is normally distribued with a mean of 116K"
   ]
  },
  {
   "cell_type": "code",
   "execution_count": 34,
   "metadata": {
    "collapsed": true
   },
   "outputs": [],
   "source": [
    "###recode degree as ordinal and JobType may have to be done\n",
    "##maycome back and recode to dummy variables\n",
    "all_data['degree'] = all_data['degree'].astype('category')\n",
    "all_data['degree'] = all_data['degree'].cat.reorder_categories(['NONE','HIGH_SCHOOL','BACHELORS','MASTERS', 'DOCTORAL'], ordered=True)\n",
    "all_data['degree1'] = all_data['degree'].cat.codes"
   ]
  },
  {
   "cell_type": "code",
   "execution_count": 35,
   "metadata": {
    "collapsed": true
   },
   "outputs": [],
   "source": [
    "###transform other variables into dummies\n",
    "for t in ['jobType','major','industry']:\n",
    "    new=pd.get_dummies(features[t],prefix=t)\n",
    "    all_data=pd.concat([features, new], axis=1)"
   ]
  },
  {
   "cell_type": "code",
   "execution_count": 36,
   "metadata": {},
   "outputs": [
    {
     "data": {
      "text/html": [
       "<div>\n",
       "<style>\n",
       "    .dataframe thead tr:only-child th {\n",
       "        text-align: right;\n",
       "    }\n",
       "\n",
       "    .dataframe thead th {\n",
       "        text-align: left;\n",
       "    }\n",
       "\n",
       "    .dataframe tbody tr th {\n",
       "        vertical-align: top;\n",
       "    }\n",
       "</style>\n",
       "<table border=\"1\" class=\"dataframe\">\n",
       "  <thead>\n",
       "    <tr style=\"text-align: right;\">\n",
       "      <th></th>\n",
       "      <th>yearsExperience</th>\n",
       "      <th>milesFromMetropolis</th>\n",
       "      <th>industry_AUTO</th>\n",
       "      <th>industry_EDUCATION</th>\n",
       "      <th>industry_FINANCE</th>\n",
       "      <th>industry_HEALTH</th>\n",
       "      <th>industry_OIL</th>\n",
       "      <th>industry_SERVICE</th>\n",
       "      <th>industry_WEB</th>\n",
       "    </tr>\n",
       "  </thead>\n",
       "  <tbody>\n",
       "    <tr>\n",
       "      <th>count</th>\n",
       "      <td>1000000.000000</td>\n",
       "      <td>1000000.000000</td>\n",
       "      <td>1000000.000000</td>\n",
       "      <td>1000000.000000</td>\n",
       "      <td>1000000.000000</td>\n",
       "      <td>1000000.000000</td>\n",
       "      <td>1000000.000000</td>\n",
       "      <td>1000000.000000</td>\n",
       "      <td>1000000.000000</td>\n",
       "    </tr>\n",
       "    <tr>\n",
       "      <th>mean</th>\n",
       "      <td>11.992386</td>\n",
       "      <td>49.529260</td>\n",
       "      <td>0.142943</td>\n",
       "      <td>0.142819</td>\n",
       "      <td>0.142867</td>\n",
       "      <td>0.142755</td>\n",
       "      <td>0.142771</td>\n",
       "      <td>0.142639</td>\n",
       "      <td>0.143206</td>\n",
       "    </tr>\n",
       "    <tr>\n",
       "      <th>std</th>\n",
       "      <td>7.212391</td>\n",
       "      <td>28.877733</td>\n",
       "      <td>0.350015</td>\n",
       "      <td>0.349888</td>\n",
       "      <td>0.349937</td>\n",
       "      <td>0.349823</td>\n",
       "      <td>0.349839</td>\n",
       "      <td>0.349705</td>\n",
       "      <td>0.350283</td>\n",
       "    </tr>\n",
       "    <tr>\n",
       "      <th>min</th>\n",
       "      <td>0.000000</td>\n",
       "      <td>0.000000</td>\n",
       "      <td>0.000000</td>\n",
       "      <td>0.000000</td>\n",
       "      <td>0.000000</td>\n",
       "      <td>0.000000</td>\n",
       "      <td>0.000000</td>\n",
       "      <td>0.000000</td>\n",
       "      <td>0.000000</td>\n",
       "    </tr>\n",
       "    <tr>\n",
       "      <th>25%</th>\n",
       "      <td>6.000000</td>\n",
       "      <td>25.000000</td>\n",
       "      <td>0.000000</td>\n",
       "      <td>0.000000</td>\n",
       "      <td>0.000000</td>\n",
       "      <td>0.000000</td>\n",
       "      <td>0.000000</td>\n",
       "      <td>0.000000</td>\n",
       "      <td>0.000000</td>\n",
       "    </tr>\n",
       "    <tr>\n",
       "      <th>50%</th>\n",
       "      <td>12.000000</td>\n",
       "      <td>50.000000</td>\n",
       "      <td>0.000000</td>\n",
       "      <td>0.000000</td>\n",
       "      <td>0.000000</td>\n",
       "      <td>0.000000</td>\n",
       "      <td>0.000000</td>\n",
       "      <td>0.000000</td>\n",
       "      <td>0.000000</td>\n",
       "    </tr>\n",
       "    <tr>\n",
       "      <th>75%</th>\n",
       "      <td>18.000000</td>\n",
       "      <td>75.000000</td>\n",
       "      <td>0.000000</td>\n",
       "      <td>0.000000</td>\n",
       "      <td>0.000000</td>\n",
       "      <td>0.000000</td>\n",
       "      <td>0.000000</td>\n",
       "      <td>0.000000</td>\n",
       "      <td>0.000000</td>\n",
       "    </tr>\n",
       "    <tr>\n",
       "      <th>max</th>\n",
       "      <td>24.000000</td>\n",
       "      <td>99.000000</td>\n",
       "      <td>1.000000</td>\n",
       "      <td>1.000000</td>\n",
       "      <td>1.000000</td>\n",
       "      <td>1.000000</td>\n",
       "      <td>1.000000</td>\n",
       "      <td>1.000000</td>\n",
       "      <td>1.000000</td>\n",
       "    </tr>\n",
       "  </tbody>\n",
       "</table>\n",
       "</div>"
      ],
      "text/plain": [
       "       yearsExperience  milesFromMetropolis   industry_AUTO  \\\n",
       "count   1000000.000000       1000000.000000  1000000.000000   \n",
       "mean         11.992386            49.529260        0.142943   \n",
       "std           7.212391            28.877733        0.350015   \n",
       "min           0.000000             0.000000        0.000000   \n",
       "25%           6.000000            25.000000        0.000000   \n",
       "50%          12.000000            50.000000        0.000000   \n",
       "75%          18.000000            75.000000        0.000000   \n",
       "max          24.000000            99.000000        1.000000   \n",
       "\n",
       "       industry_EDUCATION  industry_FINANCE  industry_HEALTH    industry_OIL  \\\n",
       "count      1000000.000000    1000000.000000   1000000.000000  1000000.000000   \n",
       "mean             0.142819          0.142867         0.142755        0.142771   \n",
       "std              0.349888          0.349937         0.349823        0.349839   \n",
       "min              0.000000          0.000000         0.000000        0.000000   \n",
       "25%              0.000000          0.000000         0.000000        0.000000   \n",
       "50%              0.000000          0.000000         0.000000        0.000000   \n",
       "75%              0.000000          0.000000         0.000000        0.000000   \n",
       "max              1.000000          1.000000         1.000000        1.000000   \n",
       "\n",
       "       industry_SERVICE    industry_WEB  \n",
       "count    1000000.000000  1000000.000000  \n",
       "mean           0.142639        0.143206  \n",
       "std            0.349705        0.350283  \n",
       "min            0.000000        0.000000  \n",
       "25%            0.000000        0.000000  \n",
       "50%            0.000000        0.000000  \n",
       "75%            0.000000        0.000000  \n",
       "max            1.000000        1.000000  "
      ]
     },
     "execution_count": 36,
     "metadata": {},
     "output_type": "execute_result"
    }
   ],
   "source": [
    "all_data.describe()"
   ]
  },
  {
   "cell_type": "code",
   "execution_count": 37,
   "metadata": {},
   "outputs": [
    {
     "data": {
      "text/html": [
       "<div>\n",
       "<style>\n",
       "    .dataframe thead tr:only-child th {\n",
       "        text-align: right;\n",
       "    }\n",
       "\n",
       "    .dataframe thead th {\n",
       "        text-align: left;\n",
       "    }\n",
       "\n",
       "    .dataframe tbody tr th {\n",
       "        vertical-align: top;\n",
       "    }\n",
       "</style>\n",
       "<table border=\"1\" class=\"dataframe\">\n",
       "  <thead>\n",
       "    <tr style=\"text-align: right;\">\n",
       "      <th></th>\n",
       "      <th>yearsExperience</th>\n",
       "      <th>milesFromMetropolis</th>\n",
       "      <th>industry_AUTO</th>\n",
       "      <th>industry_EDUCATION</th>\n",
       "      <th>industry_FINANCE</th>\n",
       "      <th>industry_HEALTH</th>\n",
       "      <th>industry_OIL</th>\n",
       "      <th>industry_SERVICE</th>\n",
       "      <th>industry_WEB</th>\n",
       "    </tr>\n",
       "  </thead>\n",
       "  <tbody>\n",
       "    <tr>\n",
       "      <th>yearsExperience</th>\n",
       "      <td>1.000000</td>\n",
       "      <td>0.000673</td>\n",
       "      <td>-0.001003</td>\n",
       "      <td>0.000437</td>\n",
       "      <td>0.000981</td>\n",
       "      <td>-0.001105</td>\n",
       "      <td>0.000798</td>\n",
       "      <td>0.000129</td>\n",
       "      <td>-0.000236</td>\n",
       "    </tr>\n",
       "    <tr>\n",
       "      <th>milesFromMetropolis</th>\n",
       "      <td>0.000673</td>\n",
       "      <td>1.000000</td>\n",
       "      <td>0.000343</td>\n",
       "      <td>0.000808</td>\n",
       "      <td>0.000048</td>\n",
       "      <td>-0.000398</td>\n",
       "      <td>-0.000551</td>\n",
       "      <td>0.000687</td>\n",
       "      <td>-0.000936</td>\n",
       "    </tr>\n",
       "    <tr>\n",
       "      <th>industry_AUTO</th>\n",
       "      <td>-0.001003</td>\n",
       "      <td>0.000343</td>\n",
       "      <td>1.000000</td>\n",
       "      <td>-0.166699</td>\n",
       "      <td>-0.166732</td>\n",
       "      <td>-0.166656</td>\n",
       "      <td>-0.166666</td>\n",
       "      <td>-0.166577</td>\n",
       "      <td>-0.166963</td>\n",
       "    </tr>\n",
       "    <tr>\n",
       "      <th>industry_EDUCATION</th>\n",
       "      <td>0.000437</td>\n",
       "      <td>0.000808</td>\n",
       "      <td>-0.166699</td>\n",
       "      <td>1.000000</td>\n",
       "      <td>-0.166647</td>\n",
       "      <td>-0.166571</td>\n",
       "      <td>-0.166582</td>\n",
       "      <td>-0.166492</td>\n",
       "      <td>-0.166878</td>\n",
       "    </tr>\n",
       "    <tr>\n",
       "      <th>industry_FINANCE</th>\n",
       "      <td>0.000981</td>\n",
       "      <td>0.000048</td>\n",
       "      <td>-0.166732</td>\n",
       "      <td>-0.166647</td>\n",
       "      <td>1.000000</td>\n",
       "      <td>-0.166604</td>\n",
       "      <td>-0.166615</td>\n",
       "      <td>-0.166525</td>\n",
       "      <td>-0.166911</td>\n",
       "    </tr>\n",
       "    <tr>\n",
       "      <th>industry_HEALTH</th>\n",
       "      <td>-0.001105</td>\n",
       "      <td>-0.000398</td>\n",
       "      <td>-0.166656</td>\n",
       "      <td>-0.166571</td>\n",
       "      <td>-0.166604</td>\n",
       "      <td>1.000000</td>\n",
       "      <td>-0.166539</td>\n",
       "      <td>-0.166449</td>\n",
       "      <td>-0.166834</td>\n",
       "    </tr>\n",
       "    <tr>\n",
       "      <th>industry_OIL</th>\n",
       "      <td>0.000798</td>\n",
       "      <td>-0.000551</td>\n",
       "      <td>-0.166666</td>\n",
       "      <td>-0.166582</td>\n",
       "      <td>-0.166615</td>\n",
       "      <td>-0.166539</td>\n",
       "      <td>1.000000</td>\n",
       "      <td>-0.166460</td>\n",
       "      <td>-0.166845</td>\n",
       "    </tr>\n",
       "    <tr>\n",
       "      <th>industry_SERVICE</th>\n",
       "      <td>0.000129</td>\n",
       "      <td>0.000687</td>\n",
       "      <td>-0.166577</td>\n",
       "      <td>-0.166492</td>\n",
       "      <td>-0.166525</td>\n",
       "      <td>-0.166449</td>\n",
       "      <td>-0.166460</td>\n",
       "      <td>1.000000</td>\n",
       "      <td>-0.166755</td>\n",
       "    </tr>\n",
       "    <tr>\n",
       "      <th>industry_WEB</th>\n",
       "      <td>-0.000236</td>\n",
       "      <td>-0.000936</td>\n",
       "      <td>-0.166963</td>\n",
       "      <td>-0.166878</td>\n",
       "      <td>-0.166911</td>\n",
       "      <td>-0.166834</td>\n",
       "      <td>-0.166845</td>\n",
       "      <td>-0.166755</td>\n",
       "      <td>1.000000</td>\n",
       "    </tr>\n",
       "  </tbody>\n",
       "</table>\n",
       "</div>"
      ],
      "text/plain": [
       "                     yearsExperience  milesFromMetropolis  industry_AUTO  \\\n",
       "yearsExperience             1.000000             0.000673      -0.001003   \n",
       "milesFromMetropolis         0.000673             1.000000       0.000343   \n",
       "industry_AUTO              -0.001003             0.000343       1.000000   \n",
       "industry_EDUCATION          0.000437             0.000808      -0.166699   \n",
       "industry_FINANCE            0.000981             0.000048      -0.166732   \n",
       "industry_HEALTH            -0.001105            -0.000398      -0.166656   \n",
       "industry_OIL                0.000798            -0.000551      -0.166666   \n",
       "industry_SERVICE            0.000129             0.000687      -0.166577   \n",
       "industry_WEB               -0.000236            -0.000936      -0.166963   \n",
       "\n",
       "                     industry_EDUCATION  industry_FINANCE  industry_HEALTH  \\\n",
       "yearsExperience                0.000437          0.000981        -0.001105   \n",
       "milesFromMetropolis            0.000808          0.000048        -0.000398   \n",
       "industry_AUTO                 -0.166699         -0.166732        -0.166656   \n",
       "industry_EDUCATION             1.000000         -0.166647        -0.166571   \n",
       "industry_FINANCE              -0.166647          1.000000        -0.166604   \n",
       "industry_HEALTH               -0.166571         -0.166604         1.000000   \n",
       "industry_OIL                  -0.166582         -0.166615        -0.166539   \n",
       "industry_SERVICE              -0.166492         -0.166525        -0.166449   \n",
       "industry_WEB                  -0.166878         -0.166911        -0.166834   \n",
       "\n",
       "                     industry_OIL  industry_SERVICE  industry_WEB  \n",
       "yearsExperience          0.000798          0.000129     -0.000236  \n",
       "milesFromMetropolis     -0.000551          0.000687     -0.000936  \n",
       "industry_AUTO           -0.166666         -0.166577     -0.166963  \n",
       "industry_EDUCATION      -0.166582         -0.166492     -0.166878  \n",
       "industry_FINANCE        -0.166615         -0.166525     -0.166911  \n",
       "industry_HEALTH         -0.166539         -0.166449     -0.166834  \n",
       "industry_OIL             1.000000         -0.166460     -0.166845  \n",
       "industry_SERVICE        -0.166460          1.000000     -0.166755  \n",
       "industry_WEB            -0.166845         -0.166755      1.000000  "
      ]
     },
     "execution_count": 37,
     "metadata": {},
     "output_type": "execute_result"
    }
   ],
   "source": [
    "###run correlation matrix\n",
    "corr=all_data.corr()\n",
    "corr"
   ]
  },
  {
   "cell_type": "code",
   "execution_count": 38,
   "metadata": {},
   "outputs": [
    {
     "data": {
      "image/png": "[encoded data removed]",
      "text/plain": [
       "<matplotlib.figure.Figure at 0x11f0ad588>"
      ]
     },
     "metadata": {},
     "output_type": "display_data"
    }
   ],
   "source": [
    "f, ax = plt.subplots(figsize=(10, 10))\n",
    "cmap = sns.diverging_palette(220, 10, as_cmap=True)\n",
    "\n",
    "sns.heatmap(all_data.corr(),linewidths=0.25,vmax=1.0,cmap=cmap,square=True, linecolor='black')\n",
    "sns.plt.show()\n"
   ]
  },
  {
   "cell_type": "code",
   "execution_count": 57,
   "metadata": {},
   "outputs": [
    {
     "data": {
      "text/plain": [
       "array(['COMP37', 'COMP19', 'COMP52', 'COMP38', 'COMP7', 'COMP15', 'COMP24',\n",
       "       'COMP20', 'COMP41', 'COMP56', 'COMP4', 'COMP54', 'COMP57', 'COMP14',\n",
       "       'COMP61', 'COMP58', 'COMP3', 'COMP44', 'COMP30', 'COMP27', 'COMP34',\n",
       "       'COMP11', 'COMP31', 'COMP49', 'COMP0', 'COMP1', 'COMP36', 'COMP47',\n",
       "       'COMP8', 'COMP42', 'COMP50', 'COMP53', 'COMP48', 'COMP45', 'COMP46',\n",
       "       'COMP2', 'COMP5', 'COMP55', 'COMP29', 'COMP40', 'COMP33', 'COMP22',\n",
       "       'COMP12', 'COMP25', 'COMP6', 'COMP23', 'COMP17', 'COMP28', 'COMP21',\n",
       "       'COMP26', 'COMP43', 'COMP51', 'COMP10', 'COMP59', 'COMP13',\n",
       "       'COMP39', 'COMP16', 'COMP9', 'COMP32', 'COMP62', 'COMP35', 'COMP18',\n",
       "       'COMP60'], dtype=object)"
      ]
     },
     "execution_count": 57,
     "metadata": {},
     "output_type": "execute_result"
    }
   ],
   "source": [
    "features.companyId.unique()\n"
   ]
  },
  {
   "cell_type": "code",
   "execution_count": 62,
   "metadata": {},
   "outputs": [
    {
     "data": {
      "text/plain": [
       "['jobType', 'degree', 'major', 'industry']"
      ]
     },
     "execution_count": 62,
     "metadata": {},
     "output_type": "execute_result"
    }
   ],
   "source": [
    "train_data=features.drop([\"jobId\",\"companyId\"],axis=1)\n",
    "objects = list(train_data.select_dtypes(include=['object']).columns)\n",
    "objects"
   ]
  },
  {
   "cell_type": "code",
   "execution_count": 63,
   "metadata": {
    "collapsed": true
   },
   "outputs": [],
   "source": [
    "from sklearn.feature_extraction import DictVectorizer\n",
    "\n",
    "def one_hot_dataframe(data, cols, replace=False):\n",
    "    vec = DictVectorizer()\n",
    "    mkdict = lambda row: dict((col, row[col]) for col in cols)\n",
    "    vecData = pd.DataFrame(vec.fit_transform(data[cols].apply(mkdict, axis=1)).toarray())\n",
    "    vecData.columns = vec.get_feature_names()\n",
    "    vecData.index = data.index\n",
    "    if replace is True:\n",
    "        data = data.drop(cols, axis=1)\n",
    "        data = data.join(vecData)\n",
    "    return (data, vecData, vec)\n"
   ]
  },
  {
   "cell_type": "code",
   "execution_count": 66,
   "metadata": {},
   "outputs": [
    {
     "data": {
      "text/html": [
       "<div>\n",
       "<style>\n",
       "    .dataframe thead tr:only-child th {\n",
       "        text-align: right;\n",
       "    }\n",
       "\n",
       "    .dataframe thead th {\n",
       "        text-align: left;\n",
       "    }\n",
       "\n",
       "    .dataframe tbody tr th {\n",
       "        vertical-align: top;\n",
       "    }\n",
       "</style>\n",
       "<table border=\"1\" class=\"dataframe\">\n",
       "  <thead>\n",
       "    <tr style=\"text-align: right;\">\n",
       "      <th></th>\n",
       "      <th>yearsExperience</th>\n",
       "      <th>milesFromMetropolis</th>\n",
       "      <th>degree=BACHELORS</th>\n",
       "      <th>degree=DOCTORAL</th>\n",
       "      <th>degree=HIGH_SCHOOL</th>\n",
       "      <th>degree=MASTERS</th>\n",
       "      <th>degree=NONE</th>\n",
       "      <th>industry=AUTO</th>\n",
       "      <th>industry=EDUCATION</th>\n",
       "      <th>industry=FINANCE</th>\n",
       "      <th>...</th>\n",
       "      <th>jobType=VICE_PRESIDENT</th>\n",
       "      <th>major=BIOLOGY</th>\n",
       "      <th>major=BUSINESS</th>\n",
       "      <th>major=CHEMISTRY</th>\n",
       "      <th>major=COMPSCI</th>\n",
       "      <th>major=ENGINEERING</th>\n",
       "      <th>major=LITERATURE</th>\n",
       "      <th>major=MATH</th>\n",
       "      <th>major=NONE</th>\n",
       "      <th>major=PHYSICS</th>\n",
       "    </tr>\n",
       "  </thead>\n",
       "  <tbody>\n",
       "    <tr>\n",
       "      <th>0</th>\n",
       "      <td>10</td>\n",
       "      <td>83</td>\n",
       "      <td>0.0</td>\n",
       "      <td>0.0</td>\n",
       "      <td>0.0</td>\n",
       "      <td>1.0</td>\n",
       "      <td>0.0</td>\n",
       "      <td>0.0</td>\n",
       "      <td>0.0</td>\n",
       "      <td>0.0</td>\n",
       "      <td>...</td>\n",
       "      <td>0.0</td>\n",
       "      <td>0.0</td>\n",
       "      <td>0.0</td>\n",
       "      <td>0.0</td>\n",
       "      <td>0.0</td>\n",
       "      <td>0.0</td>\n",
       "      <td>0.0</td>\n",
       "      <td>1.0</td>\n",
       "      <td>0.0</td>\n",
       "      <td>0.0</td>\n",
       "    </tr>\n",
       "    <tr>\n",
       "      <th>1</th>\n",
       "      <td>3</td>\n",
       "      <td>73</td>\n",
       "      <td>0.0</td>\n",
       "      <td>0.0</td>\n",
       "      <td>1.0</td>\n",
       "      <td>0.0</td>\n",
       "      <td>0.0</td>\n",
       "      <td>0.0</td>\n",
       "      <td>0.0</td>\n",
       "      <td>0.0</td>\n",
       "      <td>...</td>\n",
       "      <td>0.0</td>\n",
       "      <td>0.0</td>\n",
       "      <td>0.0</td>\n",
       "      <td>0.0</td>\n",
       "      <td>0.0</td>\n",
       "      <td>0.0</td>\n",
       "      <td>0.0</td>\n",
       "      <td>0.0</td>\n",
       "      <td>1.0</td>\n",
       "      <td>0.0</td>\n",
       "    </tr>\n",
       "    <tr>\n",
       "      <th>2</th>\n",
       "      <td>10</td>\n",
       "      <td>38</td>\n",
       "      <td>0.0</td>\n",
       "      <td>1.0</td>\n",
       "      <td>0.0</td>\n",
       "      <td>0.0</td>\n",
       "      <td>0.0</td>\n",
       "      <td>0.0</td>\n",
       "      <td>0.0</td>\n",
       "      <td>0.0</td>\n",
       "      <td>...</td>\n",
       "      <td>1.0</td>\n",
       "      <td>0.0</td>\n",
       "      <td>0.0</td>\n",
       "      <td>0.0</td>\n",
       "      <td>0.0</td>\n",
       "      <td>0.0</td>\n",
       "      <td>0.0</td>\n",
       "      <td>0.0</td>\n",
       "      <td>0.0</td>\n",
       "      <td>1.0</td>\n",
       "    </tr>\n",
       "    <tr>\n",
       "      <th>3</th>\n",
       "      <td>8</td>\n",
       "      <td>17</td>\n",
       "      <td>0.0</td>\n",
       "      <td>1.0</td>\n",
       "      <td>0.0</td>\n",
       "      <td>0.0</td>\n",
       "      <td>0.0</td>\n",
       "      <td>1.0</td>\n",
       "      <td>0.0</td>\n",
       "      <td>0.0</td>\n",
       "      <td>...</td>\n",
       "      <td>0.0</td>\n",
       "      <td>0.0</td>\n",
       "      <td>0.0</td>\n",
       "      <td>1.0</td>\n",
       "      <td>0.0</td>\n",
       "      <td>0.0</td>\n",
       "      <td>0.0</td>\n",
       "      <td>0.0</td>\n",
       "      <td>0.0</td>\n",
       "      <td>0.0</td>\n",
       "    </tr>\n",
       "    <tr>\n",
       "      <th>4</th>\n",
       "      <td>8</td>\n",
       "      <td>16</td>\n",
       "      <td>1.0</td>\n",
       "      <td>0.0</td>\n",
       "      <td>0.0</td>\n",
       "      <td>0.0</td>\n",
       "      <td>0.0</td>\n",
       "      <td>0.0</td>\n",
       "      <td>0.0</td>\n",
       "      <td>1.0</td>\n",
       "      <td>...</td>\n",
       "      <td>1.0</td>\n",
       "      <td>0.0</td>\n",
       "      <td>0.0</td>\n",
       "      <td>0.0</td>\n",
       "      <td>0.0</td>\n",
       "      <td>0.0</td>\n",
       "      <td>0.0</td>\n",
       "      <td>0.0</td>\n",
       "      <td>0.0</td>\n",
       "      <td>1.0</td>\n",
       "    </tr>\n",
       "  </tbody>\n",
       "</table>\n",
       "<p>5 rows × 31 columns</p>\n",
       "</div>"
      ],
      "text/plain": [
       "   yearsExperience  milesFromMetropolis  degree=BACHELORS  degree=DOCTORAL  \\\n",
       "0               10                   83               0.0              0.0   \n",
       "1                3                   73               0.0              0.0   \n",
       "2               10                   38               0.0              1.0   \n",
       "3                8                   17               0.0              1.0   \n",
       "4                8                   16               1.0              0.0   \n",
       "\n",
       "   degree=HIGH_SCHOOL  degree=MASTERS  degree=NONE  industry=AUTO  \\\n",
       "0                 0.0             1.0          0.0            0.0   \n",
       "1                 1.0             0.0          0.0            0.0   \n",
       "2                 0.0             0.0          0.0            0.0   \n",
       "3                 0.0             0.0          0.0            1.0   \n",
       "4                 0.0             0.0          0.0            0.0   \n",
       "\n",
       "   industry=EDUCATION  industry=FINANCE      ...        \\\n",
       "0                 0.0               0.0      ...         \n",
       "1                 0.0               0.0      ...         \n",
       "2                 0.0               0.0      ...         \n",
       "3                 0.0               0.0      ...         \n",
       "4                 0.0               1.0      ...         \n",
       "\n",
       "   jobType=VICE_PRESIDENT  major=BIOLOGY  major=BUSINESS  major=CHEMISTRY  \\\n",
       "0                     0.0            0.0             0.0              0.0   \n",
       "1                     0.0            0.0             0.0              0.0   \n",
       "2                     1.0            0.0             0.0              0.0   \n",
       "3                     0.0            0.0             0.0              1.0   \n",
       "4                     1.0            0.0             0.0              0.0   \n",
       "\n",
       "   major=COMPSCI  major=ENGINEERING  major=LITERATURE  major=MATH  major=NONE  \\\n",
       "0            0.0                0.0               0.0         1.0         0.0   \n",
       "1            0.0                0.0               0.0         0.0         1.0   \n",
       "2            0.0                0.0               0.0         0.0         0.0   \n",
       "3            0.0                0.0               0.0         0.0         0.0   \n",
       "4            0.0                0.0               0.0         0.0         0.0   \n",
       "\n",
       "   major=PHYSICS  \n",
       "0            0.0  \n",
       "1            0.0  \n",
       "2            1.0  \n",
       "3            0.0  \n",
       "4            1.0  \n",
       "\n",
       "[5 rows x 31 columns]"
      ]
     },
     "execution_count": 66,
     "metadata": {},
     "output_type": "execute_result"
    }
   ],
   "source": [
    "train_data.head()"
   ]
  },
  {
   "cell_type": "code",
   "execution_count": 65,
   "metadata": {},
   "outputs": [
    {
     "name": "stdout",
     "output_type": "stream",
     "text": [
      "   yearsExperience  milesFromMetropolis  degree=BACHELORS  degree=DOCTORAL  \\\n",
      "0               10                   83               0.0              0.0   \n",
      "1                3                   73               0.0              0.0   \n",
      "\n",
      "   degree=HIGH_SCHOOL  degree=MASTERS  degree=NONE  industry=AUTO  \\\n",
      "0                 0.0             1.0          0.0            0.0   \n",
      "1                 1.0             0.0          0.0            0.0   \n",
      "\n",
      "   industry=EDUCATION  industry=FINANCE      ...        \\\n",
      "0                 0.0               0.0      ...         \n",
      "1                 0.0               0.0      ...         \n",
      "\n",
      "   jobType=VICE_PRESIDENT  major=BIOLOGY  major=BUSINESS  major=CHEMISTRY  \\\n",
      "0                     0.0            0.0             0.0              0.0   \n",
      "1                     0.0            0.0             0.0              0.0   \n",
      "\n",
      "   major=COMPSCI  major=ENGINEERING  major=LITERATURE  major=MATH  major=NONE  \\\n",
      "0            0.0                0.0               0.0         1.0         0.0   \n",
      "1            0.0                0.0               0.0         0.0         1.0   \n",
      "\n",
      "   major=PHYSICS  \n",
      "0            0.0  \n",
      "1            0.0  \n",
      "\n",
      "[2 rows x 31 columns]\n"
     ]
    }
   ],
   "source": [
    "train_data, _, _ = one_hot_dataframe(train_data,objects, replace=True)\n",
    "print (train_data.head(2))"
   ]
  },
  {
   "cell_type": "markdown",
   "metadata": {},
   "source": [
    "## SPLIT DATA FOR CROSS-VALIDATION"
   ]
  },
  {
   "cell_type": "code",
   "execution_count": 67,
   "metadata": {
    "collapsed": true
   },
   "outputs": [],
   "source": [
    "from sklearn.cross_validation import train_test_split\n",
    "#all_data=all_data.drop([\"salary\"],axis=1)\n",
    "X_train, X_test, y_train, y_test = train_test_split(train_data, salaries[\"salary\"], random_state=1)"
   ]
  },
  {
   "cell_type": "markdown",
   "metadata": {},
   "source": [
    "## Model 1 : Linear Regression"
   ]
  },
  {
   "cell_type": "code",
   "execution_count": 68,
   "metadata": {},
   "outputs": [
    {
     "data": {
      "text/plain": [
       "LinearRegression(copy_X=True, fit_intercept=True, n_jobs=1, normalize=False)"
      ]
     },
     "execution_count": 68,
     "metadata": {},
     "output_type": "execute_result"
    }
   ],
   "source": [
    "linreg = LinearRegression()\n",
    "linreg.fit(X_train,y_train)"
   ]
  },
  {
   "cell_type": "code",
   "execution_count": 69,
   "metadata": {},
   "outputs": [
    {
     "name": "stdout",
     "output_type": "stream",
     "text": [
      "INTERCERPT -807604955367.0\n",
      "COEFFICENTS [  2.00923570e+00  -4.00000917e-01  -1.30901008e+11  -1.30901008e+11\n",
      "  -1.30901008e+11]\n"
     ]
    }
   ],
   "source": [
    "# print the intercept and coefficients\n",
    "print(\"INTERCERPT\",linreg.intercept_)\n",
    "print(\"COEFFICENTS\",linreg.coef_[0:5])"
   ]
  },
  {
   "cell_type": "markdown",
   "metadata": {},
   "source": [
    "INTERCEPT  is equal to the mean Salary."
   ]
  },
  {
   "cell_type": "markdown",
   "metadata": {},
   "source": [
    "### pair the feature names with the coefficients"
   ]
  },
  {
   "cell_type": "code",
   "execution_count": 70,
   "metadata": {},
   "outputs": [
    {
     "data": {
      "text/plain": [
       "[('yearsExperience', 2.0092356977155705),\n",
       " ('milesFromMetropolis', -0.40000091746839483),\n",
       " ('degree=BACHELORS', -130901008463.24237),\n",
       " ('degree=DOCTORAL', -130901008453.23749),\n",
       " ('degree=HIGH_SCHOOL', -130901008468.99805)]"
      ]
     },
     "execution_count": 70,
     "metadata": {},
     "output_type": "execute_result"
    }
   ],
   "source": [
    "list(zip(train_data.columns, linreg.coef_))[0:5]"
   ]
  },
  {
   "cell_type": "markdown",
   "metadata": {},
   "source": [
    "### Model Performance"
   ]
  },
  {
   "cell_type": "code",
   "execution_count": 71,
   "metadata": {},
   "outputs": [
    {
     "data": {
      "text/plain": [
       "0.65623713746613599"
      ]
     },
     "execution_count": 71,
     "metadata": {},
     "output_type": "execute_result"
    }
   ],
   "source": [
    "y_pred = linreg.predict(X_test)\n",
    "r2_score(y_pred,y_test, multioutput='variance_weighted')"
   ]
  },
  {
   "cell_type": "code",
   "execution_count": 96,
   "metadata": {},
   "outputs": [
    {
     "data": {
      "text/plain": [
       "0.61449059335493517"
      ]
     },
     "execution_count": 96,
     "metadata": {},
     "output_type": "execute_result"
    }
   ],
   "source": [
    "y_2=clf.predict(X_test)\n",
    "r2_score(y_2,y_test, multioutput='variance_weighted')"
   ]
  },
  {
   "cell_type": "markdown",
   "metadata": {},
   "source": [
    "#### R-Squared=0.6563996859990997"
   ]
  },
  {
   "cell_type": "code",
   "execution_count": 79,
   "metadata": {},
   "outputs": [
    {
     "name": "stdout",
     "output_type": "stream",
     "text": [
      "All [0, 1, 2, 3, 4, 5, 6, 7, 8, 9, 10, 11, 12, 13, 14, 15, 16, 17, 18, 19, 20, 21, 22, 23, 24, 25, 26, 27, 28, 29]\n"
     ]
    }
   ],
   "source": [
    "for name,i_cols_list in X_all:\n",
    "    print(name,i_cols_list)"
   ]
  },
  {
   "cell_type": "markdown",
   "metadata": {},
   "source": [
    "## Ridge"
   ]
  },
  {
   "cell_type": "code",
   "execution_count": 97,
   "metadata": {},
   "outputs": [
    {
     "data": {
      "text/plain": [
       "0.61449059335493517"
      ]
     },
     "execution_count": 97,
     "metadata": {},
     "output_type": "execute_result"
    }
   ],
   "source": [
    "clf = Ridge(alpha=10000)\n",
    "clf.fit(X_train,y_train) \n",
    "#result = mean_absolute_error(y_test,model.predict(X_test))\n",
    "y_2=clf.predict(X_test)\n",
    "r2_score(y_2,y_test, multioutput='variance_weighted')"
   ]
  },
  {
   "cell_type": "markdown",
   "metadata": {},
   "source": [
    "## LAsso"
   ]
  },
  {
   "cell_type": "code",
   "execution_count": 102,
   "metadata": {},
   "outputs": [
    {
     "ename": "KeyboardInterrupt",
     "evalue": "",
     "output_type": "error",
     "traceback": [
      "\u001b[0;31m---------------------------------------------------------------------------\u001b[0m",
      "\u001b[0;31mKeyboardInterrupt\u001b[0m                         Traceback (most recent call last)",
      "\u001b[0;32m<ipython-input-102-d90446d25b05>\u001b[0m in \u001b[0;36m<module>\u001b[0;34m()\u001b[0m\n\u001b[1;32m      3\u001b[0m \u001b[0mclf\u001b[0m \u001b[0;34m=\u001b[0m \u001b[0mLasso\u001b[0m\u001b[0;34m(\u001b[0m\u001b[0malpha\u001b[0m\u001b[0;34m=\u001b[0m\u001b[0;36m.001\u001b[0m\u001b[0;34m,\u001b[0m\u001b[0mrandom_state\u001b[0m\u001b[0;34m=\u001b[0m\u001b[0mseed\u001b[0m\u001b[0;34m)\u001b[0m\u001b[0;34m\u001b[0m\u001b[0m\n\u001b[1;32m      4\u001b[0m \u001b[0;34m\u001b[0m\u001b[0m\n\u001b[0;32m----> 5\u001b[0;31m \u001b[0mclf\u001b[0m\u001b[0;34m.\u001b[0m\u001b[0mfit\u001b[0m\u001b[0;34m(\u001b[0m\u001b[0mX_train\u001b[0m\u001b[0;34m,\u001b[0m\u001b[0my_train\u001b[0m\u001b[0;34m)\u001b[0m\u001b[0;34m\u001b[0m\u001b[0m\n\u001b[0m\u001b[1;32m      6\u001b[0m \u001b[0my_2\u001b[0m\u001b[0;34m=\u001b[0m\u001b[0mclf\u001b[0m\u001b[0;34m.\u001b[0m\u001b[0mpredict\u001b[0m\u001b[0;34m(\u001b[0m\u001b[0mX_test\u001b[0m\u001b[0;34m)\u001b[0m\u001b[0;34m\u001b[0m\u001b[0m\n\u001b[1;32m      7\u001b[0m \u001b[0mr2_score\u001b[0m\u001b[0;34m(\u001b[0m\u001b[0my_2\u001b[0m\u001b[0;34m,\u001b[0m\u001b[0my_test\u001b[0m\u001b[0;34m,\u001b[0m \u001b[0mmultioutput\u001b[0m\u001b[0;34m=\u001b[0m\u001b[0;34m'variance_weighted'\u001b[0m\u001b[0;34m)\u001b[0m\u001b[0;34m\u001b[0m\u001b[0m\n",
      "\u001b[0;32m/Users/deepak/anaconda/lib/python3.6/site-packages/sklearn/linear_model/coordinate_descent.py\u001b[0m in \u001b[0;36mfit\u001b[0;34m(self, X, y, check_input)\u001b[0m\n\u001b[1;32m    725\u001b[0m                           \u001b[0mrandom_state\u001b[0m\u001b[0;34m=\u001b[0m\u001b[0mself\u001b[0m\u001b[0;34m.\u001b[0m\u001b[0mrandom_state\u001b[0m\u001b[0;34m,\u001b[0m\u001b[0;34m\u001b[0m\u001b[0m\n\u001b[1;32m    726\u001b[0m                           \u001b[0mselection\u001b[0m\u001b[0;34m=\u001b[0m\u001b[0mself\u001b[0m\u001b[0;34m.\u001b[0m\u001b[0mselection\u001b[0m\u001b[0;34m,\u001b[0m\u001b[0;34m\u001b[0m\u001b[0m\n\u001b[0;32m--> 727\u001b[0;31m                           check_input=False)\n\u001b[0m\u001b[1;32m    728\u001b[0m             \u001b[0mcoef_\u001b[0m\u001b[0;34m[\u001b[0m\u001b[0mk\u001b[0m\u001b[0;34m]\u001b[0m \u001b[0;34m=\u001b[0m \u001b[0mthis_coef\u001b[0m\u001b[0;34m[\u001b[0m\u001b[0;34m:\u001b[0m\u001b[0;34m,\u001b[0m \u001b[0;36m0\u001b[0m\u001b[0;34m]\u001b[0m\u001b[0;34m\u001b[0m\u001b[0m\n\u001b[1;32m    729\u001b[0m             \u001b[0mdual_gaps_\u001b[0m\u001b[0;34m[\u001b[0m\u001b[0mk\u001b[0m\u001b[0;34m]\u001b[0m \u001b[0;34m=\u001b[0m \u001b[0mthis_dual_gap\u001b[0m\u001b[0;34m[\u001b[0m\u001b[0;36m0\u001b[0m\u001b[0;34m]\u001b[0m\u001b[0;34m\u001b[0m\u001b[0m\n",
      "\u001b[0;32m/Users/deepak/anaconda/lib/python3.6/site-packages/sklearn/linear_model/coordinate_descent.py\u001b[0m in \u001b[0;36menet_path\u001b[0;34m(X, y, l1_ratio, eps, n_alphas, alphas, precompute, Xy, copy_X, coef_init, verbose, return_n_iter, positive, check_input, **params)\u001b[0m\n\u001b[1;32m    468\u001b[0m             model = cd_fast.enet_coordinate_descent(\n\u001b[1;32m    469\u001b[0m                 \u001b[0mcoef_\u001b[0m\u001b[0;34m,\u001b[0m \u001b[0ml1_reg\u001b[0m\u001b[0;34m,\u001b[0m \u001b[0ml2_reg\u001b[0m\u001b[0;34m,\u001b[0m \u001b[0mX\u001b[0m\u001b[0;34m,\u001b[0m \u001b[0my\u001b[0m\u001b[0;34m,\u001b[0m \u001b[0mmax_iter\u001b[0m\u001b[0;34m,\u001b[0m \u001b[0mtol\u001b[0m\u001b[0;34m,\u001b[0m \u001b[0mrng\u001b[0m\u001b[0;34m,\u001b[0m \u001b[0mrandom\u001b[0m\u001b[0;34m,\u001b[0m\u001b[0;34m\u001b[0m\u001b[0m\n\u001b[0;32m--> 470\u001b[0;31m                 positive)\n\u001b[0m\u001b[1;32m    471\u001b[0m         \u001b[0;32melse\u001b[0m\u001b[0;34m:\u001b[0m\u001b[0;34m\u001b[0m\u001b[0m\n\u001b[1;32m    472\u001b[0m             raise ValueError(\"Precompute should be one of True, False, \"\n",
      "\u001b[0;31mKeyboardInterrupt\u001b[0m: "
     ]
    }
   ],
   "source": [
    "from sklearn.linear_model import Lasso\n",
    "from sklearn.metrics import mean_absolute_error\n",
    "clf = Lasso(alpha=.001,random_state=seed)\n",
    "\n",
    "clf.fit(X_train,y_train) \n",
    "y_2=clf.predict(X_test)\n",
    "r2_score(y_2,y_test, multioutput='variance_weighted')"
   ]
  },
  {
   "cell_type": "code",
   "execution_count": null,
   "metadata": {
    "collapsed": true
   },
   "outputs": [],
   "source": [
    "seed = 0\n",
    "mae=[]\n",
    "comb=[]\n",
    "from sklearn.linear_model import ElasticNet\n",
    "\n",
    "a_list = np.array([0.001,0.5,100])\n",
    "for alpha in a_list:\n",
    "    for name,i_cols_list in X_all:\n",
    "\n",
    "        #Set the base model\n",
    "        model = ElasticNet(alpha=alpha,random_state=seed)\n",
    "\n",
    "        algo = \"Ridge\"\n",
    "\n",
    "        #Accuracy of the model using all features\n",
    "        model.fit(X_train,y_train)\n",
    "        result = mean_absolute_error(y_test,model.predict(X_test))\n",
    "        mae.append(result)\n",
    "        print(\"name\" + \" %s\" % result)\n",
    "\n",
    "    comb.append(algo + \" %s\" % alpha )"
   ]
  },
  {
   "cell_type": "code",
   "execution_count": null,
   "metadata": {
    "collapsed": true
   },
   "outputs": [],
   "source": [
    "#Evaluation of various combinations of KNN\n",
    "\n",
    "#Import the library\n",
    "from sklearn.neighbors import KNeighborsRegressor\n",
    "\n",
    "#Add the N value to the below list if you want to run the algo\n",
    "n_list = np.array([2,12,14])\n",
    "\n",
    "for n_neighbors in n_list:\n",
    "    #Set the base model\n",
    "    model = KNeighborsRegressor(n_neighbors=n_neighbors,n_jobs=-1)\n",
    "    \n",
    "\n",
    "    algo = \"Ridge\"\n",
    "\n",
    "    #Accuracy of the model using all features\n",
    "    model.fit(X_train,y_train)\n",
    "    result = mean_absolute_error(y_test,model.predict(X_test))\n",
    "    mae.append(result)\n",
    "    print(\"name\" + \" %s\" % result)\n",
    "\n",
    "    comb.append(algo + \" %s\" % alpha )"
   ]
  },
  {
   "cell_type": "code",
   "execution_count": null,
   "metadata": {
    "collapsed": true
   },
   "outputs": [],
   "source": []
  },
  {
   "cell_type": "code",
   "execution_count": null,
   "metadata": {
    "collapsed": true
   },
   "outputs": [],
   "source": [
    "test=pd.read_csv(\"/Users/deepak/Downloads/indeed_data_science_exercise/test_features_2013-03-07.csv\")"
   ]
  },
  {
   "cell_type": "code",
   "execution_count": null,
   "metadata": {
    "collapsed": true
   },
   "outputs": [],
   "source": [
    "test.head()"
   ]
  },
  {
   "cell_type": "code",
   "execution_count": null,
   "metadata": {
    "collapsed": true
   },
   "outputs": [],
   "source": [
    "test, _, _ = one_hot_dataframe(test, ['degree',\"major\",\"industry\",\"companyId\",\"jobType\"], replace=True)\n"
   ]
  },
  {
   "cell_type": "code",
   "execution_count": null,
   "metadata": {
    "collapsed": true
   },
   "outputs": [],
   "source": [
    "test=test.drop([\"jobId\"],axis=1)"
   ]
  },
  {
   "cell_type": "code",
   "execution_count": null,
   "metadata": {
    "collapsed": true
   },
   "outputs": [],
   "source": [
    "sal=linreg.predict(test)"
   ]
  },
  {
   "cell_type": "code",
   "execution_count": null,
   "metadata": {
    "collapsed": true
   },
   "outputs": [],
   "source": [
    "sal"
   ]
  },
  {
   "cell_type": "code",
   "execution_count": null,
   "metadata": {
    "collapsed": true
   },
   "outputs": [],
   "source": [
    "X_test.head()"
   ]
  },
  {
   "cell_type": "code",
   "execution_count": null,
   "metadata": {
    "collapsed": true
   },
   "outputs": [],
   "source": [
    "set(X_test.columns)-set(test.columns)"
   ]
  },
  {
   "cell_type": "code",
   "execution_count": null,
   "metadata": {
    "collapsed": true
   },
   "outputs": [],
   "source": []
  }
 ],
 "metadata": {
  "anaconda-cloud": {},
  "kernelspec": {
   "display_name": "Python [conda root]",
   "language": "python",
   "name": "conda-root-py"
  },
  "language_info": {
   "codemirror_mode": {
    "name": "ipython",
    "version": 3
   },
   "file_extension": ".py",
   "mimetype": "text/x-python",
   "name": "python",
   "nbconvert_exporter": "python",
   "pygments_lexer": "ipython3",
   "version": "3.6.1"
  }
 },
 "nbformat": 4,
 "nbformat_minor": 1
}
