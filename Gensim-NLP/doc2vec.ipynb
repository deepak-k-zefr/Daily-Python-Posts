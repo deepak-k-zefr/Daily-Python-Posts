{
 "cells": [
  {
   "cell_type": "markdown",
   "metadata": {
    "collapsed": true
   },
   "source": [
    "## TOPIC MODELLING"
   ]
  },
  {
   "cell_type": "markdown",
   "metadata": {},
   "source": [
    "LDA= Statistical model for discovering abstract collection of topics within a document\n",
    "* Docs with similar topics use similar group of words\n",
    "* Latent topics are doscovered by groups of words that occur together in docs"
   ]
  },
  {
   "cell_type": "markdown",
   "metadata": {},
   "source": [
    "* LDA suggests that documents are probabilty distribution of related topics\n",
    "* Topics are probabilty distribution of words"
   ]
  },
  {
   "cell_type": "markdown",
   "metadata": {},
   "source": [
    "Doc1 = 0.4 Topic1+ ....\n",
    "\n",
    "Doc2 = 0.3 Topic 2+\n"
   ]
  },
  {
   "cell_type": "code",
   "execution_count": 1,
   "metadata": {
    "collapsed": true
   },
   "outputs": [],
   "source": [
    "import gensim\n",
    "import os\n",
    "import collections\n",
    "import smart_open\n",
    "import random\n"
   ]
  },
  {
   "cell_type": "markdown",
   "metadata": {},
   "source": [
    "## READ LEE CORPUS"
   ]
  },
  {
   "cell_type": "code",
   "execution_count": 2,
   "metadata": {
    "collapsed": true
   },
   "outputs": [],
   "source": [
    "# Set file names for train and test data\n",
    "test_data_dir = '{}'.format(os.sep).join([gensim.__path__[0], 'test', 'test_data'])\n",
    "lee_train_file = test_data_dir + os.sep + 'lee_background.cor'\n",
    "lee_test_file = test_data_dir + os.sep + 'lee.cor'"
   ]
  },
  {
   "cell_type": "code",
   "execution_count": 18,
   "metadata": {},
   "outputs": [
    {
     "data": {
      "text/plain": [
       "'/Users/deepak/anaconda/lib/python3.6/site-packages/gensim/test/test_data'"
      ]
     },
     "execution_count": 18,
     "metadata": {},
     "output_type": "execute_result"
    }
   ],
   "source": [
    "'{}'.format(os.sep).join([gensim.__path__[0], 'test', 'test_data'])"
   ]
  },
  {
   "cell_type": "code",
   "execution_count": 3,
   "metadata": {},
   "outputs": [
    {
     "data": {
      "text/plain": [
       "'/Users/deepak/anaconda/lib/python3.6/site-packages/gensim'"
      ]
     },
     "execution_count": 3,
     "metadata": {},
     "output_type": "execute_result"
    }
   ],
   "source": [
    "gensim.__path__[0]"
   ]
  },
  {
   "cell_type": "code",
   "execution_count": 4,
   "metadata": {
    "collapsed": true
   },
   "outputs": [],
   "source": [
    "def read_corpus(fname, tokens_only=False):\n",
    "    with smart_open.smart_open(fname, encoding=\"iso-8859-1\") as f:\n",
    "        for i, line in enumerate(f):\n",
    "            if tokens_only:\n",
    "                yield gensim.utils.simple_preprocess(line)\n",
    "            else:\n",
    "                # For training data, add tags\n",
    "                yield gensim.models.doc2vec.TaggedDocument(gensim.utils.simple_preprocess(line), [i])"
   ]
  },
  {
   "cell_type": "code",
   "execution_count": 5,
   "metadata": {
    "collapsed": true
   },
   "outputs": [],
   "source": [
    "train_corpus = list(read_corpus(lee_train_file))\n",
    "test_corpus = list(read_corpus(lee_test_file, tokens_only=True))\n"
   ]
  },
  {
   "cell_type": "code",
   "execution_count": 20,
   "metadata": {},
   "outputs": [
    {
     "data": {
      "text/plain": [
       "[TaggedDocument(words=['hundreds', 'of', 'people', 'have', 'been', 'forced', 'to', 'vacate', 'their', 'homes', 'in', 'the', 'southern', 'highlands', 'of', 'new', 'south', 'wales', 'as', 'strong', 'winds', 'today', 'pushed', 'huge', 'bushfire', 'towards', 'the', 'town', 'of', 'hill', 'top', 'new', 'blaze', 'near', 'goulburn', 'south', 'west', 'of', 'sydney', 'has', 'forced', 'the', 'closure', 'of', 'the', 'hume', 'highway', 'at', 'about', 'pm', 'aedt', 'marked', 'deterioration', 'in', 'the', 'weather', 'as', 'storm', 'cell', 'moved', 'east', 'across', 'the', 'blue', 'mountains', 'forced', 'authorities', 'to', 'make', 'decision', 'to', 'evacuate', 'people', 'from', 'homes', 'in', 'outlying', 'streets', 'at', 'hill', 'top', 'in', 'the', 'new', 'south', 'wales', 'southern', 'highlands', 'an', 'estimated', 'residents', 'have', 'left', 'their', 'homes', 'for', 'nearby', 'mittagong', 'the', 'new', 'south', 'wales', 'rural', 'fire', 'service', 'says', 'the', 'weather', 'conditions', 'which', 'caused', 'the', 'fire', 'to', 'burn', 'in', 'finger', 'formation', 'have', 'now', 'eased', 'and', 'about', 'fire', 'units', 'in', 'and', 'around', 'hill', 'top', 'are', 'optimistic', 'of', 'defending', 'all', 'properties', 'as', 'more', 'than', 'blazes', 'burn', 'on', 'new', 'year', 'eve', 'in', 'new', 'south', 'wales', 'fire', 'crews', 'have', 'been', 'called', 'to', 'new', 'fire', 'at', 'gunning', 'south', 'of', 'goulburn', 'while', 'few', 'details', 'are', 'available', 'at', 'this', 'stage', 'fire', 'authorities', 'says', 'it', 'has', 'closed', 'the', 'hume', 'highway', 'in', 'both', 'directions', 'meanwhile', 'new', 'fire', 'in', 'sydney', 'west', 'is', 'no', 'longer', 'threatening', 'properties', 'in', 'the', 'cranebrook', 'area', 'rain', 'has', 'fallen', 'in', 'some', 'parts', 'of', 'the', 'illawarra', 'sydney', 'the', 'hunter', 'valley', 'and', 'the', 'north', 'coast', 'but', 'the', 'bureau', 'of', 'meteorology', 'claire', 'richards', 'says', 'the', 'rain', 'has', 'done', 'little', 'to', 'ease', 'any', 'of', 'the', 'hundred', 'fires', 'still', 'burning', 'across', 'the', 'state', 'the', 'falls', 'have', 'been', 'quite', 'isolated', 'in', 'those', 'areas', 'and', 'generally', 'the', 'falls', 'have', 'been', 'less', 'than', 'about', 'five', 'millimetres', 'she', 'said', 'in', 'some', 'places', 'really', 'not', 'significant', 'at', 'all', 'less', 'than', 'millimetre', 'so', 'there', 'hasn', 'been', 'much', 'relief', 'as', 'far', 'as', 'rain', 'is', 'concerned', 'in', 'fact', 'they', 've', 'probably', 'hampered', 'the', 'efforts', 'of', 'the', 'firefighters', 'more', 'because', 'of', 'the', 'wind', 'gusts', 'that', 'are', 'associated', 'with', 'those', 'thunderstorms'], tags=[0])]"
      ]
     },
     "execution_count": 20,
     "metadata": {},
     "output_type": "execute_result"
    }
   ],
   "source": [
    "train_corpus[:1]  ## TAG = UNIQUE ID - 0,1,2...."
   ]
  },
  {
   "cell_type": "code",
   "execution_count": 7,
   "metadata": {},
   "outputs": [
    {
     "name": "stdout",
     "output_type": "stream",
     "text": [
      "[['the', 'national', 'executive', 'of', 'the', 'strife', 'torn', 'democrats', 'last', 'night', 'appointed', 'little', 'known', 'west', 'australian', 'senator', 'brian', 'greig', 'as', 'interim', 'leader', 'shock', 'move', 'likely', 'to', 'provoke', 'further', 'conflict', 'between', 'the', 'party', 'senators', 'and', 'its', 'organisation', 'in', 'move', 'to', 'reassert', 'control', 'over', 'the', 'party', 'seven', 'senators', 'the', 'national', 'executive', 'last', 'night', 'rejected', 'aden', 'ridgeway', 'bid', 'to', 'become', 'interim', 'leader', 'in', 'favour', 'of', 'senator', 'greig', 'supporter', 'of', 'deposed', 'leader', 'natasha', 'stott', 'despoja', 'and', 'an', 'outspoken', 'gay', 'rights', 'activist'], ['cash', 'strapped', 'financial', 'services', 'group', 'amp', 'has', 'shelved', 'million', 'plan', 'to', 'buy', 'shares', 'back', 'from', 'investors', 'and', 'will', 'raise', 'million', 'in', 'fresh', 'capital', 'after', 'profits', 'crashed', 'in', 'the', 'six', 'months', 'to', 'june', 'chief', 'executive', 'paul', 'batchelor', 'said', 'the', 'result', 'was', 'solid', 'in', 'what', 'he', 'described', 'as', 'the', 'worst', 'conditions', 'for', 'stock', 'markets', 'in', 'years', 'amp', 'half', 'year', 'profit', 'sank', 'per', 'cent', 'to', 'million', 'or', 'share', 'as', 'australia', 'largest', 'investor', 'and', 'fund', 'manager', 'failed', 'to', 'hit', 'projected', 'per', 'cent', 'earnings', 'growth', 'targets', 'and', 'was', 'battered', 'by', 'falling', 'returns', 'on', 'share', 'markets']]\n"
     ]
    }
   ],
   "source": [
    "print(test_corpus[:2])  ## NO TAG"
   ]
  },
  {
   "cell_type": "code",
   "execution_count": 21,
   "metadata": {
    "collapsed": true
   },
   "outputs": [],
   "source": [
    "## TRAINING THE DOC2VEC MODEL ON TRAIN CORPUS."
   ]
  },
  {
   "cell_type": "code",
   "execution_count": 22,
   "metadata": {
    "collapsed": true
   },
   "outputs": [],
   "source": [
    "model = gensim.models.doc2vec.Doc2Vec(size=50, min_count=2, iter=55)"
   ]
  },
  {
   "cell_type": "code",
   "execution_count": 23,
   "metadata": {
    "collapsed": true
   },
   "outputs": [],
   "source": [
    "model.build_vocab(train_corpus)"
   ]
  },
  {
   "cell_type": "code",
   "execution_count": 24,
   "metadata": {},
   "outputs": [
    {
     "name": "stdout",
     "output_type": "stream",
     "text": [
      "CPU times: user 5.74 s, sys: 233 ms, total: 5.97 s\n",
      "Wall time: 3.42 s\n"
     ]
    },
    {
     "data": {
      "text/plain": [
       "2348196"
      ]
     },
     "execution_count": 24,
     "metadata": {},
     "output_type": "execute_result"
    }
   ],
   "source": [
    "%time model.train(train_corpus, total_examples=model.corpus_count, epochs=model.iter)"
   ]
  },
  {
   "cell_type": "code",
   "execution_count": 25,
   "metadata": {},
   "outputs": [
    {
     "data": {
      "text/plain": [
       "array([ 0.07922315, -0.06632973,  0.09186766, -0.07410817, -0.02458601,\n",
       "       -0.01648764,  0.01475526,  0.00538769, -0.0551978 , -0.07020958,\n",
       "        0.1381208 , -0.02129775,  0.00366005, -0.0720093 ,  0.03157051,\n",
       "        0.02103111,  0.08733623,  0.01193139, -0.05479198,  0.0523716 ,\n",
       "       -0.07367259,  0.10764427,  0.01560509,  0.04638229,  0.03157345,\n",
       "        0.02183392,  0.04597912, -0.02500262, -0.05768962, -0.05647735,\n",
       "        0.01852136,  0.00293964, -0.0056356 ,  0.12171499, -0.10636989,\n",
       "       -0.10650833,  0.09087385,  0.04298062,  0.00601824, -0.06252088,\n",
       "       -0.04628289,  0.02344048,  0.12014269, -0.04814504, -0.03732086,\n",
       "        0.03937462, -0.01960691,  0.00214821,  0.05465705,  0.02731813], dtype=float32)"
      ]
     },
     "execution_count": 25,
     "metadata": {},
     "output_type": "execute_result"
    }
   ],
   "source": [
    "model.infer_vector(['only', 'you', 'can', 'prevent', 'forrest', 'fires'])"
   ]
  },
  {
   "cell_type": "code",
   "execution_count": 12,
   "metadata": {
    "collapsed": true
   },
   "outputs": [],
   "source": [
    "ranks = []\n",
    "second_ranks = []\n",
    "for doc_id in range(len(train_corpus)):\n",
    "    inferred_vector = model.infer_vector(train_corpus[doc_id].words)\n",
    "    sims = model.docvecs.most_similar([inferred_vector], topn=len(model.docvecs)) ## Most similar docs ranked\n",
    "    rank = [docid for docid,sim in sims].index(doc_id) ##\n",
    "    ranks.append(rank)\n",
    "    \n",
    "    second_ranks.append(sims[1])"
   ]
  },
  {
   "cell_type": "code",
   "execution_count": 39,
   "metadata": {},
   "outputs": [
    {
     "data": {
      "text/plain": [
       "[(35, 0.6969833374023438),\n",
       " (183, 0.667579174041748),\n",
       " (50, 0.6533467769622803),\n",
       " (127, 0.644976794719696),\n",
       " (153, 0.6355395317077637),\n",
       " (159, 0.634952187538147),\n",
       " (284, 0.6266897916793823),\n",
       " (243, 0.6213577389717102),\n",
       " (107, 0.608083963394165),\n",
       " (41, 0.6070062518119812),\n",
       " (98, 0.6068847179412842),\n",
       " (97, 0.606010377407074),\n",
       " (75, 0.6034687161445618),\n",
       " (216, 0.5831921696662903),\n",
       " (192, 0.5781316757202148),\n",
       " (200, 0.5701648592948914),\n",
       " (147, 0.5669897794723511),\n",
       " (166, 0.5589064359664917),\n",
       " (268, 0.5501251220703125),\n",
       " (119, 0.5463837385177612),\n",
       " (69, 0.5447613000869751),\n",
       " (115, 0.5447171330451965),\n",
       " (176, 0.5396144986152649),\n",
       " (226, 0.5270279049873352),\n",
       " (133, 0.5258265733718872),\n",
       " (58, 0.5255702137947083),\n",
       " (276, 0.5215549468994141),\n",
       " (28, 0.5199601650238037),\n",
       " (233, 0.5156117677688599),\n",
       " (261, 0.5026896595954895),\n",
       " (142, 0.49944204092025757),\n",
       " (88, 0.49850764870643616),\n",
       " (57, 0.4914075434207916),\n",
       " (223, 0.4837946891784668),\n",
       " (114, 0.47918152809143066),\n",
       " (54, 0.4752689003944397),\n",
       " (249, 0.4675939083099365),\n",
       " (141, 0.46339714527130127),\n",
       " (125, 0.45276355743408203),\n",
       " (225, 0.4517744779586792),\n",
       " (143, 0.43948954343795776),\n",
       " (122, 0.43346187472343445),\n",
       " (217, 0.4313119649887085),\n",
       " (51, 0.4309455454349518),\n",
       " (56, 0.4307957887649536),\n",
       " (210, 0.42829012870788574),\n",
       " (82, 0.4251313805580139),\n",
       " (74, 0.4202706217765808),\n",
       " (85, 0.4182911813259125),\n",
       " (186, 0.41373732686042786),\n",
       " (257, 0.408425897359848),\n",
       " (24, 0.4043272137641907),\n",
       " (292, 0.400669664144516),\n",
       " (29, 0.39681848883628845),\n",
       " (160, 0.39317744970321655),\n",
       " (208, 0.3842739462852478),\n",
       " (231, 0.38292694091796875),\n",
       " (219, 0.38282904028892517),\n",
       " (234, 0.3772576153278351),\n",
       " (227, 0.3742212951183319),\n",
       " (277, 0.3735576570034027),\n",
       " (23, 0.3681688904762268),\n",
       " (259, 0.3643797039985657),\n",
       " (140, 0.36253899335861206),\n",
       " (1, 0.35660696029663086),\n",
       " (289, 0.3565022349357605),\n",
       " (173, 0.3563941419124603),\n",
       " (169, 0.3549627959728241),\n",
       " (162, 0.35493671894073486),\n",
       " (106, 0.35346993803977966),\n",
       " (86, 0.34964245557785034),\n",
       " (167, 0.34342554211616516),\n",
       " (65, 0.34163182973861694),\n",
       " (256, 0.34012484550476074),\n",
       " (197, 0.33929169178009033),\n",
       " (49, 0.3388696610927582),\n",
       " (9, 0.3377841114997864),\n",
       " (124, 0.33275312185287476),\n",
       " (230, 0.33203423023223877),\n",
       " (211, 0.33194297552108765),\n",
       " (11, 0.32659411430358887),\n",
       " (13, 0.3260957598686218),\n",
       " (236, 0.3253836929798126),\n",
       " (100, 0.3157230317592621),\n",
       " (218, 0.3143582046031952),\n",
       " (20, 0.31237760186195374),\n",
       " (188, 0.31086209416389465),\n",
       " (242, 0.30825796723365784),\n",
       " (209, 0.3079354166984558),\n",
       " (76, 0.3074277937412262),\n",
       " (12, 0.3061860501766205),\n",
       " (201, 0.3030393421649933),\n",
       " (157, 0.301852285861969),\n",
       " (198, 0.299130380153656),\n",
       " (62, 0.29735666513442993),\n",
       " (78, 0.29648053646087646),\n",
       " (184, 0.2932928204536438),\n",
       " (174, 0.29180383682250977),\n",
       " (131, 0.28835195302963257),\n",
       " (64, 0.28804150223731995),\n",
       " (250, 0.2873131036758423),\n",
       " (91, 0.2849437892436981),\n",
       " (81, 0.28172197937965393),\n",
       " (267, 0.2799074053764343),\n",
       " (235, 0.2786554992198944),\n",
       " (207, 0.27635088562965393),\n",
       " (32, 0.27625924348831177),\n",
       " (14, 0.27451473474502563),\n",
       " (102, 0.2739217281341553),\n",
       " (293, 0.273388147354126),\n",
       " (151, 0.2702607810497284),\n",
       " (73, 0.2696627080440521),\n",
       " (288, 0.2667756974697113),\n",
       " (178, 0.26631128787994385),\n",
       " (214, 0.2659202218055725),\n",
       " (281, 0.26585596799850464),\n",
       " (271, 0.2638598680496216),\n",
       " (92, 0.2617787718772888),\n",
       " (44, 0.2582909166812897),\n",
       " (126, 0.25571689009666443),\n",
       " (263, 0.2546032965183258),\n",
       " (286, 0.2504538893699646),\n",
       " (79, 0.24943703413009644),\n",
       " (34, 0.24859806895256042),\n",
       " (229, 0.24525663256645203),\n",
       " (238, 0.24346068501472473),\n",
       " (206, 0.2371031790971756),\n",
       " (212, 0.23477023839950562),\n",
       " (232, 0.23350097239017487),\n",
       " (154, 0.23303823173046112),\n",
       " (274, 0.23164275288581848),\n",
       " (164, 0.23112639784812927),\n",
       " (185, 0.23075854778289795),\n",
       " (241, 0.23003500699996948),\n",
       " (70, 0.22789594531059265),\n",
       " (220, 0.2254233956336975),\n",
       " (61, 0.2250581830739975),\n",
       " (117, 0.2227051556110382),\n",
       " (120, 0.22054705023765564),\n",
       " (87, 0.21920734643936157),\n",
       " (94, 0.21883681416511536),\n",
       " (296, 0.21348819136619568),\n",
       " (269, 0.21304796636104584),\n",
       " (3, 0.21024587750434875),\n",
       " (63, 0.20920926332473755),\n",
       " (121, 0.20719514787197113),\n",
       " (45, 0.20253947377204895),\n",
       " (252, 0.20218917727470398),\n",
       " (26, 0.2008872777223587),\n",
       " (5, 0.19826939702033997),\n",
       " (66, 0.1982143521308899),\n",
       " (199, 0.19761547446250916),\n",
       " (180, 0.1957576870918274),\n",
       " (161, 0.19483894109725952),\n",
       " (116, 0.19364981353282928),\n",
       " (144, 0.1934029757976532),\n",
       " (30, 0.1903972029685974),\n",
       " (89, 0.18859046697616577),\n",
       " (67, 0.18794530630111694),\n",
       " (110, 0.18694519996643066),\n",
       " (195, 0.18669886887073517),\n",
       " (181, 0.1865295022726059),\n",
       " (196, 0.18635080754756927),\n",
       " (189, 0.18601715564727783),\n",
       " (68, 0.18070420622825623),\n",
       " (130, 0.18045678734779358),\n",
       " (239, 0.17766927182674408),\n",
       " (128, 0.17458772659301758),\n",
       " (224, 0.1736384779214859),\n",
       " (145, 0.16837404668331146),\n",
       " (158, 0.16676339507102966),\n",
       " (285, 0.16665229201316833),\n",
       " (22, 0.1646842211484909),\n",
       " (46, 0.16332244873046875),\n",
       " (248, 0.16316211223602295),\n",
       " (93, 0.160659059882164),\n",
       " (204, 0.1598551869392395),\n",
       " (165, 0.1591322273015976),\n",
       " (36, 0.15828415751457214),\n",
       " (156, 0.15774129331111908),\n",
       " (109, 0.15664657950401306),\n",
       " (150, 0.15529680252075195),\n",
       " (95, 0.15427395701408386),\n",
       " (38, 0.15396733582019806),\n",
       " (270, 0.15318259596824646),\n",
       " (203, 0.15206417441368103),\n",
       " (90, 0.1507997363805771),\n",
       " (187, 0.15011630952358246),\n",
       " (247, 0.14697253704071045),\n",
       " (21, 0.1458270102739334),\n",
       " (138, 0.14514748752117157),\n",
       " (177, 0.14367835223674774),\n",
       " (240, 0.14305952191352844),\n",
       " (15, 0.14249832928180695),\n",
       " (287, 0.13960309326648712),\n",
       " (170, 0.1365085393190384),\n",
       " (7, 0.13627533614635468),\n",
       " (103, 0.1351223587989807),\n",
       " (25, 0.1324082314968109),\n",
       " (113, 0.13211177289485931),\n",
       " (190, 0.13129040598869324),\n",
       " (280, 0.13110670447349548),\n",
       " (134, 0.13016918301582336),\n",
       " (298, 0.1284199208021164),\n",
       " (297, 0.12566296756267548),\n",
       " (19, 0.12200801819562912),\n",
       " (148, 0.121797114610672),\n",
       " (291, 0.12159322202205658),\n",
       " (294, 0.1201343759894371),\n",
       " (155, 0.11981020122766495),\n",
       " (237, 0.11971040070056915),\n",
       " (53, 0.11886103451251984),\n",
       " (27, 0.11706023663282394),\n",
       " (111, 0.11542703211307526),\n",
       " (290, 0.11515411734580994),\n",
       " (245, 0.1148548573255539),\n",
       " (80, 0.11479101330041885),\n",
       " (39, 0.11443766206502914),\n",
       " (0, 0.11305486410856247),\n",
       " (135, 0.11296149343252182),\n",
       " (205, 0.10742003470659256),\n",
       " (83, 0.10662689805030823),\n",
       " (255, 0.10552757978439331),\n",
       " (202, 0.10393665730953217),\n",
       " (228, 0.10348598659038544),\n",
       " (99, 0.1023864820599556),\n",
       " (163, 0.10220815241336823),\n",
       " (40, 0.09817418456077576),\n",
       " (282, 0.0974254161119461),\n",
       " (295, 0.09648578613996506),\n",
       " (71, 0.09577521681785583),\n",
       " (136, 0.09215690195560455),\n",
       " (2, 0.08978455513715744),\n",
       " (84, 0.08842802792787552),\n",
       " (273, 0.08520051091909409),\n",
       " (213, 0.08287870138883591),\n",
       " (48, 0.08089646697044373),\n",
       " (265, 0.08069232106208801),\n",
       " (6, 0.08008734881877899),\n",
       " (101, 0.0784352570772171),\n",
       " (168, 0.07363444566726685),\n",
       " (222, 0.07335066050291061),\n",
       " (105, 0.07225845754146576),\n",
       " (72, 0.06588275730609894),\n",
       " (18, 0.06478829681873322),\n",
       " (171, 0.06394784152507782),\n",
       " (149, 0.06160835549235344),\n",
       " (10, 0.059401776641607285),\n",
       " (8, 0.0593995675444603),\n",
       " (60, 0.056004978716373444),\n",
       " (4, 0.049529068171978),\n",
       " (17, 0.04924357682466507),\n",
       " (191, 0.04797730967402458),\n",
       " (194, 0.04776675999164581),\n",
       " (260, 0.047558583319187164),\n",
       " (33, 0.04749966412782669),\n",
       " (146, 0.047385819256305695),\n",
       " (123, 0.046475429087877274),\n",
       " (299, 0.044368162751197815),\n",
       " (77, 0.04302557557821274),\n",
       " (132, 0.04056597501039505),\n",
       " (254, 0.037813737988471985),\n",
       " (275, 0.035644955933094025),\n",
       " (137, 0.034222155809402466),\n",
       " (52, 0.033831365406513214),\n",
       " (262, 0.028770621865987778),\n",
       " (59, 0.0275582242757082),\n",
       " (244, 0.025188107043504715),\n",
       " (96, 0.017320096492767334),\n",
       " (152, 0.017079919576644897),\n",
       " (264, 0.015059811063110828),\n",
       " (246, 0.014036651700735092),\n",
       " (182, 0.01266481913626194),\n",
       " (43, 0.011054253205657005),\n",
       " (179, 0.008047574199736118),\n",
       " (221, 0.006396610289812088),\n",
       " (31, 0.005681315436959267),\n",
       " (251, -0.0006628371775150299),\n",
       " (129, -0.0068643102422356606),\n",
       " (42, -0.01006527990102768),\n",
       " (258, -0.010423392057418823),\n",
       " (278, -0.017969263717532158),\n",
       " (175, -0.018511798232793808),\n",
       " (108, -0.020322352647781372),\n",
       " (253, -0.022768180817365646),\n",
       " (283, -0.02341807261109352),\n",
       " (104, -0.02518509328365326),\n",
       " (215, -0.025292005389928818),\n",
       " (172, -0.02848145365715027),\n",
       " (193, -0.029866095632314682),\n",
       " (112, -0.03058786876499653),\n",
       " (16, -0.03558151796460152),\n",
       " (118, -0.03565160930156708),\n",
       " (272, -0.039331451058387756),\n",
       " (266, -0.041247833520174026),\n",
       " (279, -0.07257045805454254),\n",
       " (139, -0.0725826770067215),\n",
       " (37, -0.08650480955839157),\n",
       " (55, -0.09269894659519196),\n",
       " (47, -0.165284663438797)]"
      ]
     },
     "execution_count": 39,
     "metadata": {},
     "output_type": "execute_result"
    }
   ],
   "source": [
    "sims"
   ]
  },
  {
   "cell_type": "code",
   "execution_count": 29,
   "metadata": {},
   "outputs": [
    {
     "data": {
      "text/plain": [
       "[0, 0, 0, 0, 0, 0, 0, 0, 0, 0]"
      ]
     },
     "execution_count": 29,
     "metadata": {},
     "output_type": "execute_result"
    }
   ],
   "source": [
    "collections.Counter(ranks)  # Results vary due to random seeding and very small corpus\n",
    "ranks[0:10] # returning the rank of the document based on self-similarity."
   ]
  },
  {
   "cell_type": "markdown",
   "metadata": {},
   "source": [
    "### MOST  MEDIAN AND LEAST SIMILAR DOC TO A GIVEN DOC"
   ]
  },
  {
   "cell_type": "markdown",
   "metadata": {},
   "source": [
    "## ON TRAINING DATA"
   ]
  },
  {
   "cell_type": "code",
   "execution_count": 15,
   "metadata": {},
   "outputs": [
    {
     "name": "stdout",
     "output_type": "stream",
     "text": [
      "Document (299): «australia will take on france in the doubles rubber of the davis cup tennis final today with the tie levelled at wayne arthurs and todd woodbridge are scheduled to lead australia in the doubles against cedric pioline and fabrice santoro however changes can be made to the line up up to an hour before the match and australian team captain john fitzgerald suggested he might do just that we ll make team appraisal of the whole situation go over the pros and cons and make decision french team captain guy forget says he will not make changes but does not know what to expect from australia todd is the best doubles player in the world right now so expect him to play he said would probably use wayne arthurs but don know what to expect really pat rafter salvaged australia davis cup campaign yesterday with win in the second singles match rafter overcame an arm injury to defeat french number one sebastien grosjean in three sets the australian says he is happy with his form it not very pretty tennis there isn too many consistent bounces you are playing like said bit of classic old grass court rafter said rafter levelled the score after lleyton hewitt shock five set loss to nicholas escude in the first singles rubber but rafter says he felt no added pressure after hewitt defeat knew had good team to back me up even if we were down he said knew could win on the last day know the boys can win doubles so even if we were down still feel we are good enough team to win and vice versa they are good enough team to beat us as well»\n",
      "\n",
      "SIMILAR/DISSIMILAR DOCS PER MODEL Doc2Vec(dm/m,d50,n5,w5,mc2,s0.001,t3):\n",
      "\n",
      "MOST (299, 0.9448931813240051): «australia will take on france in the doubles rubber of the davis cup tennis final today with the tie levelled at wayne arthurs and todd woodbridge are scheduled to lead australia in the doubles against cedric pioline and fabrice santoro however changes can be made to the line up up to an hour before the match and australian team captain john fitzgerald suggested he might do just that we ll make team appraisal of the whole situation go over the pros and cons and make decision french team captain guy forget says he will not make changes but does not know what to expect from australia todd is the best doubles player in the world right now so expect him to play he said would probably use wayne arthurs but don know what to expect really pat rafter salvaged australia davis cup campaign yesterday with win in the second singles match rafter overcame an arm injury to defeat french number one sebastien grosjean in three sets the australian says he is happy with his form it not very pretty tennis there isn too many consistent bounces you are playing like said bit of classic old grass court rafter said rafter levelled the score after lleyton hewitt shock five set loss to nicholas escude in the first singles rubber but rafter says he felt no added pressure after hewitt defeat knew had good team to back me up even if we were down he said knew could win on the last day know the boys can win doubles so even if we were down still feel we are good enough team to win and vice versa they are good enough team to beat us as well»\n",
      "\n",
      "MEDIAN (51, 0.24680742621421814): «russian authorities have sentenced chechen warlord salman raduyev to life in prison for hostage siege in which more than people died salman raduyev is probably the most important chechen fighter russian authorities have ever caught relative of the first chechen president he was at the forefront of the insurgency leading raids against federal troops he was jealous of the achievements of his fellow commanders he resolved to outperform his rival and in january masterminded hostage taking in the neighbouring republic of dagestan apparently the aim was to destabilise dagestan and spread the war to the rest of the caucuses he ran out of luck as russian solders were not prepared to negotiate and cornered raduyev on the chechen border»\n",
      "\n",
      "LEAST (261, -0.06323015689849854): «afghan opposition leaders meeting in germany have reached an agreement after seven days of talks on the structure of an interim post taliban government for afghanistan the agreement calls for the immediate assembly of temporary group of multi national peacekeepers in kabul and possibly other areas the four afghan factions have approved plan for member ruling council composed of chairman five deputy chairmen and other members the council would govern afghanistan for six months at which time traditional afghan assembly called loya jirga would be convened to decide on more permanent structure the agreement calls for elections within two years»\n",
      "\n"
     ]
    }
   ],
   "source": [
    "print('Document ({}): «{}»\\n'.format(doc_id, ' '.join(train_corpus[doc_id].words)))\n",
    "print(u'SIMILAR/DISSIMILAR DOCS PER MODEL %s:\\n' % model)\n",
    "for label, index in [('MOST', 0), ('MEDIAN', len(sims)//2), ('LEAST', len(sims) - 1)]:\n",
    "    print(u'%s %s: «%s»\\n' % (label, sims[index], ' '.join(train_corpus[sims[index][0]].words)))\n"
   ]
  },
  {
   "cell_type": "markdown",
   "metadata": {},
   "source": [
    "## On test Set"
   ]
  },
  {
   "cell_type": "code",
   "execution_count": 17,
   "metadata": {},
   "outputs": [
    {
     "name": "stdout",
     "output_type": "stream",
     "text": [
      "Test Document (3): «radical armed islamist group with ties to tehran and baghdad has helped al qaida establish an international terrorist training camp in northern iraq kurdish officials say intelligence officers in the autonomous kurdish region of iraq told the guardian that the ansar al islam supporters of islam group is harbouring up to al qaida members in string of villages it controls along the iraq iran border most of them fled afghanistan after the us led offensive but officials from the patriotic union of kurdistan puk which controls part of north east iraq claim an abnormal number of recruits are making their way to the area from jordan syria and egypt»\n",
      "\n",
      "SIMILAR/DISSIMILAR DOCS PER MODEL Doc2Vec(dm/m,d50,n5,w5,mc2,s0.001,t3):\n",
      "\n",
      "MOST (35, 0.6969833374023438): «spokesman for afghanistan defence ministry claims osama bin laden has fled to pakistan defence ministry spokesman mohamad habeel says the saudi born dissident is in hiding under the protection of supporters of radical islamic leader who helped to create the fundamentalist taliban osama himself is under the protection of maulana fazalur rehman in pakistan but we don know for sure in which part of it mohamad habeel said he lives in areas which are under the influence and control of fazalur rehman supporters cannot say from which sources we have received this information bin laden and his men are no longer here in afghanistan mr rehman who is under house arrest is head of the jamiat ulema islam party long time supporter of bin laden the leader of the al qaeda network which is blamed for the september attacks on new york and washington mohamad habeel said bin laden support in afghanistan had collapsed completely his supporters have no presence any more he said there may be individuals here who have hidden but altogether we can say that his resistance is over his last remaining forces have fled to areas along the border with afghanistan and pakistan»\n",
      "\n",
      "MEDIAN (66, 0.1982143521308899): «argentina government has crumbled after at least people were killed and hundreds injured in nationwide riots argentina president fernando de la rua has resigned and called for national unity government with the opposition peronists the president resignation followed hours of rioting across the country people took to the streets protesting against the government economic austerity program argentina is now on the brink of defaulting on its next debt repayment which could be the largest default ever the opposition parties are reported to have rejected the call for national unity government in washington the international monetary fund said it would work with the new cabinet government policy has previously ruled out any devaluation of the peso fearing run on the currency and an even greater debt crisis the government has also declared day state of siege in an effort to restore order»\n",
      "\n",
      "LEAST (47, -0.165284663438797): «australia will be aiming to take early wickets on day two of the second cricket test against south africa at the mcg the proteas will resume at three for after day one was badly affected by rain with only overs possible australian paceman glenn mcgrath who has two wickets says the catch taken by matthew hayden yesterday is typical of australia outstanding slips fielding this summer in the series so far there been some great catches ricky ponting in the last test occasionally get one myself he said it gives you so much more confidence when you know per cent of the catches that go flying to the slips or through the slips are going to be taken»\n",
      "\n"
     ]
    }
   ],
   "source": [
    "# Pick a random document from the test corpus and infer a vector from the model\n",
    "doc_id = random.randint(0, len(test_corpus))\n",
    "inferred_vector = model.infer_vector(test_corpus[doc_id])\n",
    "sims = model.docvecs.most_similar([inferred_vector], topn=len(model.docvecs))\n",
    "\n",
    "# Compare and print the most/median/least similar documents from the train corpus\n",
    "print('Test Document ({}): «{}»\\n'.format(doc_id, ' '.join(test_corpus[doc_id])))\n",
    "print(u'SIMILAR/DISSIMILAR DOCS PER MODEL %s:\\n' % model)\n",
    "for label, index in [('MOST', 0), ('MEDIAN', len(sims)//2), ('LEAST', len(sims) - 1)]:\n",
    "    print(u'%s %s: «%s»\\n' % (label, sims[index], ' '.join(train_corpus[sims[index][0]].words)))"
   ]
  },
  {
   "cell_type": "code",
   "execution_count": null,
   "metadata": {
    "collapsed": true
   },
   "outputs": [],
   "source": []
  }
 ],
 "metadata": {
  "kernelspec": {
   "display_name": "Python [conda root]",
   "language": "python",
   "name": "conda-root-py"
  },
  "language_info": {
   "codemirror_mode": {
    "name": "ipython",
    "version": 3
   },
   "file_extension": ".py",
   "mimetype": "text/x-python",
   "name": "python",
   "nbconvert_exporter": "python",
   "pygments_lexer": "ipython3",
   "version": "3.6.1"
  }
 },
 "nbformat": 4,
 "nbformat_minor": 2
}
