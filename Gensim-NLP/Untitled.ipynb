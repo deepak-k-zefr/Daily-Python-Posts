{
 "cells": [
  {
   "cell_type": "code",
   "execution_count": null,
   "metadata": {
    "collapsed": true
   },
   "outputs": [],
   "source": []
  },
  {
   "cell_type": "code",
   "execution_count": null,
   "metadata": {
    "collapsed": true
   },
   "outputs": [],
   "source": [
    "value=all_data.groupby(\"yearsExperience\").salary.agg(['count', 'mean', 'min', 'max'])\n",
    "value\n",
    "fig, axes = plt.subplots(nrows=2, ncols=2)\n",
    "value.plot(y='mean',kind=\"bar\",title=\"Mean Salary by Years of Experience\",ax=axes[0,0],figsize=(15,15))\n",
    "value.plot(y='max',kind=\"bar\",title=\"Max Salary by Years of Experience\",ax=axes[0,1])\n",
    "value.plot(y='count',kind=\"bar\",title=\"Count by Years of Experience\",ax=axes[1,0])\n",
    "value.plot(y='min',kind=\"bar\",title=\"Min Salary by Years of Experience\",ax=axes[1,1])\n",
    "\n",
    "plt.show()"
   ]
  },
  {
   "cell_type": "code",
   "execution_count": null,
   "metadata": {
    "collapsed": true
   },
   "outputs": [],
   "source": []
  },
  {
   "cell_type": "code",
   "execution_count": null,
   "metadata": {
    "collapsed": true
   },
   "outputs": [],
   "source": []
  }
 ],
 "metadata": {
  "kernelspec": {
   "display_name": "Python [conda root]",
   "language": "python",
   "name": "conda-root-py"
  },
  "language_info": {
   "codemirror_mode": {
    "name": "ipython",
    "version": 3
   },
   "file_extension": ".py",
   "mimetype": "text/x-python",
   "name": "python",
   "nbconvert_exporter": "python",
   "pygments_lexer": "ipython3",
   "version": "3.6.1"
  }
 },
 "nbformat": 4,
 "nbformat_minor": 2
}
