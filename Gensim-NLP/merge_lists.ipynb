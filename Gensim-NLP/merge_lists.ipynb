{
 "cells": [
  {
   "cell_type": "code",
   "execution_count": 31,
   "metadata": {
    "collapsed": true
   },
   "outputs": [],
   "source": [
    "a=[1,2,3,4]\n",
    "b=[2,4,5,6,7]"
   ]
  },
  {
   "cell_type": "code",
   "execution_count": 33,
   "metadata": {},
   "outputs": [
    {
     "name": "stdout",
     "output_type": "stream",
     "text": [
      "0 0\n",
      "1 0\n",
      "2 1\n",
      "3 1\n",
      "4 2\n"
     ]
    }
   ],
   "source": [
    "x=0\n",
    "y=0\n",
    "z=[]\n",
    "while True:\n",
    "    print(x,y)\n",
    "    if x==len(a):\n",
    "        z+(b[y:])\n",
    "        break\n",
    "    if y==len(b):\n",
    "        z.append(a[x:])\n",
    "        break\n",
    "    if (a[x]>b[y]):\n",
    "        z.append(b[y])\n",
    "        y+=1\n",
    "    elif (a[x]<b[y]):\n",
    "        z.append(a[x])\n",
    "        x+=1\n",
    "    else:\n",
    "        z.append(a[x])\n",
    "        z.append(a[x])\n",
    "        x+=1\n",
    "        y+=1\n",
    "    \n",
    "    \n",
    "    if len(z)==len(a+b):\n",
    "        break\n"
   ]
  },
  {
   "cell_type": "code",
   "execution_count": 34,
   "metadata": {},
   "outputs": [
    {
     "data": {
      "text/plain": [
       "[1, 2, 2, 3, 4, 4, [5, 6, 7]]"
      ]
     },
     "execution_count": 34,
     "metadata": {},
     "output_type": "execute_result"
    }
   ],
   "source": [
    "z"
   ]
  },
  {
   "cell_type": "code",
   "execution_count": null,
   "metadata": {
    "collapsed": true
   },
   "outputs": [],
   "source": []
  }
 ],
 "metadata": {
  "kernelspec": {
   "display_name": "Python [conda env:python36]",
   "language": "python",
   "name": "conda-env-python36-py"
  },
  "language_info": {
   "codemirror_mode": {
    "name": "ipython",
    "version": 3
   },
   "file_extension": ".py",
   "mimetype": "text/x-python",
   "name": "python",
   "nbconvert_exporter": "python",
   "pygments_lexer": "ipython3",
   "version": "3.6.1"
  }
 },
 "nbformat": 4,
 "nbformat_minor": 2
}
