{
 "cells": [
  {
   "cell_type": "markdown",
   "metadata": {},
   "source": [
    "PRACTICE EXERCISES -  (Recursion)\n",
    "\n",
    "1. We can define the sum from \n",
    "\n",
    "```1 to x (i.e. 1 + 2 + ... + x)```\n",
    "\n",
    "recursively as follows for integer \n",
    "\n",
    "``` x ≥ 1:1, if x = 1    x +   (sum from 1 to x-1)    if x > 1```\n",
    "\n",
    "\n",
    "Complete the following Python program to compute the sum\n",
    "```1 + 2 + 3 + 4 + 5 + 6 + 7 + 8 + 9 + 10```  recursively"
   ]
  },
  {
   "cell_type": "code",
   "execution_count": 1,
   "metadata": {
    "collapsed": true
   },
   "outputs": [],
   "source": [
    "# sum(n)= n+sum(n-1)\n",
    "#sum(n-1)=n-1+sum(n-2)"
   ]
  },
  {
   "cell_type": "code",
   "execution_count": 5,
   "metadata": {
    "collapsed": true
   },
   "outputs": [],
   "source": [
    "def sum_n(n):\n",
    "    #base Case\n",
    "    if n==1:\n",
    "        return 1\n",
    "    else:\n",
    "        return n+sum_n(n-1)\n",
    "    "
   ]
  },
  {
   "cell_type": "code",
   "execution_count": 6,
   "metadata": {},
   "outputs": [
    {
     "data": {
      "text/plain": [
       "10"
      ]
     },
     "execution_count": 6,
     "metadata": {},
     "output_type": "execute_result"
    }
   ],
   "source": [
    "sum_n(4)"
   ]
  },
  {
   "cell_type": "code",
   "execution_count": null,
   "metadata": {
    "collapsed": true
   },
   "outputs": [],
   "source": []
  }
 ],
 "metadata": {
  "kernelspec": {
   "display_name": "Python [conda root]",
   "language": "python",
   "name": "conda-root-py"
  },
  "language_info": {
   "codemirror_mode": {
    "name": "ipython",
    "version": 3
   },
   "file_extension": ".py",
   "mimetype": "text/x-python",
   "name": "python",
   "nbconvert_exporter": "python",
   "pygments_lexer": "ipython3",
   "version": "3.6.1"
  }
 },
 "nbformat": 4,
 "nbformat_minor": 2
}
