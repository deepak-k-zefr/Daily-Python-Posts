{
 "cells": [
  {
   "cell_type": "markdown",
   "metadata": {},
   "source": [
    "## Space assigned to a list Vs Number of eleemnts"
   ]
  },
  {
   "cell_type": "code",
   "execution_count": 17,
   "metadata": {},
   "outputs": [
    {
     "name": "stdout",
     "output_type": "stream",
     "text": [
      "Length:0 Size in Bytes 64 . Array=[0]\n",
      "Length:1 Size in Bytes 96 . Array=[0, 1]\n",
      "Length:2 Size in Bytes 96 . Array=[0, 1, 2]\n",
      "Length:3 Size in Bytes 96 . Array=[0, 1, 2, 3]\n",
      "Length:4 Size in Bytes 96 . Array=[0, 1, 2, 3, 4]\n",
      "Length:5 Size in Bytes 128 . Array=[0, 1, 2, 3, 4, 5]\n",
      "Length:6 Size in Bytes 128 . Array=[0, 1, 2, 3, 4, 5, 6]\n",
      "Length:7 Size in Bytes 128 . Array=[0, 1, 2, 3, 4, 5, 6, 7]\n",
      "Length:8 Size in Bytes 128 . Array=[0, 1, 2, 3, 4, 5, 6, 7, 8]\n",
      "Length:9 Size in Bytes 192 . Array=[0, 1, 2, 3, 4, 5, 6, 7, 8, 9]\n"
     ]
    }
   ],
   "source": [
    "import sys\n",
    "n =10\n",
    "data=[]\n",
    "\n",
    "for i in range(n):\n",
    "    a=len(data)\n",
    "    b=sys.getsizeof(data)\n",
    "    data.append(i)\n",
    "    print(\"Length:{} Size in Bytes {} . Array={}\".format(a,b,data))"
   ]
  },
  {
   "cell_type": "markdown",
   "metadata": {},
   "source": [
    "## Dynamic Array Implementation"
   ]
  },
  {
   "cell_type": "code",
   "execution_count": 18,
   "metadata": {
    "collapsed": true
   },
   "outputs": [],
   "source": [
    "class M(object):\n",
    "    def public(self):\n",
    "        print(\"Use Tab to see Me\")\n",
    "    def _private(self):\n",
    "        print(\"You wont be able to tab to see me\")"
   ]
  },
  {
   "cell_type": "code",
   "execution_count": 19,
   "metadata": {},
   "outputs": [
    {
     "name": "stdout",
     "output_type": "stream",
     "text": [
      "Use Tab to see Me\n"
     ]
    }
   ],
   "source": [
    "m=M()\n",
    "m.public()"
   ]
  },
  {
   "cell_type": "code",
   "execution_count": 20,
   "metadata": {},
   "outputs": [
    {
     "name": "stdout",
     "output_type": "stream",
     "text": [
      "You wont be able to tab to see me\n"
     ]
    }
   ],
   "source": [
    "m._private()"
   ]
  },
  {
   "cell_type": "code",
   "execution_count": 21,
   "metadata": {
    "collapsed": true
   },
   "outputs": [],
   "source": [
    "import ctypes"
   ]
  },
  {
   "cell_type": "code",
   "execution_count": 22,
   "metadata": {
    "collapsed": true
   },
   "outputs": [],
   "source": [
    "class DynamicArray(object):\n",
    "    def __init__(self):\n",
    "        self.n=0  # number of elements\n",
    "        self.capacity=1 # Capacity of Array\n",
    "        self.A =self.make_array(self.capacity)\n",
    "        \n",
    "    def __len__(self): \n",
    "        \"\"\"Return Length of Array\n",
    "        \"\"\"\n",
    "        return self.n\n",
    "    \n",
    "    def __getitem__(self,k):\n",
    "        \"\"\"Return element at k\n",
    "        \"\"\"\n",
    "        if not 0 <=k<=self.n:\n",
    "            return IndexError('K is out of bounds')\n",
    "        return self.A[k] #Retrieve from array at index k\n",
    "\n",
    "    def append(self,ele):\n",
    "        \"\"\"\n",
    "        Add element to end of the array\n",
    "        \"\"\"\n",
    "        if self.n==self.capacity:\n",
    "            self._resize(2*self.capacity)\n",
    "            \n",
    "        self.A[self.n]=ele\n",
    "        self.n+=1\n",
    "               \n",
    "        \n",
    "    def _resize(self,new_cap):\n",
    "        \"\"\"Increase Capacity of Array\"\"\"\n",
    "        B=self.make_array(new_cap)\n",
    "        \n",
    "        for k in range(self.n):\n",
    "            B[k]=self.A[k]\n",
    "            \n",
    "        self.A=B\n",
    "        self.capacity=new_cap\n",
    "    \n",
    "    \n",
    "    def make_array(self,new_cap):\n",
    "        \n",
    "        return(new_cap* ctypes.py_object)()\n",
    "        \n",
    "            \n",
    "        "
   ]
  },
  {
   "cell_type": "code",
   "execution_count": 62,
   "metadata": {},
   "outputs": [],
   "source": [
    "arr=DynamicArray()"
   ]
  },
  {
   "cell_type": "code",
   "execution_count": 63,
   "metadata": {},
   "outputs": [],
   "source": [
    "arr.append(1)"
   ]
  },
  {
   "cell_type": "code",
   "execution_count": 64,
   "metadata": {},
   "outputs": [
    {
     "data": {
      "text/plain": [
       "1"
      ]
     },
     "execution_count": 64,
     "metadata": {},
     "output_type": "execute_result"
    }
   ],
   "source": [
    "len(arr)"
   ]
  },
  {
   "cell_type": "code",
   "execution_count": 65,
   "metadata": {},
   "outputs": [
    {
     "data": {
      "text/plain": [
       "1"
      ]
     },
     "execution_count": 65,
     "metadata": {},
     "output_type": "execute_result"
    }
   ],
   "source": [
    "(arr[0])"
   ]
  },
  {
   "cell_type": "code",
   "execution_count": 66,
   "metadata": {},
   "outputs": [
    {
     "data": {
      "text/plain": [
       "56"
      ]
     },
     "execution_count": 66,
     "metadata": {},
     "output_type": "execute_result"
    }
   ],
   "source": [
    "import sys\n",
    "sys.getsizeof(arr)"
   ]
  },
  {
   "cell_type": "code",
   "execution_count": 67,
   "metadata": {},
   "outputs": [
    {
     "name": "stdout",
     "output_type": "stream",
     "text": [
      "Length:1 Size in Bytes 56 \n",
      "Length:2 Size in Bytes 56 \n",
      "Length:3 Size in Bytes 56 \n",
      "Length:4 Size in Bytes 56 \n",
      "Length:5 Size in Bytes 56 \n",
      "Length:6 Size in Bytes 56 \n",
      "Length:7 Size in Bytes 56 \n",
      "Length:8 Size in Bytes 56 \n",
      "Length:9 Size in Bytes 56 \n",
      "Length:10 Size in Bytes 56 \n",
      "Length:11 Size in Bytes 56 \n",
      "Length:12 Size in Bytes 56 \n",
      "Length:13 Size in Bytes 56 \n",
      "Length:14 Size in Bytes 56 \n",
      "Length:15 Size in Bytes 56 \n",
      "Length:16 Size in Bytes 56 \n",
      "Length:17 Size in Bytes 56 \n",
      "Length:18 Size in Bytes 56 \n",
      "Length:19 Size in Bytes 56 \n",
      "Length:20 Size in Bytes 56 \n",
      "Length:21 Size in Bytes 56 \n",
      "Length:22 Size in Bytes 56 \n",
      "Length:23 Size in Bytes 56 \n",
      "Length:24 Size in Bytes 56 \n",
      "Length:25 Size in Bytes 56 \n",
      "Length:26 Size in Bytes 56 \n",
      "Length:27 Size in Bytes 56 \n",
      "Length:28 Size in Bytes 56 \n",
      "Length:29 Size in Bytes 56 \n",
      "Length:30 Size in Bytes 56 \n",
      "Length:31 Size in Bytes 56 \n",
      "Length:32 Size in Bytes 56 \n",
      "Length:33 Size in Bytes 56 \n",
      "Length:34 Size in Bytes 56 \n",
      "Length:35 Size in Bytes 56 \n",
      "Length:36 Size in Bytes 56 \n",
      "Length:37 Size in Bytes 56 \n",
      "Length:38 Size in Bytes 56 \n",
      "Length:39 Size in Bytes 56 \n",
      "Length:40 Size in Bytes 56 \n",
      "Length:41 Size in Bytes 56 \n",
      "Length:42 Size in Bytes 56 \n",
      "Length:43 Size in Bytes 56 \n",
      "Length:44 Size in Bytes 56 \n",
      "Length:45 Size in Bytes 56 \n",
      "Length:46 Size in Bytes 56 \n",
      "Length:47 Size in Bytes 56 \n",
      "Length:48 Size in Bytes 56 \n",
      "Length:49 Size in Bytes 56 \n",
      "Length:50 Size in Bytes 56 \n",
      "Length:51 Size in Bytes 56 \n",
      "Length:52 Size in Bytes 56 \n",
      "Length:53 Size in Bytes 56 \n",
      "Length:54 Size in Bytes 56 \n",
      "Length:55 Size in Bytes 56 \n",
      "Length:56 Size in Bytes 56 \n",
      "Length:57 Size in Bytes 56 \n",
      "Length:58 Size in Bytes 56 \n",
      "Length:59 Size in Bytes 56 \n",
      "Length:60 Size in Bytes 56 \n",
      "Length:61 Size in Bytes 56 \n",
      "Length:62 Size in Bytes 56 \n",
      "Length:63 Size in Bytes 56 \n",
      "Length:64 Size in Bytes 56 \n",
      "Length:65 Size in Bytes 56 \n",
      "Length:66 Size in Bytes 56 \n",
      "Length:67 Size in Bytes 56 \n",
      "Length:68 Size in Bytes 56 \n",
      "Length:69 Size in Bytes 56 \n",
      "Length:70 Size in Bytes 56 \n",
      "Length:71 Size in Bytes 56 \n",
      "Length:72 Size in Bytes 56 \n",
      "Length:73 Size in Bytes 56 \n",
      "Length:74 Size in Bytes 56 \n",
      "Length:75 Size in Bytes 56 \n",
      "Length:76 Size in Bytes 56 \n",
      "Length:77 Size in Bytes 56 \n",
      "Length:78 Size in Bytes 56 \n",
      "Length:79 Size in Bytes 56 \n",
      "Length:80 Size in Bytes 56 \n",
      "Length:81 Size in Bytes 56 \n",
      "Length:82 Size in Bytes 56 \n",
      "Length:83 Size in Bytes 56 \n",
      "Length:84 Size in Bytes 56 \n",
      "Length:85 Size in Bytes 56 \n",
      "Length:86 Size in Bytes 56 \n",
      "Length:87 Size in Bytes 56 \n",
      "Length:88 Size in Bytes 56 \n",
      "Length:89 Size in Bytes 56 \n",
      "Length:90 Size in Bytes 56 \n",
      "Length:91 Size in Bytes 56 \n",
      "Length:92 Size in Bytes 56 \n",
      "Length:93 Size in Bytes 56 \n",
      "Length:94 Size in Bytes 56 \n",
      "Length:95 Size in Bytes 56 \n",
      "Length:96 Size in Bytes 56 \n",
      "Length:97 Size in Bytes 56 \n",
      "Length:98 Size in Bytes 56 \n",
      "Length:99 Size in Bytes 56 \n",
      "Length:100 Size in Bytes 56 \n"
     ]
    }
   ],
   "source": [
    "for i in range(100):\n",
    "    a=len(arr)\n",
    "    b=sys.getsizeof(arr)\n",
    "    arr.append(i)\n",
    "    print(\"Length:{} Size in Bytes {} \".format(a,b))"
   ]
  },
  {
   "cell_type": "code",
   "execution_count": 51,
   "metadata": {},
   "outputs": [
    {
     "data": {
      "text/plain": [
       "6"
      ]
     },
     "execution_count": 51,
     "metadata": {},
     "output_type": "execute_result"
    }
   ],
   "source": [
    "arr[7]"
   ]
  },
  {
   "cell_type": "code",
   "execution_count": 61,
   "metadata": {},
   "outputs": [
    {
     "data": {
      "text/plain": [
       "48"
      ]
     },
     "execution_count": 61,
     "metadata": {},
     "output_type": "execute_result"
    }
   ],
   "source": [
    "arr[99]"
   ]
  },
  {
   "cell_type": "code",
   "execution_count": null,
   "metadata": {
    "collapsed": true
   },
   "outputs": [],
   "source": []
  }
 ],
 "metadata": {
  "kernelspec": {
   "display_name": "Python [conda root]",
   "language": "python",
   "name": "conda-root-py"
  },
  "language_info": {
   "codemirror_mode": {
    "name": "ipython",
    "version": 3
   },
   "file_extension": ".py",
   "mimetype": "text/x-python",
   "name": "python",
   "nbconvert_exporter": "python",
   "pygments_lexer": "ipython3",
   "version": "3.6.1"
  }
 },
 "nbformat": 4,
 "nbformat_minor": 2
}
