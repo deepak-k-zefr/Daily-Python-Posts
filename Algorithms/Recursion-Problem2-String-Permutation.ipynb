{
 "cells": [
  {
   "cell_type": "markdown",
   "metadata": {
    "collapsed": true
   },
   "source": [
    "# String Permutation\n",
    "\n",
    "## Problem Statement\n",
    "\n",
    "Given a string, write a function that uses recursion to output a list of all the possible permutations of that string.\n",
    "\n",
    "For example, given s='abc' the function should return ['abc', 'acb', 'bac', 'bca', 'cab', 'cba']\n",
    "\n",
    "*Note: If a character is repeated, treat each occurence as distinct, for example an input of 'xxx' would return a list with 6 \"versions\" of 'xxx'*\n",
    "\n",
    "\n",
    "## Fill Out Your Solution Below\n",
    "\n",
    "Let's think about what the steps we need to take here are:"
   ]
  },
  {
   "cell_type": "code",
   "execution_count": null,
   "metadata": {
    "collapsed": true
   },
   "outputs": [],
   "source": [
    "# perm(abc)= a+perm(bc)+ b+perm(ac)+ c+perm(ab)\n",
    "# perm(bc)=b+perm(c)+c perm(b)"
   ]
  },
  {
   "cell_type": "code",
   "execution_count": 82,
   "metadata": {},
   "outputs": [],
   "source": [
    "def permute(s):\n",
    "    out = []\n",
    "    \n",
    "    # Base Case\n",
    "    if len(s) == 1:\n",
    "        out = [s]\n",
    "        \n",
    "    else:\n",
    "        # For every letter in string\n",
    "        for i, let in enumerate(s):\n",
    "            print(\"outside\",let,s[:i]+s[i+1:])\n",
    "\n",
    "            \n",
    "            # For every permutation resulting from Step 2 and 3 described above\n",
    "            for perm in permute(s[:i] + s[i+1:]):\n",
    "                \n",
    "                print(\"inside \",let,s[:i]+s[i+1:],\"perm :\",perm)\n",
    "                #print(let,i,s[:i],\"    \", s[i+1:])\n",
    "                \n",
    "                # Add it to output\n",
    "                out += [let + perm]\n",
    "    return out"
   ]
  },
  {
   "cell_type": "code",
   "execution_count": 83,
   "metadata": {},
   "outputs": [
    {
     "data": {
      "text/plain": [
       "'   bc'"
      ]
     },
     "execution_count": 83,
     "metadata": {},
     "output_type": "execute_result"
    }
   ],
   "source": [
    "i=0\n",
    "'abc'[:i] +\"   \"+'abc'[i+1:]"
   ]
  },
  {
   "cell_type": "code",
   "execution_count": 84,
   "metadata": {},
   "outputs": [
    {
     "name": "stdout",
     "output_type": "stream",
     "text": [
      "outside a bc\n",
      "outside b c\n",
      "inside  b c perm : c\n",
      "outside c b\n",
      "inside  c b perm : b\n",
      "inside  a bc perm : bc\n",
      "inside  a bc perm : cb\n",
      "outside b ac\n",
      "outside a c\n",
      "inside  a c perm : c\n",
      "outside c a\n",
      "inside  c a perm : a\n",
      "inside  b ac perm : ac\n",
      "inside  b ac perm : ca\n",
      "outside c ab\n",
      "outside a b\n",
      "inside  a b perm : b\n",
      "outside b a\n",
      "inside  b a perm : a\n",
      "inside  c ab perm : ab\n",
      "inside  c ab perm : ba\n"
     ]
    },
    {
     "data": {
      "text/plain": [
       "['abc', 'acb', 'bac', 'bca', 'cab', 'cba']"
      ]
     },
     "execution_count": 84,
     "metadata": {},
     "output_type": "execute_result"
    }
   ],
   "source": [
    "permute('abc')"
   ]
  },
  {
   "cell_type": "markdown",
   "metadata": {},
   "source": [
    "____\n",
    "# Test Your Solution"
   ]
  },
  {
   "cell_type": "code",
   "execution_count": 86,
   "metadata": {},
   "outputs": [
    {
     "name": "stdout",
     "output_type": "stream",
     "text": [
      "outside a bc\n",
      "outside b c\n",
      "inside  b c perm : c\n",
      "outside c b\n",
      "inside  c b perm : b\n",
      "inside  a bc perm : bc\n",
      "inside  a bc perm : cb\n",
      "outside b ac\n",
      "outside a c\n",
      "inside  a c perm : c\n",
      "outside c a\n",
      "inside  c a perm : a\n",
      "inside  b ac perm : ac\n",
      "inside  b ac perm : ca\n",
      "outside c ab\n",
      "outside a b\n",
      "inside  a b perm : b\n",
      "outside b a\n",
      "inside  b a perm : a\n",
      "inside  c ab perm : ab\n",
      "inside  c ab perm : ba\n",
      "outside d og\n",
      "outside o g\n",
      "inside  o g perm : g\n",
      "outside g o\n",
      "inside  g o perm : o\n",
      "inside  d og perm : og\n",
      "inside  d og perm : go\n",
      "outside o dg\n",
      "outside d g\n",
      "inside  d g perm : g\n",
      "outside g d\n",
      "inside  g d perm : d\n",
      "inside  o dg perm : dg\n",
      "inside  o dg perm : gd\n",
      "outside g do\n",
      "outside d o\n",
      "inside  d o perm : o\n",
      "outside o d\n",
      "inside  o d perm : d\n",
      "inside  g do perm : do\n",
      "inside  g do perm : od\n",
      "All test cases passed.\n"
     ]
    }
   ],
   "source": [
    "\"\"\"\n",
    "RUN THIS CELL TO TEST YOUR SOLUTION.\n",
    "\"\"\"\n",
    "\n",
    "from nose.tools import assert_equal\n",
    "\n",
    "class TestPerm(object):\n",
    "    \n",
    "    def test(self,solution):\n",
    "        \n",
    "        assert_equal(sorted(solution('abc')),sorted(['abc', 'acb', 'bac', 'bca', 'cab', 'cba']))\n",
    "        assert_equal(sorted(solution('dog')),sorted(['dog', 'dgo', 'odg', 'ogd', 'gdo', 'god']) )\n",
    "        \n",
    "        print( 'All test cases passed.')\n",
    "        \n",
    "\n",
    "\n",
    "# Run Tests\n",
    "t = TestPerm()\n",
    "t.test(permute)"
   ]
  },
  {
   "cell_type": "markdown",
   "metadata": {},
   "source": [
    "## Good Luck!"
   ]
  }
 ],
 "metadata": {
  "kernelspec": {
   "display_name": "Python [conda root]",
   "language": "python",
   "name": "conda-root-py"
  },
  "language_info": {
   "codemirror_mode": {
    "name": "ipython",
    "version": 3
   },
   "file_extension": ".py",
   "mimetype": "text/x-python",
   "name": "python",
   "nbconvert_exporter": "python",
   "pygments_lexer": "ipython3",
   "version": "3.6.1"
  }
 },
 "nbformat": 4,
 "nbformat_minor": 1
}
