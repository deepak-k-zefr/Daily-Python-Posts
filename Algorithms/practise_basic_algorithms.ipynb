{
 "cells": [
  {
   "cell_type": "code",
   "execution_count": 1,
   "metadata": {},
   "outputs": [
    {
     "data": {
      "text/plain": [
       "'3.6.0 |Anaconda custom (x86_64)| (default, Dec 23 2016, 13:19:00) \\n[GCC 4.2.1 Compatible Apple LLVM 6.0 (clang-600.0.57)]'"
      ]
     },
     "execution_count": 1,
     "metadata": {},
     "output_type": "execute_result"
    }
   ],
   "source": [
    "import sys\n",
    "sys.version"
   ]
  },
  {
   "cell_type": "code",
   "execution_count": 8,
   "metadata": {
    "collapsed": true
   },
   "outputs": [],
   "source": [
    "## GCD"
   ]
  },
  {
   "cell_type": "code",
   "execution_count": 9,
   "metadata": {
    "collapsed": true
   },
   "outputs": [],
   "source": [
    "def gcd_euclidian(a,b):\n",
    "    if(b==0):\n",
    "        return a\n",
    "    return gcd_euclidian(b,a%b)"
   ]
  },
  {
   "cell_type": "code",
   "execution_count": 10,
   "metadata": {},
   "outputs": [
    {
     "data": {
      "text/plain": [
       "6"
      ]
     },
     "execution_count": 10,
     "metadata": {},
     "output_type": "execute_result"
    }
   ],
   "source": [
    "gcd_euclidian(6,6)"
   ]
  },
  {
   "cell_type": "code",
   "execution_count": 11,
   "metadata": {
    "collapsed": true
   },
   "outputs": [],
   "source": [
    "##LCM"
   ]
  },
  {
   "cell_type": "code",
   "execution_count": 5,
   "metadata": {},
   "outputs": [
    {
     "data": {
      "text/plain": [
       "4"
      ]
     },
     "execution_count": 5,
     "metadata": {},
     "output_type": "execute_result"
    }
   ],
   "source": [
    "6,10\n",
    "6,6x"
   ]
  },
  {
   "cell_type": "code",
   "execution_count": 19,
   "metadata": {
    "collapsed": true
   },
   "outputs": [],
   "source": [
    "## fibonaacci\n",
    "\n",
    "def fibo(n):\n",
    "    if n<=1:\n",
    "        return n \n",
    "    return(fibo(n-1)+fibo(n-2))"
   ]
  },
  {
   "cell_type": "code",
   "execution_count": 21,
   "metadata": {},
   "outputs": [
    {
     "data": {
      "text/plain": [
       "377"
      ]
     },
     "execution_count": 21,
     "metadata": {},
     "output_type": "execute_result"
    }
   ],
   "source": [
    "fibo(14)"
   ]
  },
  {
   "cell_type": "code",
   "execution_count": 22,
   "metadata": {
    "collapsed": true
   },
   "outputs": [],
   "source": [
    "import pandas as pd"
   ]
  },
  {
   "cell_type": "code",
   "execution_count": 28,
   "metadata": {
    "collapsed": true
   },
   "outputs": [],
   "source": [
    "data=pd.read_excel(\"/Users/dualpahse_ai/Downloads/C Space_Self Moderated_Chat Bot Results_05 22 17.xlsx\")"
   ]
  },
  {
   "cell_type": "code",
   "execution_count": 29,
   "metadata": {},
   "outputs": [
    {
     "data": {
      "text/html": [
       "<div>\n",
       "<style>\n",
       "    .dataframe thead tr:only-child th {\n",
       "        text-align: right;\n",
       "    }\n",
       "\n",
       "    .dataframe thead th {\n",
       "        text-align: left;\n",
       "    }\n",
       "\n",
       "    .dataframe tbody tr th {\n",
       "        vertical-align: top;\n",
       "    }\n",
       "</style>\n",
       "<table border=\"1\" class=\"dataframe\">\n",
       "  <thead>\n",
       "    <tr style=\"text-align: right;\">\n",
       "      <th></th>\n",
       "      <th>First Name</th>\n",
       "      <th>Last Initial</th>\n",
       "      <th>Dummy Account Number</th>\n",
       "      <th>1.0 To begin, which of the following scenarios were you assigned to test with the chatbot? \n",
       "\n",
       "Note: If you did not test a scenario with the Allstate chatbot yet, check your email and follow the instructions before returning to this survey to complete the project.</th>\n",
       "      <th>2.0 Please describe your experience interacting with Allstate’s chatbot.</th>\n",
       "      <th>3.0 Thanks! How easy or difficult did you find interacting with the chatbot?</th>\n",
       "      <th>4.0 For what reasons did you find it easy to interact with the chatbot?</th>\n",
       "      <th>5.0 For what reasons did you find it difficult to interact with the chatbot?</th>\n",
       "      <th>6.0 Given your scenario, were you able to get to a point with the chatbot where someone was dispatched to help you?</th>\n",
       "      <th>7.0 If this had been an actual situation where you used the Chatbot for help, based on this experience how confident would you feel that someone was coming to help?</th>\n",
       "      <th>...</th>\n",
       "      <th>9.0 For what reasons were you satisfied with your overall experience with Allstate’s chatbot?</th>\n",
       "      <th>10.0 For what reasons were you dissatisfied with your overall experience with Allstate’s chatbot?</th>\n",
       "      <th>11.0 What challenges did you face, if any, while interacting with the chatbot?</th>\n",
       "      <th>12.0 Please describe at what point you got hung up with the chatbot. Refer back to your text messages, if necessary.</th>\n",
       "      <th>13.0 What, if at anything, would you change to improve Allstate’s chatbot?</th>\n",
       "      <th>I would improve:</th>\n",
       "      <th>14.0 Imagine you’re in need of roadside assistance, how would you prefer to request help?</th>\n",
       "      <th>Other (please specify):</th>\n",
       "      <th>15.0 Thanks! Is there anything else you’d like to share on this topic before we go?</th>\n",
       "      <th>Yes, I’d like to share:</th>\n",
       "    </tr>\n",
       "  </thead>\n",
       "  <tbody>\n",
       "    <tr>\n",
       "      <th>0</th>\n",
       "      <td>Diana</td>\n",
       "      <td>A.</td>\n",
       "      <td>678348572</td>\n",
       "      <td>Jump Start</td>\n",
       "      <td>I really liked it.  It went very well.  The on...</td>\n",
       "      <td>Very easy</td>\n",
       "      <td>Instant reply made it quick and easy.  No conf...</td>\n",
       "      <td>NaN</td>\n",
       "      <td>Yes, someone was dispatched</td>\n",
       "      <td>Very confident</td>\n",
       "      <td>...</td>\n",
       "      <td>It was able to interact with me with no mistak...</td>\n",
       "      <td>NaN</td>\n",
       "      <td>The submit button didn't work on the map when ...</td>\n",
       "      <td>NaN</td>\n",
       "      <td>I would improve:</td>\n",
       "      <td>I think it would be helpful to have the chat b...</td>\n",
       "      <td>Text message</td>\n",
       "      <td>NaN</td>\n",
       "      <td>No, thanks.</td>\n",
       "      <td>NaN</td>\n",
       "    </tr>\n",
       "    <tr>\n",
       "      <th>1</th>\n",
       "      <td>Zainab</td>\n",
       "      <td>A.</td>\n",
       "      <td>352983012</td>\n",
       "      <td>Tow Truck</td>\n",
       "      <td>It went well, the address part was a little di...</td>\n",
       "      <td>Very easy</td>\n",
       "      <td>questions were simple and easy to answer, the ...</td>\n",
       "      <td>NaN</td>\n",
       "      <td>Yes, someone was dispatched</td>\n",
       "      <td>Very confident</td>\n",
       "      <td>...</td>\n",
       "      <td>It was quick and easy to do</td>\n",
       "      <td>NaN</td>\n",
       "      <td>Getting an address for the car location but th...</td>\n",
       "      <td>NaN</td>\n",
       "      <td>It does not need to be improved/nothing comes ...</td>\n",
       "      <td>NaN</td>\n",
       "      <td>Request using an app or website</td>\n",
       "      <td>NaN</td>\n",
       "      <td>No, thanks.</td>\n",
       "      <td>NaN</td>\n",
       "    </tr>\n",
       "    <tr>\n",
       "      <th>2</th>\n",
       "      <td>robyn</td>\n",
       "      <td>a</td>\n",
       "      <td>148984085</td>\n",
       "      <td>Jump Start</td>\n",
       "      <td>okay, normally I'm a little suspicious of thes...</td>\n",
       "      <td>Very easy</td>\n",
       "      <td>the chatbot was intuitive, human sounding, and...</td>\n",
       "      <td>NaN</td>\n",
       "      <td>Yes, someone was dispatched</td>\n",
       "      <td>Very confident</td>\n",
       "      <td>...</td>\n",
       "      <td>it worked exactly as expected. the only thing ...</td>\n",
       "      <td>NaN</td>\n",
       "      <td>see previous answer. Sorry.</td>\n",
       "      <td>NaN</td>\n",
       "      <td>I would improve:</td>\n",
       "      <td>maybe an optional photo capability, especially...</td>\n",
       "      <td>Text message</td>\n",
       "      <td>NaN</td>\n",
       "      <td>Yes, I’d like to share:</td>\n",
       "      <td>THIS WORKED GREAT. DO IT.i recently used roads...</td>\n",
       "    </tr>\n",
       "    <tr>\n",
       "      <th>3</th>\n",
       "      <td>Yolanda</td>\n",
       "      <td>A from GA</td>\n",
       "      <td>295845003</td>\n",
       "      <td>Tow Truck</td>\n",
       "      <td>Frustrating!!! It didn't take long for me to r...</td>\n",
       "      <td>Very difficult</td>\n",
       "      <td>NaN</td>\n",
       "      <td>As I said before, it was frustrating not getti...</td>\n",
       "      <td>Yes, someone was dispatched</td>\n",
       "      <td>Somewhat unconfident</td>\n",
       "      <td>...</td>\n",
       "      <td>NaN</td>\n",
       "      <td>Lack of human interaction. See my other commen...</td>\n",
       "      <td>As I said previously, \"she\" did not understand...</td>\n",
       "      <td>NaN</td>\n",
       "      <td>I would improve:</td>\n",
       "      <td>Add a REAL human interface! You may start out ...</td>\n",
       "      <td>Phone call</td>\n",
       "      <td>NaN</td>\n",
       "      <td>Yes, I’d like to share:</td>\n",
       "      <td>Glad I'm getting a small payment for the frust...</td>\n",
       "    </tr>\n",
       "    <tr>\n",
       "      <th>4</th>\n",
       "      <td>Errol</td>\n",
       "      <td>A</td>\n",
       "      <td>781362378</td>\n",
       "      <td>Tow Truck</td>\n",
       "      <td>the initial response was quick but after I was...</td>\n",
       "      <td>Very easy</td>\n",
       "      <td>it was like talking to a human</td>\n",
       "      <td>NaN</td>\n",
       "      <td>Yes, someone was dispatched</td>\n",
       "      <td>Very confident</td>\n",
       "      <td>...</td>\n",
       "      <td>it would be an easy way to get service besides...</td>\n",
       "      <td>NaN</td>\n",
       "      <td>had to start over in the middle of the process</td>\n",
       "      <td>NaN</td>\n",
       "      <td>It does not need to be improved/nothing comes ...</td>\n",
       "      <td>NaN</td>\n",
       "      <td>Text message</td>\n",
       "      <td>NaN</td>\n",
       "      <td>No, thanks.</td>\n",
       "      <td>NaN</td>\n",
       "    </tr>\n",
       "  </tbody>\n",
       "</table>\n",
       "<p>5 rows × 21 columns</p>\n",
       "</div>"
      ],
      "text/plain": [
       "  First Name Last Initial  Dummy Account Number  \\\n",
       "0      Diana           A.             678348572   \n",
       "1     Zainab           A.             352983012   \n",
       "2      robyn            a             148984085   \n",
       "3    Yolanda    A from GA             295845003   \n",
       "4      Errol            A             781362378   \n",
       "\n",
       "  1.0 To begin, which of the following scenarios were you assigned to test with the chatbot? \\n\\nNote: If you did not test a scenario with the Allstate chatbot yet, check your email and follow the instructions before returning to this survey to complete the project.  \\\n",
       "0                                         Jump Start                                                                                                                                                                                                                         \n",
       "1                                          Tow Truck                                                                                                                                                                                                                         \n",
       "2                                         Jump Start                                                                                                                                                                                                                         \n",
       "3                                          Tow Truck                                                                                                                                                                                                                         \n",
       "4                                          Tow Truck                                                                                                                                                                                                                         \n",
       "\n",
       "  2.0 Please describe your experience interacting with Allstate’s chatbot.  \\\n",
       "0  I really liked it.  It went very well.  The on...                         \n",
       "1  It went well, the address part was a little di...                         \n",
       "2  okay, normally I'm a little suspicious of thes...                         \n",
       "3  Frustrating!!! It didn't take long for me to r...                         \n",
       "4  the initial response was quick but after I was...                         \n",
       "\n",
       "  3.0 Thanks! How easy or difficult did you find interacting with the chatbot?  \\\n",
       "0                                          Very easy                             \n",
       "1                                          Very easy                             \n",
       "2                                          Very easy                             \n",
       "3                                     Very difficult                             \n",
       "4                                          Very easy                             \n",
       "\n",
       "  4.0 For what reasons did you find it easy to interact with the chatbot?  \\\n",
       "0  Instant reply made it quick and easy.  No conf...                        \n",
       "1  questions were simple and easy to answer, the ...                        \n",
       "2  the chatbot was intuitive, human sounding, and...                        \n",
       "3                                                NaN                        \n",
       "4                     it was like talking to a human                        \n",
       "\n",
       "  5.0 For what reasons did you find it difficult to interact with the chatbot?  \\\n",
       "0                                                NaN                             \n",
       "1                                                NaN                             \n",
       "2                                                NaN                             \n",
       "3  As I said before, it was frustrating not getti...                             \n",
       "4                                                NaN                             \n",
       "\n",
       "  6.0 Given your scenario, were you able to get to a point with the chatbot where someone was dispatched to help you?  \\\n",
       "0                        Yes, someone was dispatched                                                                    \n",
       "1                        Yes, someone was dispatched                                                                    \n",
       "2                        Yes, someone was dispatched                                                                    \n",
       "3                        Yes, someone was dispatched                                                                    \n",
       "4                        Yes, someone was dispatched                                                                    \n",
       "\n",
       "  7.0 If this had been an actual situation where you used the Chatbot for help, based on this experience how confident would you feel that someone was coming to help?  \\\n",
       "0                                     Very confident                                                                                                                     \n",
       "1                                     Very confident                                                                                                                     \n",
       "2                                     Very confident                                                                                                                     \n",
       "3                               Somewhat unconfident                                                                                                                     \n",
       "4                                     Very confident                                                                                                                     \n",
       "\n",
       "                         ...                          \\\n",
       "0                        ...                           \n",
       "1                        ...                           \n",
       "2                        ...                           \n",
       "3                        ...                           \n",
       "4                        ...                           \n",
       "\n",
       "  9.0 For what reasons were you satisfied with your overall experience with Allstate’s chatbot?  \\\n",
       "0  It was able to interact with me with no mistak...                                              \n",
       "1                        It was quick and easy to do                                              \n",
       "2  it worked exactly as expected. the only thing ...                                              \n",
       "3                                                NaN                                              \n",
       "4  it would be an easy way to get service besides...                                              \n",
       "\n",
       "  10.0 For what reasons were you dissatisfied with your overall experience with Allstate’s chatbot?  \\\n",
       "0                                                NaN                                                  \n",
       "1                                                NaN                                                  \n",
       "2                                                NaN                                                  \n",
       "3  Lack of human interaction. See my other commen...                                                  \n",
       "4                                                NaN                                                  \n",
       "\n",
       "  11.0 What challenges did you face, if any, while interacting with the chatbot?  \\\n",
       "0  The submit button didn't work on the map when ...                               \n",
       "1  Getting an address for the car location but th...                               \n",
       "2                        see previous answer. Sorry.                               \n",
       "3  As I said previously, \"she\" did not understand...                               \n",
       "4     had to start over in the middle of the process                               \n",
       "\n",
       "  12.0 Please describe at what point you got hung up with the chatbot. Refer back to your text messages, if necessary.  \\\n",
       "0                                                NaN                                                                     \n",
       "1                                                NaN                                                                     \n",
       "2                                                NaN                                                                     \n",
       "3                                                NaN                                                                     \n",
       "4                                                NaN                                                                     \n",
       "\n",
       "  13.0 What, if at anything, would you change to improve Allstate’s chatbot?  \\\n",
       "0                                   I would improve:                           \n",
       "1  It does not need to be improved/nothing comes ...                           \n",
       "2                                   I would improve:                           \n",
       "3                                   I would improve:                           \n",
       "4  It does not need to be improved/nothing comes ...                           \n",
       "\n",
       "                                    I would improve:  \\\n",
       "0  I think it would be helpful to have the chat b...   \n",
       "1                                                NaN   \n",
       "2  maybe an optional photo capability, especially...   \n",
       "3  Add a REAL human interface! You may start out ...   \n",
       "4                                                NaN   \n",
       "\n",
       "  14.0 Imagine you’re in need of roadside assistance, how would you prefer to request help?  \\\n",
       "0                                       Text message                                          \n",
       "1                    Request using an app or website                                          \n",
       "2                                       Text message                                          \n",
       "3                                         Phone call                                          \n",
       "4                                       Text message                                          \n",
       "\n",
       "  Other (please specify):  \\\n",
       "0                     NaN   \n",
       "1                     NaN   \n",
       "2                     NaN   \n",
       "3                     NaN   \n",
       "4                     NaN   \n",
       "\n",
       "  15.0 Thanks! Is there anything else you’d like to share on this topic before we go?  \\\n",
       "0                                        No, thanks.                                    \n",
       "1                                        No, thanks.                                    \n",
       "2                            Yes, I’d like to share:                                    \n",
       "3                            Yes, I’d like to share:                                    \n",
       "4                                        No, thanks.                                    \n",
       "\n",
       "                             Yes, I’d like to share:  \n",
       "0                                                NaN  \n",
       "1                                                NaN  \n",
       "2  THIS WORKED GREAT. DO IT.i recently used roads...  \n",
       "3  Glad I'm getting a small payment for the frust...  \n",
       "4                                                NaN  \n",
       "\n",
       "[5 rows x 21 columns]"
      ]
     },
     "execution_count": 29,
     "metadata": {},
     "output_type": "execute_result"
    }
   ],
   "source": [
    "data.head()"
   ]
  },
  {
   "cell_type": "code",
   "execution_count": 36,
   "metadata": {},
   "outputs": [
    {
     "data": {
      "text/plain": [
       "Very easy         131\n",
       "Easy               40\n",
       "Neutral            11\n",
       "Very difficult      5\n",
       "Difficult           4\n",
       "Name: 3.0 Thanks! How easy or difficult did you find interacting with the chatbot?, dtype: int64"
      ]
     },
     "execution_count": 36,
     "metadata": {},
     "output_type": "execute_result"
    }
   ],
   "source": [
    "data.iloc[:,5].value_counts()."
   ]
  },
  {
   "cell_type": "code",
   "execution_count": 39,
   "metadata": {
    "collapsed": true
   },
   "outputs": [],
   "source": [
    "import seaborn as sns\n",
    "import matplotlib.pyplot as plt\n",
    "%matplotlib inline"
   ]
  },
  {
   "cell_type": "code",
   "execution_count": 60,
   "metadata": {},
   "outputs": [
    {
     "data": {
      "text/plain": [
       "<matplotlib.axes._subplots.AxesSubplot at 0x11a023cf8>"
      ]
     },
     "execution_count": 60,
     "metadata": {},
     "output_type": "execute_result"
    },
    {
     "data": {
      "image/png": "[encoded data removed]",
      "text/plain": [
       "<matplotlib.figure.Figure at 0x11a1b12e8>"
      ]
     },
     "metadata": {},
     "output_type": "display_data"
    }
   ],
   "source": [
    "plt.figure(figsize=(12,6))\n",
    "sns.countplot(data.iloc[:,5])"
   ]
  },
  {
   "cell_type": "code",
   "execution_count": 59,
   "metadata": {},
   "outputs": [
    {
     "data": {
      "text/plain": [
       "<matplotlib.axes._subplots.AxesSubplot at 0x11a001a20>"
      ]
     },
     "execution_count": 59,
     "metadata": {},
     "output_type": "execute_result"
    },
    {
     "data": {
      "image/png": "[encoded data removed]",
      "text/plain": [
       "<matplotlib.figure.Figure at 0x11a008518>"
      ]
     },
     "metadata": {},
     "output_type": "display_data"
    }
   ],
   "source": [
    "plt.figure(figsize=(8,5))\n",
    "sns.countplot(data.iloc[:,8])"
   ]
  },
  {
   "cell_type": "code",
   "execution_count": 58,
   "metadata": {},
   "outputs": [
    {
     "data": {
      "text/plain": [
       "<matplotlib.axes._subplots.AxesSubplot at 0x118c260f0>"
      ]
     },
     "execution_count": 58,
     "metadata": {},
     "output_type": "execute_result"
    },
    {
     "data": {
      "image/png": "[encoded data removed]",
      "text/plain": [
       "<matplotlib.figure.Figure at 0x119dc90b8>"
      ]
     },
     "metadata": {},
     "output_type": "display_data"
    }
   ],
   "source": [
    "plt.figure(figsize=(12,6))\n",
    "sns.countplot(data.iloc[:,9])"
   ]
  },
  {
   "cell_type": "code",
   "execution_count": 57,
   "metadata": {},
   "outputs": [
    {
     "data": {
      "text/plain": [
       "<matplotlib.axes._subplots.AxesSubplot at 0x1194d7080>"
      ]
     },
     "execution_count": 57,
     "metadata": {},
     "output_type": "execute_result"
    },
    {
     "data": {
      "image/png": "[encoded data removed]",
      "text/plain": [
       "<matplotlib.figure.Figure at 0x1199305c0>"
      ]
     },
     "metadata": {},
     "output_type": "display_data"
    }
   ],
   "source": [
    "plt.figure(figsize=(8,5))\n",
    "sns.countplot(data.iloc[:,-6])"
   ]
  },
  {
   "cell_type": "code",
   "execution_count": 61,
   "metadata": {},
   "outputs": [
    {
     "data": {
      "text/plain": [
       "<matplotlib.axes._subplots.AxesSubplot at 0x11a1d84a8>"
      ]
     },
     "execution_count": 61,
     "metadata": {},
     "output_type": "execute_result"
    },
    {
     "data": {
      "image/png": "[encoded data removed]",
      "text/plain": [
       "<matplotlib.figure.Figure at 0x11a01af60>"
      ]
     },
     "metadata": {},
     "output_type": "display_data"
    }
   ],
   "source": [
    "sns.countplot(data.iloc[:,-2])"
   ]
  },
  {
   "cell_type": "code",
   "execution_count": 90,
   "metadata": {
    "collapsed": true
   },
   "outputs": [],
   "source": [
    "results=pd.read_csv(\"/Users/dualpahse_ai/Desktop/convofinal.csv\")"
   ]
  },
  {
   "cell_type": "code",
   "execution_count": 95,
   "metadata": {},
   "outputs": [
    {
     "data": {
      "image/png": "[encoded data removed]",
      "text/plain": [
       "<matplotlib.figure.Figure at 0x11bbaaf28>"
      ]
     },
     "metadata": {},
     "output_type": "display_data"
    }
   ],
   "source": [
    "plt.figure(figsize=(8,5))\n",
    "sns.countplot(results.iloc[:,1])\n",
    "servicetypeDee=results.iloc[:,1]"
   ]
  },
  {
   "cell_type": "code",
   "execution_count": 81,
   "metadata": {
    "collapsed": true
   },
   "outputs": [],
   "source": [
    "dan=pd.read_csv(\"/Users/dualpahse_ai/Desktop/dan.csv\")\n",
    "servicetypeDan=results.iloc[:,1]\n",
    "sns.countplot(dan.iloc[:,1])"
   ]
  },
  {
   "cell_type": "code",
   "execution_count": 96,
   "metadata": {},
   "outputs": [
    {
     "data": {
      "text/plain": [
       "<matplotlib.axes._subplots.AxesSubplot at 0x11bc9b5f8>"
      ]
     },
     "execution_count": 96,
     "metadata": {},
     "output_type": "execute_result"
    },
    {
     "data": {
      "image/png": "[encoded data removed]",
      "text/plain": [
       "<matplotlib.figure.Figure at 0x11b696a20>"
      ]
     },
     "metadata": {},
     "output_type": "display_data"
    }
   ],
   "source": [
    "man=pd.read_csv(\"/Users/dualpahse_ai/Desktop/manjunath.csv\")\n",
    "servicetypeMan=results.iloc[:,1]\n",
    "sns.countplot(dan.iloc[:,1])"
   ]
  },
  {
   "cell_type": "code",
   "execution_count": 94,
   "metadata": {
    "collapsed": true
   },
   "outputs": [],
   "source": [
    "from scipy import stats"
   ]
  },
  {
   "cell_type": "code",
   "execution_count": 115,
   "metadata": {},
   "outputs": [
    {
     "data": {
      "text/plain": [
       "ft    23\n",
       "na    22\n",
       "mt     6\n",
       "Name: Vehicle Location Freeform, dtype: int64"
      ]
     },
     "execution_count": 115,
     "metadata": {},
     "output_type": "execute_result"
    }
   ],
   "source": [
    "dan.iloc[:,2].value_counts()"
   ]
  },
  {
   "cell_type": "code",
   "execution_count": 119,
   "metadata": {},
   "outputs": [
    {
     "data": {
      "text/plain": [
       "Index(['Conversation ID', ' ServiceType', 'Vehicle Location Freeform',\n",
       "       'Vehicle Location Autocorrect', 'Vehicle info', 'Tow Location',\n",
       "       'Tow Auto correct'],\n",
       "      dtype='object')"
      ]
     },
     "execution_count": 119,
     "metadata": {},
     "output_type": "execute_result"
    }
   ],
   "source": [
    "dan.columns"
   ]
  },
  {
   "cell_type": "code",
   "execution_count": 122,
   "metadata": {},
   "outputs": [
    {
     "data": {
      "text/plain": [
       "ft    46\n",
       "mt     4\n",
       "nv     1\n",
       "Name:  ServiceType, dtype: int64"
      ]
     },
     "execution_count": 122,
     "metadata": {},
     "output_type": "execute_result"
    }
   ],
   "source": [
    "dan[\" ServiceType\"].value_counts()"
   ]
  },
  {
   "cell_type": "code",
   "execution_count": 129,
   "metadata": {
    "collapsed": true
   },
   "outputs": [],
   "source": [
    "dan[dan[\" ServiceType\"=='ft']]=1\n",
    "dan[dan[\" ServiceType\"=='mv']]=2\n",
    "dan[dan[\" ServiceType\"=='nv']]=3\n",
    "man[man[\" ServiceType\"=='ft']]=1\n",
    "man[man[\" ServiceType\"=='mv']]=2\n",
    "man[man[\" ServiceType\"=='nv']]=3\n"
   ]
  },
  {
   "cell_type": "code",
   "execution_count": 132,
   "metadata": {},
   "outputs": [
    {
     "name": "stderr",
     "output_type": "stream",
     "text": [
      "/Users/dualpahse_ai/anaconda/lib/python3.6/site-packages/scipy/stats/stats.py:253: RuntimeWarning: The input array could not be properly checked for nan values. nan values will be ignored.\n",
      "  \"values. nan values will be ignored.\", RuntimeWarning)\n"
     ]
    },
    {
     "ename": "TypeError",
     "evalue": "unsupported operand type(s) for /: 'str' and 'int'",
     "output_type": "error",
     "traceback": [
      "\u001b[0;31m---------------------------------------------------------------------------\u001b[0m",
      "\u001b[0;31mTypeError\u001b[0m                                 Traceback (most recent call last)",
      "\u001b[0;32m<ipython-input-132-2b1398759412>\u001b[0m in \u001b[0;36m<module>\u001b[0;34m()\u001b[0m\n\u001b[0;32m----> 1\u001b[0;31m \u001b[0mstats\u001b[0m\u001b[0;34m.\u001b[0m\u001b[0mttest_ind\u001b[0m\u001b[0;34m(\u001b[0m\u001b[0mdan\u001b[0m\u001b[0;34m[\u001b[0m\u001b[0;34m\" ServiceType\"\u001b[0m\u001b[0;34m]\u001b[0m\u001b[0;34m,\u001b[0m\u001b[0mman\u001b[0m\u001b[0;34m[\u001b[0m\u001b[0;34m\" ServiceType\"\u001b[0m\u001b[0;34m]\u001b[0m\u001b[0;34m)\u001b[0m\u001b[0;34m\u001b[0m\u001b[0m\n\u001b[0m",
      "\u001b[0;32m/Users/dualpahse_ai/anaconda/lib/python3.6/site-packages/scipy/stats/stats.py\u001b[0m in \u001b[0;36mttest_ind\u001b[0;34m(a, b, axis, equal_var, nan_policy)\u001b[0m\n\u001b[1;32m   4058\u001b[0m         \u001b[0;32mreturn\u001b[0m \u001b[0mTtest_indResult\u001b[0m\u001b[0;34m(\u001b[0m\u001b[0mnp\u001b[0m\u001b[0;34m.\u001b[0m\u001b[0mnan\u001b[0m\u001b[0;34m,\u001b[0m \u001b[0mnp\u001b[0m\u001b[0;34m.\u001b[0m\u001b[0mnan\u001b[0m\u001b[0;34m)\u001b[0m\u001b[0;34m\u001b[0m\u001b[0m\n\u001b[1;32m   4059\u001b[0m \u001b[0;34m\u001b[0m\u001b[0m\n\u001b[0;32m-> 4060\u001b[0;31m     \u001b[0mv1\u001b[0m \u001b[0;34m=\u001b[0m \u001b[0mnp\u001b[0m\u001b[0;34m.\u001b[0m\u001b[0mvar\u001b[0m\u001b[0;34m(\u001b[0m\u001b[0ma\u001b[0m\u001b[0;34m,\u001b[0m \u001b[0maxis\u001b[0m\u001b[0;34m,\u001b[0m \u001b[0mddof\u001b[0m\u001b[0;34m=\u001b[0m\u001b[0;36m1\u001b[0m\u001b[0;34m)\u001b[0m\u001b[0;34m\u001b[0m\u001b[0m\n\u001b[0m\u001b[1;32m   4061\u001b[0m     \u001b[0mv2\u001b[0m \u001b[0;34m=\u001b[0m \u001b[0mnp\u001b[0m\u001b[0;34m.\u001b[0m\u001b[0mvar\u001b[0m\u001b[0;34m(\u001b[0m\u001b[0mb\u001b[0m\u001b[0;34m,\u001b[0m \u001b[0maxis\u001b[0m\u001b[0;34m,\u001b[0m \u001b[0mddof\u001b[0m\u001b[0;34m=\u001b[0m\u001b[0;36m1\u001b[0m\u001b[0;34m)\u001b[0m\u001b[0;34m\u001b[0m\u001b[0m\n\u001b[1;32m   4062\u001b[0m     \u001b[0mn1\u001b[0m \u001b[0;34m=\u001b[0m \u001b[0ma\u001b[0m\u001b[0;34m.\u001b[0m\u001b[0mshape\u001b[0m\u001b[0;34m[\u001b[0m\u001b[0maxis\u001b[0m\u001b[0;34m]\u001b[0m\u001b[0;34m\u001b[0m\u001b[0m\n",
      "\u001b[0;32m/Users/dualpahse_ai/anaconda/lib/python3.6/site-packages/numpy/core/fromnumeric.py\u001b[0m in \u001b[0;36mvar\u001b[0;34m(a, axis, dtype, out, ddof, keepdims)\u001b[0m\n\u001b[1;32m   3124\u001b[0m \u001b[0;34m\u001b[0m\u001b[0m\n\u001b[1;32m   3125\u001b[0m     return _methods._var(a, axis=axis, dtype=dtype, out=out, ddof=ddof,\n\u001b[0;32m-> 3126\u001b[0;31m                          **kwargs)\n\u001b[0m",
      "\u001b[0;32m/Users/dualpahse_ai/anaconda/lib/python3.6/site-packages/numpy/core/_methods.py\u001b[0m in \u001b[0;36m_var\u001b[0;34m(a, axis, dtype, out, ddof, keepdims)\u001b[0m\n\u001b[1;32m    103\u001b[0m     \u001b[0;32mif\u001b[0m \u001b[0misinstance\u001b[0m\u001b[0;34m(\u001b[0m\u001b[0marrmean\u001b[0m\u001b[0;34m,\u001b[0m \u001b[0mmu\u001b[0m\u001b[0;34m.\u001b[0m\u001b[0mndarray\u001b[0m\u001b[0;34m)\u001b[0m\u001b[0;34m:\u001b[0m\u001b[0;34m\u001b[0m\u001b[0m\n\u001b[1;32m    104\u001b[0m         arrmean = um.true_divide(\n\u001b[0;32m--> 105\u001b[0;31m                 arrmean, rcount, out=arrmean, casting='unsafe', subok=False)\n\u001b[0m\u001b[1;32m    106\u001b[0m     \u001b[0;32melse\u001b[0m\u001b[0;34m:\u001b[0m\u001b[0;34m\u001b[0m\u001b[0m\n\u001b[1;32m    107\u001b[0m         \u001b[0marrmean\u001b[0m \u001b[0;34m=\u001b[0m \u001b[0marrmean\u001b[0m\u001b[0;34m.\u001b[0m\u001b[0mdtype\u001b[0m\u001b[0;34m.\u001b[0m\u001b[0mtype\u001b[0m\u001b[0;34m(\u001b[0m\u001b[0marrmean\u001b[0m \u001b[0;34m/\u001b[0m \u001b[0mrcount\u001b[0m\u001b[0;34m)\u001b[0m\u001b[0;34m\u001b[0m\u001b[0m\n",
      "\u001b[0;31mTypeError\u001b[0m: unsupported operand type(s) for /: 'str' and 'int'"
     ]
    }
   ],
   "source": [
    "stats.ttest_ind(dan[\" ServiceType\"],man[\" ServiceType\"])"
   ]
  },
  {
   "cell_type": "code",
   "execution_count": 134,
   "metadata": {},
   "outputs": [
    {
     "data": {
      "text/plain": [
       "['mt',\n",
       " 'ft',\n",
       " 'ft',\n",
       " 'ft',\n",
       " 'ft',\n",
       " 'ft',\n",
       " 'ft',\n",
       " 'ft',\n",
       " 'ft',\n",
       " 'ft',\n",
       " 'ft',\n",
       " 'ft',\n",
       " 'ft',\n",
       " 'ft',\n",
       " 'ft',\n",
       " 'ft',\n",
       " 'ft',\n",
       " 'nv',\n",
       " 'ft',\n",
       " 'ft',\n",
       " 'ft',\n",
       " 'ft',\n",
       " 'ft',\n",
       " 'ft',\n",
       " 'ft',\n",
       " 'ft',\n",
       " 'ft',\n",
       " 'ft',\n",
       " 'ft',\n",
       " 'ft',\n",
       " 'ft',\n",
       " 'ft',\n",
       " 'ft',\n",
       " 'ft',\n",
       " 'ft',\n",
       " 'ft',\n",
       " 'ft',\n",
       " 'ft',\n",
       " 'ft',\n",
       " 'ft',\n",
       " 'ft',\n",
       " 'mt',\n",
       " 'ft',\n",
       " 'ft',\n",
       " 'mt',\n",
       " 'ft',\n",
       " 'ft',\n",
       " 'ft',\n",
       " 'ft',\n",
       " 'mt',\n",
       " 'ft']"
      ]
     },
     "execution_count": 134,
     "metadata": {},
     "output_type": "execute_result"
    }
   ],
   "source": [
    "(dan[\" ServiceType\"])"
   ]
  },
  {
   "cell_type": "code",
   "execution_count": null,
   "metadata": {
    "collapsed": true
   },
   "outputs": [],
   "source": []
  }
 ],
 "metadata": {
  "anaconda-cloud": {},
  "kernelspec": {
   "display_name": "Python 2",
   "language": "python",
   "name": "python2"
  },
  "language_info": {
   "codemirror_mode": {
    "name": "ipython",
    "version": 3
   },
   "file_extension": ".py",
   "mimetype": "text/x-python",
   "name": "python",
   "nbconvert_exporter": "python",
   "pygments_lexer": "ipython3",
   "version": "3.6.1"
  }
 },
 "nbformat": 4,
 "nbformat_minor": 2
}
