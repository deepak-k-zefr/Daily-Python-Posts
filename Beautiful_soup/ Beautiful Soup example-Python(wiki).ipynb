{
 "cells": [
  {
   "cell_type": "markdown",
   "metadata": {},
   "source": [
    "## Beautiful Soup"
   ]
  },
  {
   "cell_type": "code",
   "execution_count": 1,
   "metadata": {},
   "outputs": [
    {
     "data": {
      "text/plain": [
       "<html><p>This is <b>invalid HTML</b></p></html>"
      ]
     },
     "execution_count": 1,
     "metadata": {},
     "output_type": "execute_result"
    }
   ],
   "source": [
    "from bs4 import BeautifulSoup\n",
    "\n",
    "\n",
    "## html.parser\n",
    "soup = BeautifulSoup(\"<html><p>This is <b>invalid HTML</p></html>\", \"html.parser\")\n",
    "soup"
   ]
  },
  {
   "cell_type": "code",
   "execution_count": 2,
   "metadata": {},
   "outputs": [
    {
     "name": "stdout",
     "output_type": "stream",
     "text": [
      "<html><body><p>This is <b>invalid HTML</b></p></body></html>\n"
     ]
    }
   ],
   "source": [
    "## lxml\n",
    "soup = BeautifulSoup(\"<html><p>This is <b>invalid HTML</p></html>\", \"lxml\")\n",
    "print(soup)"
   ]
  },
  {
   "cell_type": "code",
   "execution_count": 4,
   "metadata": {},
   "outputs": [
    {
     "name": "stdout",
     "output_type": "stream",
     "text": [
      "<?xml version=\"1.0\" encoding=\"utf-8\"?>\n",
      "<html><p>This is <b>invalid HTML</b></p></html>\n"
     ]
    }
   ],
   "source": [
    "## xml\n",
    "soup = BeautifulSoup(\"<html><p>This is <b>invalid HTML</p></html>\", \"xml\")\n",
    "print(soup)"
   ]
  },
  {
   "cell_type": "code",
   "execution_count": 5,
   "metadata": {},
   "outputs": [
    {
     "name": "stdout",
     "output_type": "stream",
     "text": [
      "<html><head></head><body><p>This is <b>invalid HTML</b></p></body></html>\n"
     ]
    }
   ],
   "source": [
    "## html5lib\n",
    "soup = BeautifulSoup(\"<html><p>This is <b>invalid HTML</p></html>\", \"html5lib\")\n",
    "print(soup)\n",
    "# <html><head></head><body><p>This is <b>invalid HTML</b></p></body></html>"
   ]
  },
  {
   "cell_type": "code",
   "execution_count": 6,
   "metadata": {
    "collapsed": true
   },
   "outputs": [],
   "source": [
    "import requests\n",
    "\n",
    "req = requests.get('https://en.wikipedia.org/wiki/Python_(programming_language)')\n",
    "soup = BeautifulSoup(req.text, \"lxml\")"
   ]
  },
  {
   "cell_type": "code",
   "execution_count": 7,
   "metadata": {},
   "outputs": [
    {
     "data": {
      "text/plain": [
       "<title>Python (programming language) - Wikipedia</title>"
      ]
     },
     "execution_count": 7,
     "metadata": {},
     "output_type": "execute_result"
    }
   ],
   "source": [
    "soup.title"
   ]
  },
  {
   "cell_type": "code",
   "execution_count": 8,
   "metadata": {},
   "outputs": [
    {
     "data": {
      "text/plain": [
       "'title'"
      ]
     },
     "execution_count": 8,
     "metadata": {},
     "output_type": "execute_result"
    }
   ],
   "source": [
    "soup.title.name"
   ]
  },
  {
   "cell_type": "code",
   "execution_count": 9,
   "metadata": {},
   "outputs": [
    {
     "data": {
      "text/plain": [
       "'Python (programming language) - Wikipedia'"
      ]
     },
     "execution_count": 9,
     "metadata": {},
     "output_type": "execute_result"
    }
   ],
   "source": [
    "soup.title.string"
   ]
  },
  {
   "cell_type": "code",
   "execution_count": 10,
   "metadata": {},
   "outputs": [
    {
     "name": "stdout",
     "output_type": "stream",
     "text": [
      "<h1 class=\"firstHeading\" id=\"firstHeading\" lang=\"en\">Python (programming language)</h1>\n",
      "Python (programming language)\n",
      "['firstHeading']\n",
      "en\n"
     ]
    }
   ],
   "source": [
    "print(\"H1  :  \",soup.h1)\n",
    "print(\"H1 string  : \",soup.h1.string)\n",
    "print(soup.h1['class'])\n",
    "print(soup.h1['lang'])"
   ]
  },
  {
   "cell_type": "code",
   "execution_count": 21,
   "metadata": {},
   "outputs": [
    {
     "name": "stdout",
     "output_type": "stream",
     "text": [
      "firstHeading\n",
      "{'id': 'firstHeading', 'class': ['firstHeading'], 'lang': 'en'}\n"
     ]
    }
   ],
   "source": [
    "print(soup.h1[\"id\"])\n",
    "print(soup.h1.attrs)"
   ]
  },
  {
   "cell_type": "code",
   "execution_count": 22,
   "metadata": {},
   "outputs": [
    {
     "name": "stdout",
     "output_type": "stream",
     "text": [
      "Contents\n",
      "History[edit]\n",
      "Features and philosophy[edit]\n",
      "Syntax and semantics[edit]\n",
      "Libraries[edit]\n",
      "Development environments[edit]\n",
      "Implementations[edit]\n",
      "Development[edit]\n",
      "Naming[edit]\n",
      "Uses[edit]\n",
      "Languages influenced by Python[edit]\n",
      "See also[edit]\n",
      "References[edit]\n",
      "Further reading[edit]\n",
      "External links[edit]\n",
      "Navigation menu\n"
     ]
    }
   ],
   "source": [
    "for sub_heading in soup.find_all('h2'):\n",
    "    print(sub_heading.text)"
   ]
  },
  {
   "cell_type": "code",
   "execution_count": 23,
   "metadata": {},
   "outputs": [
    {
     "name": "stdout",
     "output_type": "stream",
     "text": [
      "div\n"
     ]
    }
   ],
   "source": [
    "print(soup.p.parent.name)"
   ]
  },
  {
   "cell_type": "code",
   "execution_count": 24,
   "metadata": {},
   "outputs": [
    {
     "name": "stdout",
     "output_type": "stream",
     "text": [
      "div\n",
      "div\n",
      "div\n",
      "div\n",
      "body\n",
      "html\n",
      "[document]\n"
     ]
    }
   ],
   "source": [
    "for parent in soup.p.parents:\n",
    "    print(parent.name)"
   ]
  },
  {
   "cell_type": "code",
   "execution_count": 34,
   "metadata": {},
   "outputs": [
    {
     "name": "stdout",
     "output_type": "stream",
     "text": [
      "sss\n",
      "\n"
     ]
    }
   ],
   "source": [
    "print(soup.head.next_sibling)# '\\n'\n",
    "print(soup.p.a.next_sibling)# ' for ' \n",
    "print(soup.p.a.previous_sibling)# ' is a widely used '\n",
    "print(soup.p.b.previous_sibling)\n",
    "# None"
   ]
  },
  {
   "cell_type": "code",
   "execution_count": 35,
   "metadata": {},
   "outputs": [
    {
     "data": {
      "text/plain": [
       "'\\n'"
      ]
     },
     "execution_count": 35,
     "metadata": {},
     "output_type": "execute_result"
    }
   ],
   "source": [
    "soup.a.next_element"
   ]
  },
  {
   "cell_type": "code",
   "execution_count": 37,
   "metadata": {},
   "outputs": [
    {
     "data": {
      "text/plain": [
       "'\\n'"
      ]
     },
     "execution_count": 37,
     "metadata": {},
     "output_type": "execute_result"
    }
   ],
   "source": [
    "soup.a.previous_element"
   ]
  },
  {
   "cell_type": "code",
   "execution_count": null,
   "metadata": {
    "collapsed": true
   },
   "outputs": [],
   "source": []
  }
 ],
 "metadata": {
  "kernelspec": {
   "display_name": "Python [conda env:python36]",
   "language": "python",
   "name": "conda-env-python36-py"
  },
  "language_info": {
   "codemirror_mode": {
    "name": "ipython",
    "version": 3
   },
   "file_extension": ".py",
   "mimetype": "text/x-python",
   "name": "python",
   "nbconvert_exporter": "python",
   "pygments_lexer": "ipython3",
   "version": "3.6.1"
  }
 },
 "nbformat": 4,
 "nbformat_minor": 2
}
