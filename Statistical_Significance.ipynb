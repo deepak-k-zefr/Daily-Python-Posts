{
 "cells": [
  {
   "cell_type": "markdown",
   "metadata": {},
   "source": [
    "### Hypothesis Testing"
   ]
  },
  {
   "cell_type": "code",
   "execution_count": 17,
   "metadata": {},
   "outputs": [],
   "source": [
    "from numpy.random import seed\n",
    "from numpy.random import normal\n",
    "from numpy import savetxt"
   ]
  },
  {
   "cell_type": "code",
   "execution_count": 18,
   "metadata": {
    "collapsed": true
   },
   "outputs": [],
   "source": [
    "mean=50\n",
    "stev=1"
   ]
  },
  {
   "cell_type": "code",
   "execution_count": 21,
   "metadata": {
    "collapsed": true
   },
   "outputs": [],
   "source": [
    "results = normal(mean, stev, 100)\n",
    "# save to ASCII file\n",
    "savetxt('results1.csv', results)"
   ]
  },
  {
   "cell_type": "code",
   "execution_count": 22,
   "metadata": {},
   "outputs": [
    {
     "data": {
      "text/plain": [
       "array([ 48.89938082,  51.14472371,  50.90159072,  50.50249434,\n",
       "        50.90085595,  49.31627214,  49.87710977,  49.06423057,\n",
       "        49.73211192,  50.53035547,  49.30833925,  49.60324647,\n",
       "        49.3128273 ,  49.15479436,  49.32875387,  49.9873354 ,\n",
       "        48.88268965,  50.2344157 ,  51.65980218,  50.74204416,\n",
       "        49.80816445,  49.11237104,  49.25284171,  51.6924546 ,\n",
       "        50.05080775,  49.36300435,  50.19091548,  52.10025514,\n",
       "        50.12015895,  50.61720311,  50.30017032,  49.64775015,\n",
       "        48.8574818 ,  49.65065728,  49.79110577,  50.58662319,\n",
       "        50.83898341,  50.93110208,  50.28558733,  50.88514116,\n",
       "        49.24560206,  51.25286816,  50.51292982,  49.70190716,\n",
       "        50.48851815,  49.92442829,  51.13162939,  51.51981682,\n",
       "        52.18557541,  48.60350366,  48.55588619,  49.49553414,\n",
       "        50.16003707,  50.87616892,  50.31563495,  47.97779878,\n",
       "        49.69379599,  50.82797464,  50.23009474,  50.76201118,\n",
       "        49.77767186,  49.79924193,  50.18656139,  50.41005165,\n",
       "        50.19829972,  50.11900865,  49.32933771,  50.37756379,\n",
       "        50.12182127,  51.12948391,  51.19891788,  50.18515642,\n",
       "        49.62471505,  49.36126959,  50.42349435,  50.07734007,\n",
       "        49.65614632,  50.04359686,  49.37999916,  50.69803203,\n",
       "        49.55287144,  51.2245077 ,  50.40349164,  50.59357852,\n",
       "        48.90508815,  50.16938243,  50.74055645,  49.0462994 ,\n",
       "        49.73378149,  50.03261455,  48.62688268,  50.31515939,\n",
       "        50.84616065,  49.14048406,  50.35054598,  48.68771659,\n",
       "        49.96130449,  48.38422765,  51.12141771,  50.40890054])"
      ]
     },
     "execution_count": 22,
     "metadata": {},
     "output_type": "execute_result"
    }
   ],
   "source": [
    "results"
   ]
  },
  {
   "cell_type": "code",
   "execution_count": 23,
   "metadata": {
    "collapsed": true
   },
   "outputs": [],
   "source": [
    "from numpy.random import seed\n",
    "from numpy.random import normal\n",
    "from numpy import savetxt\n",
    "# define underlying distribution of results\n",
    "mean = 60\n",
    "stev = 10\n",
    "# generate samples from ideal distribution\n",
    "seed(1)\n",
    "results = normal(mean, stev, 100)\n",
    "# save to ASCII file\n",
    "savetxt('results2.csv', results)"
   ]
  },
  {
   "cell_type": "code",
   "execution_count": 24,
   "metadata": {},
   "outputs": [
    {
     "name": "stdout",
     "output_type": "stream",
     "text": [
      "                A           B\n",
      "count  100.000000  100.000000\n",
      "mean    50.069705   60.605829\n",
      "std      0.828639    8.896155\n",
      "min     47.977799   36.984613\n",
      "25%     49.466650   53.861825\n",
      "50%     50.120990   60.640739\n",
      "75%     50.599485   66.374103\n",
      "max     52.185575   81.855754\n"
     ]
    },
    {
     "data": {
      "image/png": "[encoded data removed]",
      "text/plain": [
       "<matplotlib.figure.Figure at 0x11a7bcf60>"
      ]
     },
     "metadata": {},
     "output_type": "display_data"
    },
    {
     "data": {
      "image/png": "[encoded data removed]",
      "text/plain": [
       "<matplotlib.figure.Figure at 0x11a8ff048>"
      ]
     },
     "metadata": {},
     "output_type": "display_data"
    }
   ],
   "source": [
    "from pandas import DataFrame\n",
    "from pandas import read_csv\n",
    "from matplotlib import pyplot\n",
    "# load results file\n",
    "results = DataFrame()\n",
    "results['A'] = read_csv('results1.csv', header=None).values[:, 0]\n",
    "results['B'] = read_csv('results2.csv', header=None).values[:, 0]\n",
    "# descriptive stats\n",
    "print(results.describe())\n",
    "# box and whisker plot\n",
    "results.boxplot()\n",
    "pyplot.show()\n",
    "# histogram\n",
    "results.hist()\n",
    "pyplot.show()"
   ]
  },
  {
   "cell_type": "markdown",
   "metadata": {},
   "source": [
    "### Are the distributions normal? "
   ]
  },
  {
   "cell_type": "code",
   "execution_count": 25,
   "metadata": {},
   "outputs": [
    {
     "name": "stdout",
     "output_type": "stream",
     "text": [
      "0.041133200448 0.979643449829\n",
      "It is likely that result1 is normal\n"
     ]
    }
   ],
   "source": [
    "from pandas import read_csv\n",
    "from scipy.stats import normaltest\n",
    "from matplotlib import pyplot\n",
    "result1 = read_csv('results1.csv', header=None)\n",
    "value, p = normaltest(result1.values[:,0])\n",
    "print(value, p)\n",
    "if p >= 0.05:\n",
    "\tprint('It is likely that result1 is normal')\n",
    "else:\n",
    "\tprint('It is unlikely that result1 is normal')"
   ]
  },
  {
   "cell_type": "code",
   "execution_count": 26,
   "metadata": {},
   "outputs": [
    {
     "name": "stdout",
     "output_type": "stream",
     "text": [
      "0.102023888326 0.950267320317\n",
      "It is likely that result2 is normal\n"
     ]
    }
   ],
   "source": [
    "from pandas import read_csv\n",
    "from scipy.stats import normaltest\n",
    "from matplotlib import pyplot\n",
    "result2 = read_csv('results2.csv', header=None)\n",
    "value, p = normaltest(result2.values[:,0])\n",
    "print(value, p)\n",
    "if p >= 0.05:\n",
    "\tprint('It is likely that result2 is normal')\n",
    "else:\n",
    "\tprint('It is unlikely that result2 is normal')"
   ]
  },
  {
   "cell_type": "code",
   "execution_count": null,
   "metadata": {
    "collapsed": true
   },
   "outputs": [],
   "source": [
    "### "
   ]
  },
  {
   "cell_type": "code",
   "execution_count": 27,
   "metadata": {},
   "outputs": [
    {
     "name": "stdout",
     "output_type": "stream",
     "text": [
      "-11.7924118386 1.10708107738e-20\n",
      "Samples are likely drawn from different distributions (reject H0)\n"
     ]
    }
   ],
   "source": [
    "from pandas import read_csv\n",
    "from scipy.stats import ttest_ind\n",
    "from matplotlib import pyplot\n",
    "# load results1\n",
    "result1 = read_csv('results1.csv', header=None)\n",
    "values1 = result1.values[:,0]\n",
    "# load results2\n",
    "result2 = read_csv('results2.csv', header=None)\n",
    "values2 = result2.values[:,0]\n",
    "# calculate the significance\n",
    "value, pvalue = ttest_ind(values1, values2, equal_var=False)\n",
    "print(value, pvalue)\n",
    "if pvalue > 0.05:\n",
    "\tprint('Samples are likely drawn from the same distributions (accept H0)')\n",
    "else:\n",
    "\tprint('Samples are likely drawn from different distributions (reject H0)')"
   ]
  },
  {
   "cell_type": "code",
   "execution_count": null,
   "metadata": {
    "collapsed": true
   },
   "outputs": [],
   "source": []
  }
 ],
 "metadata": {
  "kernelspec": {
   "display_name": "Python [conda root]",
   "language": "python",
   "name": "conda-root-py"
  },
  "language_info": {
   "codemirror_mode": {
    "name": "ipython",
    "version": 3
   },
   "file_extension": ".py",
   "mimetype": "text/x-python",
   "name": "python",
   "nbconvert_exporter": "python",
   "pygments_lexer": "ipython3",
   "version": "3.6.1"
  }
 },
 "nbformat": 4,
 "nbformat_minor": 2
}
