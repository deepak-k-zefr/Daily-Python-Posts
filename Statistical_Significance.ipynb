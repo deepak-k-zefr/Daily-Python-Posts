{
 "cells": [
  {
   "cell_type": "markdown",
   "metadata": {},
   "source": [
    "### Hypothesis Testing"
   ]
  },
  {
   "cell_type": "code",
   "execution_count": 17,
   "metadata": {},
   "outputs": [],
   "source": [
    "from numpy.random import seed\n",
    "from numpy.random import normal\n",
    "from numpy import savetxt"
   ]
  },
  {
   "cell_type": "markdown",
   "metadata": {},
   "source": [
    "### Create 2 Normal Distributions\n",
    "* 1-> (mean=50,stev=1)\n",
    "* 2-> (mean=60,stev=10)"
   ]
  },
  {
   "cell_type": "code",
   "execution_count": 18,
   "metadata": {
    "collapsed": true
   },
   "outputs": [],
   "source": [
    "mean=50   \n",
    "stev=1"
   ]
  },
  {
   "cell_type": "code",
   "execution_count": 35,
   "metadata": {
    "collapsed": true
   },
   "outputs": [],
   "source": [
    "results = normal(mean, stev, 100000)\n",
    "# save to ASCII file\n",
    "savetxt('results1.csv', results)"
   ]
  },
  {
   "cell_type": "code",
   "execution_count": 22,
   "metadata": {},
   "outputs": [
    {
     "data": {
      "text/plain": [
       "array([ 48.89938082,  51.14472371,  50.90159072,  50.50249434,\n",
       "        50.90085595,  49.31627214,  49.87710977,  49.06423057,\n",
       "        49.73211192,  50.53035547,  49.30833925,  49.60324647,\n",
       "        49.3128273 ,  49.15479436,  49.32875387,  49.9873354 ,\n",
       "        48.88268965,  50.2344157 ,  51.65980218,  50.74204416,\n",
       "        49.80816445,  49.11237104,  49.25284171,  51.6924546 ,\n",
       "        50.05080775,  49.36300435,  50.19091548,  52.10025514,\n",
       "        50.12015895,  50.61720311,  50.30017032,  49.64775015,\n",
       "        48.8574818 ,  49.65065728,  49.79110577,  50.58662319,\n",
       "        50.83898341,  50.93110208,  50.28558733,  50.88514116,\n",
       "        49.24560206,  51.25286816,  50.51292982,  49.70190716,\n",
       "        50.48851815,  49.92442829,  51.13162939,  51.51981682,\n",
       "        52.18557541,  48.60350366,  48.55588619,  49.49553414,\n",
       "        50.16003707,  50.87616892,  50.31563495,  47.97779878,\n",
       "        49.69379599,  50.82797464,  50.23009474,  50.76201118,\n",
       "        49.77767186,  49.79924193,  50.18656139,  50.41005165,\n",
       "        50.19829972,  50.11900865,  49.32933771,  50.37756379,\n",
       "        50.12182127,  51.12948391,  51.19891788,  50.18515642,\n",
       "        49.62471505,  49.36126959,  50.42349435,  50.07734007,\n",
       "        49.65614632,  50.04359686,  49.37999916,  50.69803203,\n",
       "        49.55287144,  51.2245077 ,  50.40349164,  50.59357852,\n",
       "        48.90508815,  50.16938243,  50.74055645,  49.0462994 ,\n",
       "        49.73378149,  50.03261455,  48.62688268,  50.31515939,\n",
       "        50.84616065,  49.14048406,  50.35054598,  48.68771659,\n",
       "        49.96130449,  48.38422765,  51.12141771,  50.40890054])"
      ]
     },
     "execution_count": 22,
     "metadata": {},
     "output_type": "execute_result"
    }
   ],
   "source": [
    "results"
   ]
  },
  {
   "cell_type": "code",
   "execution_count": 36,
   "metadata": {
    "collapsed": true
   },
   "outputs": [],
   "source": [
    "from numpy.random import seed\n",
    "from numpy.random import normal\n",
    "from numpy import savetxt\n",
    "# define underlying distribution of results\n",
    "mean = 60\n",
    "stev = 10\n",
    "# generate samples from ideal distribution\n",
    "seed(1)\n",
    "results = normal(mean, stev, 100000)\n",
    "# save to ASCII file\n",
    "savetxt('results2.csv', results)"
   ]
  },
  {
   "cell_type": "code",
   "execution_count": 37,
   "metadata": {},
   "outputs": [
    {
     "name": "stdout",
     "output_type": "stream",
     "text": [
      "                   A              B\n",
      "count  100000.000000  100000.000000\n",
      "mean       60.036843      60.052530\n",
      "std         9.970145       9.983343\n",
      "min        18.188446      16.731127\n",
      "25%        53.271645      53.319165\n",
      "50%        60.016514      60.060004\n",
      "75%        66.775784      66.747740\n",
      "max       103.601870     101.681177\n"
     ]
    },
    {
     "data": {
      "image/png": "[encoded data removed]",
      "text/plain": [
       "<matplotlib.figure.Figure at 0x118ef8198>"
      ]
     },
     "metadata": {},
     "output_type": "display_data"
    },
    {
     "data": {
      "image/png": "[encoded data removed]",
      "text/plain": [
       "<matplotlib.figure.Figure at 0x118f0b6a0>"
      ]
     },
     "metadata": {},
     "output_type": "display_data"
    }
   ],
   "source": [
    "from pandas import DataFrame\n",
    "from pandas import read_csv\n",
    "from matplotlib import pyplot\n",
    "# load results file\n",
    "results = DataFrame()\n",
    "results['A'] = read_csv('results1.csv', header=None).values[:, 0]\n",
    "results['B'] = read_csv('results2.csv', header=None).values[:, 0]\n",
    "# descriptive stats\n",
    "print(results.describe())\n",
    "# box and whisker plot\n",
    "results.boxplot()\n",
    "pyplot.show()\n",
    "# histogram\n",
    "results.hist()\n",
    "pyplot.show()"
   ]
  },
  {
   "cell_type": "markdown",
   "metadata": {},
   "source": [
    "### Are the distributions normal? "
   ]
  },
  {
   "cell_type": "code",
   "execution_count": 38,
   "metadata": {},
   "outputs": [
    {
     "name": "stdout",
     "output_type": "stream",
     "text": [
      "2.1001911721 0.349904301542\n",
      "It is likely that result1 is normal\n"
     ]
    }
   ],
   "source": [
    "from pandas import read_csv\n",
    "from scipy.stats import normaltest\n",
    "from matplotlib import pyplot\n",
    "result1 = read_csv('results1.csv', header=None)\n",
    "value, p = normaltest(result1.values[:,0])\n",
    "print(value, p)\n",
    "if p >= 0.05:\n",
    "\tprint('It is likely that result1 is normal')\n",
    "else:\n",
    "\tprint('It is unlikely that result1 is normal')"
   ]
  },
  {
   "cell_type": "code",
   "execution_count": 39,
   "metadata": {},
   "outputs": [
    {
     "name": "stdout",
     "output_type": "stream",
     "text": [
      "1.74472348281 0.417963261527\n",
      "It is likely that result2 is normal\n"
     ]
    }
   ],
   "source": [
    "from pandas import read_csv\n",
    "from scipy.stats import normaltest\n",
    "from matplotlib import pyplot\n",
    "result2 = read_csv('results2.csv', header=None)\n",
    "value, p = normaltest(result2.values[:,0])\n",
    "print(value, p)\n",
    "if p >= 0.05:\n",
    "\tprint('It is likely that result2 is normal')\n",
    "else:\n",
    "\tprint('It is unlikely that result2 is normal')"
   ]
  },
  {
   "cell_type": "markdown",
   "metadata": {},
   "source": [
    "### Are the data from same or different distributions?"
   ]
  },
  {
   "cell_type": "code",
   "execution_count": 40,
   "metadata": {},
   "outputs": [
    {
     "name": "stdout",
     "output_type": "stream",
     "text": [
      "-0.351588844425 0.72514700296\n",
      "Samples are likely drawn from the same distributions (accept H0)\n"
     ]
    }
   ],
   "source": [
    "from pandas import read_csv\n",
    "from scipy.stats import ttest_ind\n",
    "from matplotlib import pyplot\n",
    "# load results1\n",
    "result1 = read_csv('results1.csv', header=None)\n",
    "values1 = result1.values[:,0]\n",
    "# load results2\n",
    "result2 = read_csv('results2.csv', header=None)\n",
    "values2 = result2.values[:,0]\n",
    "# calculate the significance\n",
    "value, pvalue = ttest_ind(values1, values2, equal_var=False)\n",
    "print(value, pvalue)\n",
    "if pvalue > 0.05:\n",
    "\tprint('Samples are likely drawn from the same distributions (accept H0)')\n",
    "else:\n",
    "\tprint('Samples are likely drawn from different distributions (reject H0)')"
   ]
  },
  {
   "cell_type": "code",
   "execution_count": null,
   "metadata": {
    "collapsed": true
   },
   "outputs": [],
   "source": []
  }
 ],
 "metadata": {
  "kernelspec": {
   "display_name": "Python [conda root]",
   "language": "python",
   "name": "conda-root-py"
  },
  "language_info": {
   "codemirror_mode": {
    "name": "ipython",
    "version": 3
   },
   "file_extension": ".py",
   "mimetype": "text/x-python",
   "name": "python",
   "nbconvert_exporter": "python",
   "pygments_lexer": "ipython3",
   "version": "3.6.1"
  }
 },
 "nbformat": 4,
 "nbformat_minor": 2
}
