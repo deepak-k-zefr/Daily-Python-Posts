{
 "cells": [
  {
   "cell_type": "code",
   "execution_count": 167,
   "metadata": {
    "collapsed": true
   },
   "outputs": [],
   "source": [
    "## Example Documents\n",
    "docA=\"Hello How are you this is a wonderful day\"\n",
    "docB=\"Hey this is a good day\""
   ]
  },
  {
   "cell_type": "code",
   "execution_count": 168,
   "metadata": {
    "collapsed": true
   },
   "outputs": [],
   "source": [
    "## Tokenizing"
   ]
  },
  {
   "cell_type": "code",
   "execution_count": 170,
   "metadata": {},
   "outputs": [
    {
     "name": "stdout",
     "output_type": "stream",
     "text": [
      "['Hello', 'How', 'are', 'you', 'this', 'is', 'a', 'wonderful', 'day']\n",
      "['Hey', 'this', 'is', 'a', 'good', 'day']\n"
     ]
    }
   ],
   "source": [
    "bowA=docA.split()\n",
    "bowB=docB.split()\n",
    "print(bowA)\n",
    "print(bowB)"
   ]
  },
  {
   "cell_type": "code",
   "execution_count": 206,
   "metadata": {
    "collapsed": true
   },
   "outputs": [],
   "source": [
    "## Vocab\n",
    "words= set(bowA+bowB)"
   ]
  },
  {
   "cell_type": "code",
   "execution_count": 207,
   "metadata": {},
   "outputs": [
    {
     "data": {
      "text/plain": [
       "{'Hello',\n",
       " 'Hey',\n",
       " 'How',\n",
       " 'a',\n",
       " 'are',\n",
       " 'day',\n",
       " 'good',\n",
       " 'is',\n",
       " 'this',\n",
       " 'wonderful',\n",
       " 'you'}"
      ]
     },
     "execution_count": 207,
     "metadata": {},
     "output_type": "execute_result"
    }
   ],
   "source": [
    "words"
   ]
  },
  {
   "cell_type": "code",
   "execution_count": 173,
   "metadata": {},
   "outputs": [
    {
     "data": {
      "text/plain": [
       "{'Hello': 0,\n",
       " 'Hey': 0,\n",
       " 'How': 0,\n",
       " 'a': 0,\n",
       " 'are': 0,\n",
       " 'day': 0,\n",
       " 'good': 0,\n",
       " 'is': 0,\n",
       " 'this': 0,\n",
       " 'wonderful': 0,\n",
       " 'you': 0}"
      ]
     },
     "execution_count": 173,
     "metadata": {},
     "output_type": "execute_result"
    }
   ],
   "source": [
    "## Creating empty dictionaries\n",
    "A = dict.fromkeys(words, 0)\n",
    "B = dict.fromkeys(words, 0)\n",
    "A"
   ]
  },
  {
   "cell_type": "code",
   "execution_count": 175,
   "metadata": {
    "collapsed": true
   },
   "outputs": [],
   "source": [
    "## Bag of words\n",
    "for word in bowA:\n",
    "    A[word]+=1\n",
    "for word in bowB:\n",
    "    B[word]+=1"
   ]
  },
  {
   "cell_type": "code",
   "execution_count": 176,
   "metadata": {},
   "outputs": [
    {
     "data": {
      "text/plain": [
       "{'Hello': 1,\n",
       " 'Hey': 0,\n",
       " 'How': 1,\n",
       " 'a': 1,\n",
       " 'are': 1,\n",
       " 'day': 1,\n",
       " 'good': 0,\n",
       " 'is': 1,\n",
       " 'this': 1,\n",
       " 'wonderful': 1,\n",
       " 'you': 1}"
      ]
     },
     "execution_count": 176,
     "metadata": {},
     "output_type": "execute_result"
    }
   ],
   "source": [
    "A"
   ]
  },
  {
   "cell_type": "code",
   "execution_count": 177,
   "metadata": {},
   "outputs": [
    {
     "data": {
      "text/plain": [
       "{'Hello': 0,\n",
       " 'Hey': 1,\n",
       " 'How': 0,\n",
       " 'a': 1,\n",
       " 'are': 0,\n",
       " 'day': 1,\n",
       " 'good': 1,\n",
       " 'is': 1,\n",
       " 'this': 1,\n",
       " 'wonderful': 0,\n",
       " 'you': 0}"
      ]
     },
     "execution_count": 177,
     "metadata": {},
     "output_type": "execute_result"
    }
   ],
   "source": [
    "B"
   ]
  },
  {
   "cell_type": "code",
   "execution_count": 178,
   "metadata": {},
   "outputs": [
    {
     "data": {
      "text/html": [
       "<div>\n",
       "<style>\n",
       "    .dataframe thead tr:only-child th {\n",
       "        text-align: right;\n",
       "    }\n",
       "\n",
       "    .dataframe thead th {\n",
       "        text-align: left;\n",
       "    }\n",
       "\n",
       "    .dataframe tbody tr th {\n",
       "        vertical-align: top;\n",
       "    }\n",
       "</style>\n",
       "<table border=\"1\" class=\"dataframe\">\n",
       "  <thead>\n",
       "    <tr style=\"text-align: right;\">\n",
       "      <th></th>\n",
       "      <th>Hello</th>\n",
       "      <th>Hey</th>\n",
       "      <th>How</th>\n",
       "      <th>a</th>\n",
       "      <th>are</th>\n",
       "      <th>day</th>\n",
       "      <th>good</th>\n",
       "      <th>is</th>\n",
       "      <th>this</th>\n",
       "      <th>wonderful</th>\n",
       "      <th>you</th>\n",
       "    </tr>\n",
       "  </thead>\n",
       "  <tbody>\n",
       "    <tr>\n",
       "      <th>0</th>\n",
       "      <td>1</td>\n",
       "      <td>0</td>\n",
       "      <td>1</td>\n",
       "      <td>1</td>\n",
       "      <td>1</td>\n",
       "      <td>1</td>\n",
       "      <td>0</td>\n",
       "      <td>1</td>\n",
       "      <td>1</td>\n",
       "      <td>1</td>\n",
       "      <td>1</td>\n",
       "    </tr>\n",
       "    <tr>\n",
       "      <th>1</th>\n",
       "      <td>0</td>\n",
       "      <td>1</td>\n",
       "      <td>0</td>\n",
       "      <td>1</td>\n",
       "      <td>0</td>\n",
       "      <td>1</td>\n",
       "      <td>1</td>\n",
       "      <td>1</td>\n",
       "      <td>1</td>\n",
       "      <td>0</td>\n",
       "      <td>0</td>\n",
       "    </tr>\n",
       "  </tbody>\n",
       "</table>\n",
       "</div>"
      ],
      "text/plain": [
       "   Hello  Hey  How  a  are  day  good  is  this  wonderful  you\n",
       "0      1    0    1  1    1    1     0   1     1          1    1\n",
       "1      0    1    0  1    0    1     1   1     1          0    0"
      ]
     },
     "execution_count": 178,
     "metadata": {},
     "output_type": "execute_result"
    }
   ],
   "source": [
    "import pandas as pd\n",
    "pd.DataFrame([A,B])"
   ]
  },
  {
   "cell_type": "code",
   "execution_count": 179,
   "metadata": {
    "collapsed": true
   },
   "outputs": [],
   "source": [
    "## TF-IDF"
   ]
  },
  {
   "cell_type": "markdown",
   "metadata": {},
   "source": [
    "## TF"
   ]
  },
  {
   "cell_type": "code",
   "execution_count": 181,
   "metadata": {},
   "outputs": [],
   "source": [
    "def computeTF(wordDict,bow):\n",
    "    tf={}\n",
    "    for word,count in wordDict.items():\n",
    "        tf[word]=count/len(bow)\n",
    "    return tf"
   ]
  },
  {
   "cell_type": "code",
   "execution_count": 182,
   "metadata": {},
   "outputs": [],
   "source": [
    "tf_A=computeTF(A,bowA)\n",
    "tf_B=computeTF(B,bowB)"
   ]
  },
  {
   "cell_type": "code",
   "execution_count": 209,
   "metadata": {},
   "outputs": [
    {
     "name": "stdout",
     "output_type": "stream",
     "text": [
      "{'How': 0.1111111111111111, 'is': 0.1111111111111111, 'this': 0.1111111111111111, 'good': 0.0, 'wonderful': 0.1111111111111111, 'a': 0.1111111111111111, 'Hello': 0.1111111111111111, 'are': 0.1111111111111111, 'you': 0.1111111111111111, 'day': 0.1111111111111111, 'Hey': 0.0} \n",
      "\n",
      "{'How': 0.0, 'is': 0.16666666666666666, 'this': 0.16666666666666666, 'good': 0.16666666666666666, 'wonderful': 0.0, 'a': 0.16666666666666666, 'Hello': 0.0, 'are': 0.0, 'you': 0.0, 'day': 0.16666666666666666, 'Hey': 0.16666666666666666}\n"
     ]
    }
   ],
   "source": [
    "print(tf_A,\"\\n\")\n",
    "print(tf_B)"
   ]
  },
  {
   "cell_type": "markdown",
   "metadata": {},
   "source": [
    "## IDF"
   ]
  },
  {
   "cell_type": "code",
   "execution_count": 185,
   "metadata": {},
   "outputs": [],
   "source": [
    "data={}\n",
    "data.update(A)\n",
    "data.update(B)"
   ]
  },
  {
   "cell_type": "code",
   "execution_count": 186,
   "metadata": {},
   "outputs": [
    {
     "data": {
      "text/plain": [
       "Counter({'Hello': 1,\n",
       "         'Hey': 1,\n",
       "         'How': 1,\n",
       "         'a': 2,\n",
       "         'are': 1,\n",
       "         'day': 2,\n",
       "         'good': 1,\n",
       "         'is': 2,\n",
       "         'this': 2,\n",
       "         'wonderful': 1,\n",
       "         'you': 1})"
      ]
     },
     "execution_count": 186,
     "metadata": {},
     "output_type": "execute_result"
    }
   ],
   "source": [
    "from collections import Counter\n",
    "A=Counter(A)\n",
    "B=Counter(B)\n",
    "A+B"
   ]
  },
  {
   "cell_type": "code",
   "execution_count": 187,
   "metadata": {},
   "outputs": [],
   "source": [
    "data=A+B"
   ]
  },
  {
   "cell_type": "code",
   "execution_count": 190,
   "metadata": {
    "collapsed": true
   },
   "outputs": [],
   "source": [
    "def computeIDF(docList):\n",
    "    import math\n",
    "    idfDict = {}\n",
    "    N = len(docList)\n",
    "    \n",
    "    #counts the number of documents that contain a word w\n",
    "    idfDict = dict.fromkeys(docList[0].keys(),0)\n",
    "    for doc in docList:\n",
    "        for word, val in doc.items():\n",
    "            if val > 0:\n",
    "                idfDict[word] +=1\n",
    "                \n",
    "    #divide N by denominator above, take the log of that\n",
    "    for word, val in idfDict.items():\n",
    "        idfDict[word]= math.log(N / float(val)) \n",
    "    return idfDict"
   ]
  },
  {
   "cell_type": "code",
   "execution_count": 214,
   "metadata": {},
   "outputs": [],
   "source": [
    "import math\n",
    "from collections import defaultdict\n",
    "idfDict={}\n",
    "\n",
    "## Calculate IDF for each word\n",
    "def computeIDF(docList):\n",
    "    N=len(docList)\n",
    "    \n",
    "    idfDict= defaultdict(lambda:0)\n",
    "    \n",
    "    for doc in docList:\n",
    "         for word,value in doc.items():\n",
    "                if value>0:\n",
    "                    idfDict[word]+=1\n",
    "    print(idfDict)  \n",
    "    ## Normalize\n",
    "    for word,value in idfDict.items():        \n",
    "        idfDict[word]=math.log(N/float(value))\n",
    "    return idfDict\n",
    "    "
   ]
  },
  {
   "cell_type": "code",
   "execution_count": 215,
   "metadata": {},
   "outputs": [
    {
     "name": "stdout",
     "output_type": "stream",
     "text": [
      "defaultdict(<function computeIDF.<locals>.<lambda> at 0x117173c80>, {'How': 1, 'is': 2, 'this': 2, 'wonderful': 1, 'a': 2, 'Hello': 1, 'are': 1, 'you': 1, 'day': 2, 'good': 1, 'Hey': 1})\n"
     ]
    },
    {
     "data": {
      "text/plain": [
       "defaultdict(<function __main__.computeIDF.<locals>.<lambda>>,\n",
       "            {'Hello': 0.6931471805599453,\n",
       "             'Hey': 0.6931471805599453,\n",
       "             'How': 0.6931471805599453,\n",
       "             'a': 0.0,\n",
       "             'are': 0.6931471805599453,\n",
       "             'day': 0.0,\n",
       "             'good': 0.6931471805599453,\n",
       "             'is': 0.0,\n",
       "             'this': 0.0,\n",
       "             'wonderful': 0.6931471805599453,\n",
       "             'you': 0.6931471805599453})"
      ]
     },
     "execution_count": 215,
     "metadata": {},
     "output_type": "execute_result"
    }
   ],
   "source": [
    "computeIDF([A,B])"
   ]
  },
  {
   "cell_type": "code",
   "execution_count": 200,
   "metadata": {},
   "outputs": [],
   "source": [
    "idfs = computeIDF([A,B])"
   ]
  },
  {
   "cell_type": "code",
   "execution_count": 216,
   "metadata": {},
   "outputs": [],
   "source": [
    "## tf-idf = tf*idf\n",
    "def computeTFIDF(tfBow, idfs):\n",
    "    tfidf = {}\n",
    "    for word, val in tfBow.items():\n",
    "        tfidf[word] = val * idfs[word]\n",
    "    return tfidf"
   ]
  },
  {
   "cell_type": "code",
   "execution_count": 202,
   "metadata": {},
   "outputs": [],
   "source": [
    "tfidfBowA =  computeTFIDF(tf_A, idfs)\n",
    "tfidfBowB =  computeTFIDF(tf_B, idfs)"
   ]
  },
  {
   "cell_type": "code",
   "execution_count": 205,
   "metadata": {},
   "outputs": [
    {
     "data": {
      "text/html": [
       "<div>\n",
       "<style>\n",
       "    .dataframe thead tr:only-child th {\n",
       "        text-align: right;\n",
       "    }\n",
       "\n",
       "    .dataframe thead th {\n",
       "        text-align: left;\n",
       "    }\n",
       "\n",
       "    .dataframe tbody tr th {\n",
       "        vertical-align: top;\n",
       "    }\n",
       "</style>\n",
       "<table border=\"1\" class=\"dataframe\">\n",
       "  <thead>\n",
       "    <tr style=\"text-align: right;\">\n",
       "      <th></th>\n",
       "      <th>Hello</th>\n",
       "      <th>Hey</th>\n",
       "      <th>How</th>\n",
       "      <th>a</th>\n",
       "      <th>are</th>\n",
       "      <th>day</th>\n",
       "      <th>good</th>\n",
       "      <th>is</th>\n",
       "      <th>this</th>\n",
       "      <th>wonderful</th>\n",
       "      <th>you</th>\n",
       "    </tr>\n",
       "  </thead>\n",
       "  <tbody>\n",
       "    <tr>\n",
       "      <th>0</th>\n",
       "      <td>0.077016</td>\n",
       "      <td>0.000000</td>\n",
       "      <td>0.077016</td>\n",
       "      <td>0.0</td>\n",
       "      <td>0.077016</td>\n",
       "      <td>0.0</td>\n",
       "      <td>0.000000</td>\n",
       "      <td>0.0</td>\n",
       "      <td>0.0</td>\n",
       "      <td>0.077016</td>\n",
       "      <td>0.077016</td>\n",
       "    </tr>\n",
       "    <tr>\n",
       "      <th>1</th>\n",
       "      <td>0.000000</td>\n",
       "      <td>0.115525</td>\n",
       "      <td>0.000000</td>\n",
       "      <td>0.0</td>\n",
       "      <td>0.000000</td>\n",
       "      <td>0.0</td>\n",
       "      <td>0.115525</td>\n",
       "      <td>0.0</td>\n",
       "      <td>0.0</td>\n",
       "      <td>0.000000</td>\n",
       "      <td>0.000000</td>\n",
       "    </tr>\n",
       "  </tbody>\n",
       "</table>\n",
       "</div>"
      ],
      "text/plain": [
       "      Hello       Hey       How    a       are  day      good   is  this  \\\n",
       "0  0.077016  0.000000  0.077016  0.0  0.077016  0.0  0.000000  0.0   0.0   \n",
       "1  0.000000  0.115525  0.000000  0.0  0.000000  0.0  0.115525  0.0   0.0   \n",
       "\n",
       "   wonderful       you  \n",
       "0   0.077016  0.077016  \n",
       "1   0.000000  0.000000  "
      ]
     },
     "execution_count": 205,
     "metadata": {},
     "output_type": "execute_result"
    }
   ],
   "source": [
    "import pandas as pd\n",
    "pd.DataFrame([tfidfBowA, tfidfBowB])"
   ]
  },
  {
   "cell_type": "code",
   "execution_count": null,
   "metadata": {
    "collapsed": true
   },
   "outputs": [],
   "source": []
  }
 ],
 "metadata": {
  "kernelspec": {
   "display_name": "Python [conda root]",
   "language": "python",
   "name": "conda-root-py"
  },
  "language_info": {
   "codemirror_mode": {
    "name": "ipython",
    "version": 3
   },
   "file_extension": ".py",
   "mimetype": "text/x-python",
   "name": "python",
   "nbconvert_exporter": "python",
   "pygments_lexer": "ipython3",
   "version": "3.6.1"
  }
 },
 "nbformat": 4,
 "nbformat_minor": 2
}
