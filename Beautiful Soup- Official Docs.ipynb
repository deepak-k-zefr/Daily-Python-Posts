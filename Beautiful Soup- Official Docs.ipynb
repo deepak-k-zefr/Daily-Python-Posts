{
 "cells": [
  {
   "cell_type": "code",
   "execution_count": 1,
   "metadata": {
    "collapsed": true
   },
   "outputs": [],
   "source": [
    "html_doc = \"\"\"\n",
    "<html><head><title>The Dormouse's story</title></head>\n",
    "<body>\n",
    "<p class=\"title\"><b>The Dormouse's story</b></p>\n",
    "\n",
    "<p class=\"story\">Once upon a time there were three little sisters; and their names were\n",
    "<a href=\"http://example.com/elsie\" class=\"sister\" id=\"link1\">Elsie</a>,\n",
    "<a href=\"http://example.com/lacie\" class=\"sister\" id=\"link2\">Lacie</a> and\n",
    "<a href=\"http://example.com/tillie\" class=\"sister\" id=\"link3\">Tillie</a>;\n",
    "and they lived at the bottom of a well.</p>\n",
    "\n",
    "<p class=\"story\">...</p>\"\"\""
   ]
  },
  {
   "cell_type": "code",
   "execution_count": 2,
   "metadata": {},
   "outputs": [
    {
     "name": "stdout",
     "output_type": "stream",
     "text": [
      "<html>\n",
      " <head>\n",
      "  <title>\n",
      "   The Dormouse's story\n",
      "  </title>\n",
      " </head>\n",
      " <body>\n",
      "  <p class=\"title\">\n",
      "   <b>\n",
      "    The Dormouse's story\n",
      "   </b>\n",
      "  </p>\n",
      "  <p class=\"story\">\n",
      "   Once upon a time there were three little sisters; and their names were\n",
      "   <a class=\"sister\" href=\"http://example.com/elsie\" id=\"link1\">\n",
      "    Elsie\n",
      "   </a>\n",
      "   ,\n",
      "   <a class=\"sister\" href=\"http://example.com/lacie\" id=\"link2\">\n",
      "    Lacie\n",
      "   </a>\n",
      "   and\n",
      "   <a class=\"sister\" href=\"http://example.com/tillie\" id=\"link3\">\n",
      "    Tillie\n",
      "   </a>\n",
      "   ;\n",
      "and they lived at the bottom of a well.\n",
      "  </p>\n",
      "  <p class=\"story\">\n",
      "   ...\n",
      "  </p>\n",
      " </body>\n",
      "</html>\n"
     ]
    }
   ],
   "source": [
    "from bs4 import BeautifulSoup\n",
    "soup = BeautifulSoup(html_doc, 'html.parser')\n",
    "\n",
    "print(soup.prettify())"
   ]
  },
  {
   "cell_type": "code",
   "execution_count": 3,
   "metadata": {},
   "outputs": [
    {
     "name": "stdout",
     "output_type": "stream",
     "text": [
      "<title>The Dormouse's story</title>\n",
      "title\n",
      "The Dormouse's story\n",
      "head\n"
     ]
    }
   ],
   "source": [
    "print(soup.title)\n",
    "print(soup.title.name)\n",
    "print(soup.title.string)\n",
    "print(soup.title.parent.name)"
   ]
  },
  {
   "cell_type": "code",
   "execution_count": 4,
   "metadata": {},
   "outputs": [
    {
     "name": "stdout",
     "output_type": "stream",
     "text": [
      "<p class=\"title\"><b>The Dormouse's story</b></p>\n",
      "['title']\n",
      "<a class=\"sister\" href=\"http://example.com/elsie\" id=\"link1\">Elsie</a>\n"
     ]
    }
   ],
   "source": [
    "print(soup.p)\n",
    "print(soup.p[\"class\"])\n",
    "print(soup.a)\n"
   ]
  },
  {
   "cell_type": "code",
   "execution_count": 3,
   "metadata": {},
   "outputs": [
    {
     "name": "stdout",
     "output_type": "stream",
     "text": [
      "[<a class=\"sister\" href=\"http://example.com/elsie\" id=\"link1\">Elsie</a>, <a class=\"sister\" href=\"http://example.com/lacie\" id=\"link2\">Lacie</a>, <a class=\"sister\" href=\"http://example.com/tillie\" id=\"link3\">Tillie</a>]\n",
      "\n",
      " <a class=\"sister\" href=\"http://example.com/tillie\" id=\"link3\">Tillie</a>\n"
     ]
    }
   ],
   "source": [
    "print(soup.find_all(\"a\"))\n",
    "print(\"\\n\",soup.find(id=\"link3\"))"
   ]
  },
  {
   "cell_type": "code",
   "execution_count": 6,
   "metadata": {},
   "outputs": [
    {
     "name": "stdout",
     "output_type": "stream",
     "text": [
      "http://example.com/elsie\n",
      "http://example.com/lacie\n",
      "http://example.com/tillie\n"
     ]
    }
   ],
   "source": [
    "for link in soup.find_all('a'):\n",
    "    print(link.get('href'))"
   ]
  },
  {
   "cell_type": "code",
   "execution_count": 7,
   "metadata": {},
   "outputs": [
    {
     "name": "stdout",
     "output_type": "stream",
     "text": [
      "\n",
      "The Dormouse's story\n",
      "\n",
      "The Dormouse's story\n",
      "Once upon a time there were three little sisters; and their names were\n",
      "Elsie,\n",
      "Lacie and\n",
      "Tillie;\n",
      "and they lived at the bottom of a well.\n",
      "...\n"
     ]
    }
   ],
   "source": [
    "print(soup.get_text())"
   ]
  },
  {
   "cell_type": "code",
   "execution_count": 38,
   "metadata": {},
   "outputs": [
    {
     "name": "stderr",
     "output_type": "stream",
     "text": [
      "/Users/deepak/anaconda/envs/python36/lib/python3.6/site-packages/bs4/__init__.py:181: UserWarning: No parser was explicitly specified, so I'm using the best available HTML parser for this system (\"lxml\"). This usually isn't a problem, but if you run this code on another system, or in a different virtual environment, it may use a different parser and behave differently.\n",
      "\n",
      "The code that caused this warning is on line 193 of the file /Users/deepak/anaconda/envs/python36/lib/python3.6/runpy.py. To get rid of this warning, change code that looks like this:\n",
      "\n",
      " BeautifulSoup(YOUR_MARKUP})\n",
      "\n",
      "to this:\n",
      "\n",
      " BeautifulSoup(YOUR_MARKUP, \"lxml\")\n",
      "\n",
      "  markup_type=markup_type))\n"
     ]
    }
   ],
   "source": [
    "import requests\n",
    "result = requests.get(\"http://www.fcx.com/\")\n",
    "soup=BeautifulSoup(result.content)"
   ]
  },
  {
   "cell_type": "code",
   "execution_count": 15,
   "metadata": {},
   "outputs": [
    {
     "data": {
      "text/plain": [
       "200"
      ]
     },
     "execution_count": 15,
     "metadata": {},
     "output_type": "execute_result"
    }
   ],
   "source": [
    "result.status_code"
   ]
  },
  {
   "cell_type": "code",
   "execution_count": 19,
   "metadata": {},
   "outputs": [
    {
     "data": {
      "text/plain": [
       "{'Content-Type': 'text/html', 'Content-Length': '33041', 'Connection': 'keep-alive', 'Date': 'Tue, 25 Jul 2017 15:32:19 GMT', 'Last-Modified': 'Tue, 25 Jul 2017 15:32:13 GMT', 'ETag': '\"dc1cc48fab275bc95a86eb42560efaeb\"', 'Server': 'AmazonS3', 'Age': '62968', 'X-Cache': 'Hit from cloudfront', 'Via': '1.1 81480f1753fd7d7d6b4206ddcfbc23a8.cloudfront.net (CloudFront)', 'X-Amz-Cf-Id': 'sW0CcBtbYAy5mRc-2SB36mZMQDaReej0js4LK60GWuDCV_canVRuWw=='}"
      ]
     },
     "execution_count": 19,
     "metadata": {},
     "output_type": "execute_result"
    }
   ],
   "source": [
    "result.headers"
   ]
  },
  {
   "cell_type": "code",
   "execution_count": 18,
   "metadata": {},
   "outputs": [
    {
     "data": {
      "text/plain": [
       "'Tue, 25 Jul 2017 15:32:19 GMT'"
      ]
     },
     "execution_count": 18,
     "metadata": {},
     "output_type": "execute_result"
    }
   ],
   "source": [
    "result.headers[\"Date\"]"
   ]
  },
  {
   "cell_type": "code",
   "execution_count": 4,
   "metadata": {},
   "outputs": [],
   "source": [
    "samples = soup.find_all(\"a\")\n",
    "data = {}\n",
    "for a in samples:\n",
    "  title = a.string.strip()\n",
    "  data[title] = a.attrs['href']"
   ]
  },
  {
   "cell_type": "code",
   "execution_count": 5,
   "metadata": {},
   "outputs": [
    {
     "data": {
      "text/plain": [
       "{'Elsie': 'http://example.com/elsie',\n",
       " 'Lacie': 'http://example.com/lacie',\n",
       " 'Tillie': 'http://example.com/tillie'}"
      ]
     },
     "execution_count": 5,
     "metadata": {},
     "output_type": "execute_result"
    }
   ],
   "source": [
    "data"
   ]
  },
  {
   "cell_type": "code",
   "execution_count": 45,
   "metadata": {},
   "outputs": [
    {
     "data": {
      "text/plain": [
       "['HTML PUBLIC \"-//W3C//DTD HTML 4.01 Transitional//EN\"', <html>\n",
       " <head>\n",
       " <title>Freeport-McMoRan Inc.</title>\n",
       " <meta content=\"300\" http-equiv=\"refresh\"/>\n",
       " <meta content=\"&lt;meta name=\" description=\"\" name=\"Description\"/>\n",
       " <link href=\"http://www.fcx.com/favicon.ico\" rel=\"shortcut icon\"/>\n",
       " <link href=\"http://www.fcx.com/favicon.ico\" rel=\"icon\"/>\n",
       " <meta content=\"copper, gold, molybdenum, copper producer, copper strip, copper wire, copper tubing, cadmium copper, copper bar, copper rod, trolley wire, copper flat wire, lowest cost copper producer, oil, gas, oil and gas, apec\" name=\"keywords\"/>\n",
       " <!-- START: stock ticker meta tags -->\n",
       " <meta content=\"900\" http-equiv=\"Refresh\"/>\n",
       " <meta content=\"0\" http-equiv=\"EXPIRES\"/>\n",
       " <meta content=\"no-cache\" http-equiv=\"Pragma\"/>\n",
       " <!-- END: stock ticker meta tags -->\n",
       " <!--STYLE SHEET-->\n",
       " <link href=\"css/style_acq.css\" rel=\"stylesheet\"/>\n",
       " <link href=\"css/typography-home.css\" rel=\"stylesheet\"/>\n",
       " <link href=\"css/sidebar.css\" rel=\"stylesheet\"/>\n",
       " <link href=\"css/footer.css\" rel=\"stylesheet\"/>\n",
       " <!--/STYLE SHEET-->\n",
       " <!-- HOME PAGE SLIDES 1 OF 2  BEGIN  ************************ -->\n",
       " <script src=\"//use.typekit.net/sth1scv.js\" type=\"text/javascript\"></script>\n",
       " <script type=\"text/javascript\">try { Typekit.load(); } catch (e) { }</script>\n",
       " <script src=\"jqbanner/jquery.min.js\" type=\"text/javascript\"></script>\n",
       " <script src=\"jqbanner/jqbanner_acq.js\" type=\"text/javascript\"></script>\n",
       " <link href=\"jqbanner/jqbanner_acq.css\" media=\"screen\" rel=\"stylesheet\" type=\"text/css\"/>\n",
       " <!-- Google Analytics : doctracking.js contains google analytics and PDF download tracking code. js/doctracking.js should be place after jqbanner/jquery.min.js link -->\n",
       " <script src=\"js/doctracking.js\" type=\"text/javascript\"></script>\n",
       " <!-- HOME PAGE SLIDES 1 OF 2  END-   GO TO LINE 235 CODE ************************ -->\n",
       " <!-- FLASH DETECTION************************ -->\n",
       " <script language=\"javascript\" src=\"AC_OETags.js\" type=\"text/javascript\"></script>\n",
       " <script src=\"js/jquery-1.7.2.min.js\" type=\"text/javascript\"></script>\n",
       " <script language=\"JavaScript\" type=\"text/javascript\">\n",
       "     <!--\n",
       "     // -----------------------------------------------------------------------------\n",
       "     // Globals\n",
       "     // Major version of Flash required\n",
       "     var requiredMajorVersion = 8;\n",
       "     // Minor version of Flash required\n",
       "     var requiredMinorVersion = 0;\n",
       "     // Minor version of Flash required\n",
       "     var requiredRevision = 0;\n",
       "     // -----------------------------------------------------------------------------\n",
       "     // -->\n",
       "     </script>\n",
       " <!-- END FLASH DETECTION************************ -->\n",
       " <script language=\"JavaScript\" type=\"text/javascript\">\n",
       " <!--\n",
       "     function MM_preloadImages() { //v3.0\n",
       "         var d = document; if (d.images) {\n",
       "             if (!d.MM_p) d.MM_p = new Array();\n",
       "             var i, j = d.MM_p.length, a = MM_preloadImages.arguments; for (i = 0; i < a.length; i++)\n",
       "                 if (a[i].indexOf(\"#\") != 0) { d.MM_p[j] = new Image; d.MM_p[j++].src = a[i]; }\n",
       "         }\n",
       "     }\n",
       " \n",
       "     function MM_findObj(n, d) { //v4.01\n",
       "         var p, i, x; if (!d) d = document; if ((p = n.indexOf(\"?\")) > 0 && parent.frames.length) {\n",
       "             d = parent.frames[n.substring(p + 1)].document; n = n.substring(0, p);\n",
       "         }\n",
       "         if (!(x = d[n]) && d.all) x = d.all[n]; for (i = 0; !x && i < d.forms.length; i++) x = d.forms[i][n];\n",
       "         for (i = 0; !x && d.layers && i < d.layers.length; i++) x = MM_findObj(n, d.layers[i].document);\n",
       "         if (!x && d.getElementById) x = d.getElementById(n); return x;\n",
       "     }\n",
       " \n",
       "     function MM_showHideLayers() { //v9.0\n",
       "         var i, p, v, obj, args = MM_showHideLayers.arguments;\n",
       "         for (i = 0; i < (args.length - 2) ; i += 3)\n",
       "             with (document) if (getElementById && ((obj = getElementById(args[i])) != null)) {\n",
       "                 v = args[i + 2];\n",
       "                 if (obj.style) { obj = obj.style; v = (v == 'show') ? 'visible' : (v == 'hide') ? 'hidden' : v; }\n",
       "                 obj.visibility = v;\n",
       "             }\n",
       "     }\n",
       "     function MM_swapImgRestore() { //v3.0\n",
       "         var i, x, a = document.MM_sr; for (i = 0; a && i < a.length && (x = a[i]) && x.oSrc; i++) x.src = x.oSrc;\n",
       "     }\n",
       "     function MM_swapImage() { //v3.0\n",
       "         var i, j = 0, x, a = MM_swapImage.arguments; document.MM_sr = new Array; for (i = 0; i < (a.length - 2) ; i += 3)\n",
       "             if ((x = MM_findObj(a[i])) != null) { document.MM_sr[j++] = x; if (!x.oSrc) x.oSrc = x.src; x.src = a[i + 2]; }\n",
       "     }\n",
       "     function goLite(FRM, BTN) {\n",
       "         window.document.forms[FRM].elements[BTN].style.color = \"#009eba\";\n",
       "     }\n",
       " \n",
       "     function goDim(FRM, BTN) {\n",
       "         window.document.forms[FRM].elements[BTN].style.color = \"#FFFFFF\";\n",
       "     }\n",
       "     //-->\n",
       "     </script>\n",
       " <style type=\"text/css\">\n",
       "         body {\n",
       "             margin-left: 0px;\n",
       "             margin-top: 0px;\n",
       "         }\n",
       "         input.groovybutton {\n",
       "             font-size: 11px;\n",
       "             font-family: Arial,sans-serif;\n",
       "             font-weight: bold;\n",
       "             color: #FFFFFF;\n",
       "             width: 89px;\n",
       "             height: 22px;\n",
       "             background-color: #683318;\n",
       "             border-style: none;\n",
       "         }\n",
       "     </style>\n",
       " <link href=\"shadowbox/shadowbox.css\" rel=\"stylesheet\" type=\"text/css\"/>\n",
       " <script src=\"shadowbox/shadowbox.js\" type=\"text/javascript\"></script>\n",
       " <script src=\"js/index.js\" type=\"text/javascript\"></script>\n",
       " <script src=\"config/url.js\" type=\"text/javascript\"></script>\n",
       " <script type=\"text/javascript\">\n",
       "         Shadowbox.init({\n",
       "             handleOversize: \"none\",\n",
       "             modal: false  \n",
       "         });\n",
       "     </script>\n",
       " </head>\n",
       " <body onload=\"MM_preloadImages('art/button_company_hov.gif','art/button_resources_hov.gif','art/button_ir_hov.gif','art/button_development_hov.gif','art/button_careers_hov.gif','art/button_operations_hov.gif')\">\n",
       " <div id=\"wrapper\">\n",
       " <!-- LOGO -->\n",
       " <div id=\"MainLogo\">\n",
       " <h1 style=\"display: inline\"><a href=\"http://www.fcx.com/\">\n",
       " <img alt=\"Freeport-McMoRan Inc.\" border=\"0\" height=\"49\" src=\"art/logo.gif\" width=\"244\"/></a></h1>\n",
       " <iframe allowtransparency=\"1\" frameborder=\"0\" height=\"46px\" id=\"tickertop\" marginheight=\"0\" marginwidth=\"0\" scrolling=\"no\" src=\"http://services-fcx-com.elasticbeanstalk.com/ticker.php\" style=\"vertical-align: top;\" width=\"170px\"></iframe>\n",
       " </div>\n",
       " <div></div>\n",
       " <!-- END LOGO -->\n",
       " <!-- SEC NAV TOP -->\n",
       " <!-- <div id=\"Languages\"><span class=Languages><SPAN CLASS=\"TextBrown\">English</SPAN> &nbsp;&nbsp;&nbsp;&nbsp;|&nbsp;&nbsp;&nbsp;&nbsp;<A HREF=\"../index_spanish.htm\">Espa&#241;ol</A></span></div> -->\n",
       " <!-- Start Quick Links -->\n",
       " <!-- End Quick Links -->\n",
       " <!-- END SEC NAV TOP -->\n",
       " <!-- MAIN MENU -->\n",
       " <div id=\"MainMenu\">\n",
       " <a href=\"company/who.htm\" onmouseout=\"MM_swapImgRestore()\" onmouseover=\"MM_swapImage('Image3','','art/button_company_hov.gif',1)\"><img alt=\"Our Company\" border=\"0\" height=\"34\" name=\"Image3\" onmouseout=\"MM_showHideLayers('MenuCompany','','hide')\" onmouseover=\"MM_showHideLayers('MenuCompany','','show','MenuResources','','hide','MenuIr','','hide','MenuDevelop','','hide','MenuCareers','','hide','MenuOperations','','hide')\" src=\"art/button_company.gif\" width=\"115\"/></a><a href=\"resources/index.htm \" onmouseout=\"MM_swapImgRestore()\" onmouseover=\"MM_swapImage('Image4','','art/button_resources_hov.gif',1)\"><img alt=\"Our Resources\" border=\"0\" height=\"34\" name=\"Image4\" onmouseout=\"MM_showHideLayers('MenuResources','','hide')\" onmouseover=\"MM_showHideLayers('MenuCompany','','hide','MenuResources','','show','MenuIr','','hide','MenuDevelop','','hide','MenuCareers','','hide','MenuOperations','','hide')\" src=\"art/button_resources.gif\" width=\"115\"/></a><a href=\"http://investors.fcx.com/investor-center/company-profile/default.aspx\" onmouseout=\"MM_swapImgRestore()\" onmouseover=\"MM_swapImage('Image5','','art/button_ir_hov.gif',1)\"><img alt=\"Investor Center\" border=\"0\" height=\"34\" name=\"Image5\" onmouseout=\"MM_showHideLayers('MenuIr','','hide')\" onmouseover=\"MM_showHideLayers('MenuCompany','','hide','MenuResources','','hide','MenuIr','','show','MenuDevelop','','hide','MenuCareers','','hide','MenuOperations','','hide')\" src=\"art/button_ir.gif\" width=\"125\"/></a><a href=\"sd/index.htm \" onmouseout=\"MM_swapImgRestore()\" onmouseover=\"MM_swapImage('Image6','','art/button_development_hov.gif',1)\"><img alt=\"Sustainable Development\" border=\"0\" height=\"34\" name=\"Image6\" onmouseout=\"MM_showHideLayers('MenuDevelop','','hide')\" onmouseover=\"MM_showHideLayers('MenuCompany','','hide','MenuResources','','hide','MenuIr','','hide','MenuDevelop','','show','MenuCareers','','hide','MenuOperations','','hide')\" src=\"art/button_development.gif\" width=\"191\"/></a><a href=\"operations/overview.htm\" onmouseout=\"MM_swapImgRestore()\" onmouseover=\"MM_swapImage('Image8','','art/button_operations_hov.gif',1)\"><img alt=\"Worldwide Operations\" border=\"0\" height=\"34\" name=\"Image8\" onmouseout=\"MM_showHideLayers('MenuOperations','','hide')\" onmouseover=\"MM_showHideLayers('MenuCompany','','hide','MenuResources','','hide','MenuIr','','hide','MenuDevelop','','hide','MenuCareers','','hide','MenuOperations','','show')\" src=\"art/button_operations.gif\" width=\"226\"/></a><a href=\"careers/career_intro.htm\" onmouseout=\"MM_swapImgRestore()\" onmouseover=\"MM_swapImage('Image7','','art/button_careers_hov.gif',1)\"><img alt=\"Careers\" border=\"0\" height=\"34\" name=\"Image7\" onmouseout=\"MM_showHideLayers('MenuCareers','','hide')\" onmouseover=\"MM_showHideLayers('MenuCompany','','hide','MenuResources','','hide','MenuIr','','hide','MenuDevelop','','hide','MenuCareers','','show','MenuOperations','','hide')\" src=\"art/button_careers.gif\" width=\"78\"/></a>\n",
       " </div>\n",
       " <!-- END MAIN MENU -->\n",
       " <!-- HOME PAGE SLIDES 2 OF 2 BEGIN -->\n",
       " <div id=\"PhotoBanner\">\n",
       " <div id=\"jqb_object\">\n",
       " <div id=\"captioncontainer\"></div>\n",
       " <div class=\"jqb_slides\">\n",
       " <div class=\"jqb_slide\" title=\"Morenci Mine, Arizona, U.S.A.\">\n",
       " <img src=\"jqbanner/img/10.jpg\"/></div>\n",
       " <div class=\"jqb_slide\" title=\"Underground development in Grasberg minerals district, Indonesia\">\n",
       " <img src=\"jqbanner/img/11.jpg\"/></div>\n",
       " <div class=\"jqb_slide\" title=\"Concentrator expansion at Cerro Verde, Peru\">\n",
       " <img src=\"jqbanner/img/15.jpg\"/></div>\n",
       " <div class=\"jqb_slide\" title=\"Copper cathodes at El Abra, Chile\">\n",
       " <img src=\"jqbanner/img/12.jpg\"/></div>\n",
       " <div class=\"jqb_slide\" title=\"Agricultural development initiative in Papua, Indonesia near the Grasberg mine\">\n",
       " <img src=\"jqbanner/img/16.jpg\"/></div>\n",
       " </div>\n",
       " </div>\n",
       " <!-- HOME PAGE SLIDES 2 OF 2 END -->\n",
       " </div>\n",
       " <div id=\"ContentHome\">\n",
       " <table border=\"0\" cellpadding=\"0\" cellspacing=\"0\" width=\"850\">\n",
       " <!-- CONTENT -->\n",
       " <tr>\n",
       " <td bgcolor=\"#FFFFFF\" colspan=\"2\" style=\"height: 0\" valign=\"top\"></td>\n",
       " <td align=\"left\" background=\"art/back.gif\" bgcolor=\"#FFFFFF\" nowrap=\"\" rowspan=\"4\" style=\"padding-left: 8px\" valign=\"top\" width=\"200\">\n",
       " <!-- RIGHT COLUMN -->\n",
       " <div id=\"CompanyResources\">\n",
       " <div class=\"CoResourc_prox_black\">COMPANY RESOURCES</div>\n",
       " <div class=\"LinkResources\"><a href=\"http://investors.fcx.com/investor-center/news-releases/default.aspx\" target=\"_blank\">Recent News</a></div>\n",
       " <div class=\"LinkResources\"><a href=\"http://investors.fcx.com/files/doc_financials/annual/2017/FCX_AR_2016.pdf\" target=\"_blank\">2016 Annual Report</a></div>\n",
       " <div class=\"LinkResources\"><a href=\"http://s2.q4cdn.com/089924811/files/doc_financials/quarter/10_k2016/10_k2016.pdf\" target=\"_blank\">2016 Form 10-K</a></div>\n",
       " <div class=\"LinkResources\"><a href=\"http://investors.fcx.com/files/doc_financials/annual/2017/FCX_Prox_2017.pdf\" target=\"_blank\">Proxy</a></div>\n",
       " <div class=\"CoResourc_prox_black\" style=\"padding-top: 10px\">2Q17 FINANCIAL PACKAGE</div>\n",
       " <div class=\"LinkResources\"><a href=\"http://investors.fcx.com/investor-center/news-releases/news-release-details/2017/Freeport-McMoRan-Reports-Second-Quarter-and-Six-Month-2017-Results/default.aspx\" target=\"_blank\">News Release</a> </div>\n",
       " <div class=\"LinkResources\"><a href=\"http://s2.q4cdn.com/089924811/files/doc_presentations/2017/FCX_2Q17_Conf_Call_JUL17.pdf\" target=\"_blank\">Presentation</a> </div>\n",
       " <!--  <div class=\"LinkResources\"><a href=\"http://s2.q4cdn.com/089924811/files/doc_financials/quarter/10_Q2017/10q_2017_q1.pdf\" target=\"_blank\">Form 10-Q</a> </div> -->\n",
       " <!--   <div class=\"LinkResources\"><a href=\"http://s2.q4cdn.com/089924811/files/doc_presentations/2016/fcx-4Q15cc_jan2016.pdf\" target=\"_blank\">Presentation</a> </div> -->\n",
       " <img height=\"4\" src=\"art/index_whitespacer.gif\" width=\"169\"/><br/>\n",
       " <!--  <div class=\"CoResourc_prox_gold\"><a href=\"operations/videos.htm\" target=\"_blank\">\n",
       "                                 <img src=\"art/video-1-home.jpg\" width=\"26\" height=\"25\" border=\"0\">\n",
       "                                 FCX Video Features</a></div>\n",
       "                             <div class=\"VideoResources\"><img src=\"art/NEW_icon.jpg\" width=\"57\" height=\"18\" alt=\"\"/>&nbsp;<a href=\"videos/Morenci_2014.htm\" target=\"_blank\">Morenci: <br>\n",
       "                             Deep Roots. Broad Horizons.</a></div>  -->\n",
       " <div><p></p></div>\n",
       " <div class=\"apec\"> <a href=\"http://www.icmm.com/\" target=\"_blank\"><img align=\"center\" border=\"0\" height=\"100\" src=\"art/icmm_logo_fcx_home.gif\" width=\"165\"/></a></div>\n",
       " </div>\n",
       " <!-- END RIGHT COLUMN -->\n",
       " </td></tr><tr>\n",
       " <td bgcolor=\"#FFFFFF\" colspan=\"2\" style=\"padding-right: 5px\" valign=\"top\">\n",
       " <h3 class=\"proxGold_italic22\" id=\"homeResourceH3\">RESOURCES THAT FUEL GLOBAL GROWTH</h3>\n",
       " <p class=\"pNoTopMargin Company_descrip\">FCX operates large, long-lived, geographically diverse assets with significant proven and probable reserves of copper, gold and molybdenum. \n",
       "                                   <br/>\n",
       "                               FCX is the world’s largest publicly traded copper producer. </p>\n",
       " <div id=\"searchContainer\">\n",
       " <div id=\"SearchTitle\"><span class=\"SecNav\">SEARCH</span></div>\n",
       " <div id=\"Search\">\n",
       " <form action=\"http://services.fcx.com/search.php\" method=\"get\" name=\"search\">\n",
       " <table cellpadding=\"0px\" cellspacing=\"0px\">\n",
       " <tr>\n",
       " <td style=\"border-style: solid none solid solid; border-color: #cccccc; border-width: 1px;\">\n",
       " <input name=\"query\" style=\"width: 170px; border: 0px solid;\" type=\"text\"/>\n",
       " <input name=\"per_page\" type=\"hidden\" value=\"10\"/>\n",
       " <input name=\"and\" type=\"hidden\" value=\"0\"/>\n",
       " <input name=\"sort\" type=\"hidden\" value=\"0\"/></td>\n",
       " <td style=\"border-style: solid none solid solid; border-color: #00acd5; border-width: 1px;\">\n",
       " <input style=\"border-style: none; background: url('art/button_arrow.gif') no-repeat; width: 20px; height: 20px;\" type=\"submit\" value=\"\"/></td>\n",
       " </tr>\n",
       " </table>\n",
       " </form>\n",
       " </div>\n",
       " </div>\n",
       " </td>\n",
       " </tr>\n",
       " <tr>\n",
       " <td bgcolor=\"#FFFFFF\" style=\"padding: 11px 8px 0 0;\" valign=\"top\" width=\"360\">\n",
       " <span class=\"HomeNews\"><a href=\"http://investors.fcx.com/investor-center/news-releases/news-release-details/2015/PT-Freeport-Indonesia-and-the-Government-of-Indonesia-Agree-on-Continuation-of-Operations-of-the-Grasberg-Mining-Complex-beyond-2021/default.aspx\" target=\"_blank\"></a></span>\n",
       " <div id=\"NewsContent\">\n",
       " <p class=\"SubtitleITALIC\"><span class=\"proxima_italic_16bold\">LATEST NEWS</span></p>\n",
       " <div style=\"height: 170px;\">\n",
       " <div id=\"LoadingImageNews\" style=\"width: 50%; margin: 0px auto;\">\n",
       " <img src=\"shadowbox/loading_style_1.gif\"/><br/><span>Loading </span>\n",
       " </div>\n",
       " <div id=\"newscontainer\"></div>\n",
       " </div>\n",
       " <p class=\"HomeNews\"><a class=\"Subtitle2\" href=\"http://investors.fcx.com/investor-center/news-releases/default.aspx\"><strong>\n",
       " \t\t\t\t\t\t    \n",
       " \t\t\t\t\t\t    MORE NEWS</strong></a>\n",
       " </p></div>\n",
       " <map name=\"Map\">\n",
       " <area coords=\"18,158,287,246\" href=\"mms://videos.fmi.com/tenke_video\" shape=\"rect\" target=\"_blank\"/>\n",
       " </map>\n",
       " <br/>\n",
       " </td>\n",
       " <td style=\"background: url(art/back.gif); padding: 11px 8px 0 0;\" valign=\"top\" width=\"250\">\n",
       " <div id=\"NewsContent2\">\n",
       " <!-- \t\t<p class=\"SubtitleITALIC\"><span class=\"proxima_italic_16bold\">LATEST EVENTS</span></p>-->\n",
       " <!--   \t\t<p class=\"SubtitleITALIC\"><span class=\"proxima_italic_16bold\">LATEST PRESENTATION</span></p>\n",
       "               \n",
       "                    <p class=\"HomeNews\"><span class=\"blue12_bold\">07/26/16</span><br>\n",
       " \t\t\t\t\t\t\t\t<a href=\"http://event.on24.com/wcc/r/1203159/6F8F8A554AA11B9514CEBE1058DF5AD3\" target=\"_blank\"><img src=\"art/microphone-icon.jpg\" width=\"20\" height=\"20\" border=\"0\" alt=\"\"/><strong>Webcast</strong></a> <br>\n",
       " \t\t\t\t          <a href=\"http://investors.fcx.com/investor-center/presentations/event-details/2016/FCX-2Q-2016-Conference-Call/default.aspx\" target=\"_blank\">FCX 2Q 2016 Conference Call</a></p>   -->\n",
       " <!--   <p class=\"SubtitleITALIC\"><span class=\"proxima_italic_16bold\">LATEST PRESENTATION</span></p>\n",
       "                 <p class=\"HomeNews\"><br>\n",
       " \t\t\t\t\t\t\t\tThere are currently no upcoming events.</p>\n",
       "                  <p class=\"HomeNews\">&nbsp;</p>  -->\n",
       " <p class=\"SubtitleITALIC\"><span class=\"proxima_italic_16bold\">LATEST PRESENTATION </span> </p>\n",
       " <p class=\"HomeNews\"><span class=\"blue12_bold\">07/25/17</span><br/>\n",
       " <a href=\"http://event.on24.com/wcc/r/1397147/2FD6EFFDCE1E92A971C4FDFB831134B3\" target=\"_blank\"><img alt=\"\" height=\"20\" src=\"art/microphone-icon.jpg\" width=\"20\"/><strong>Webcast</strong></a> <br/>\n",
       " <a href=\"http://investors.fcx.com/investor-center/presentations/event-details/2017/FCX-2Q-2017-CONFERENCE-CALL/default.aspx\" target=\"_blank\">FCX 2Q 2017 Conference Call <br/>\n",
       " <br/></a><br/>\n",
       " <br/></p><p> </p> <p><a class=\"Subtitle2\" href=\" http://investors.fcx.com/investor-center/presentations/default.aspx\"><strong>MORE PRESENTATIONS</strong></a> </p>\n",
       " <p class=\"HomeNews\"> </p>\n",
       " </div>\n",
       " </td>\n",
       " </tr>\n",
       " <!-- END CONTENT -->\n",
       " </table>\n",
       " </div>\n",
       " <!-- MENUS -->\n",
       " <div id=\"MenuCompany\">\n",
       " <div class=\"DropDown\" onmouseout=\"MM_showHideLayers('MenuCompany','','hide')\" onmouseover=\"MM_showHideLayers('MenuCompany','','show')\"><a href=\"company/who.htm\">Who we Are</a></div>\n",
       " <div class=\"DropDown\" onmouseout=\"MM_showHideLayers('MenuCompany','','hide')\" onmouseover=\"MM_showHideLayers('MenuCompany','','show')\"><a href=\"company/business.htm\">Doing Business<br/>\n",
       "                 with Us</a></div>\n",
       " <div class=\"DropDown\" onmouseout=\"MM_showHideLayers('MenuCompany','','hide')\" onmouseover=\"MM_showHideLayers('MenuCompany','','show')\"><a href=\"company/contact.htm\">Contact Us</a></div>\n",
       " </div>\n",
       " <div id=\"MenuResources\">\n",
       " <div class=\"DropDown\" onmouseout=\"MM_showHideLayers('MenuResources','','hide')\" onmouseover=\"MM_showHideLayers('MenuResources','','show')\"><a href=\"resources/index.htm\">Our Global Footprint</a></div>\n",
       " <div class=\"DropDown\" onmouseout=\"MM_showHideLayers('MenuResources','','hide')\" onmouseover=\"MM_showHideLayers('MenuResources','','show')\"><a href=\"resources/copper.htm\">Copper</a></div>\n",
       " <div class=\"DropDown\" onmouseout=\"MM_showHideLayers('MenuResources','','hide')\" onmouseover=\"MM_showHideLayers('MenuResources','','show')\"><a href=\"resources/molybdenum.htm\">Molybdenum</a></div>\n",
       " <div class=\"DropDown\" onmouseout=\"MM_showHideLayers('MenuResources','','hide')\" onmouseover=\"MM_showHideLayers('MenuResources','','show')\"><a href=\"resources/gold.htm\">Gold</a></div>\n",
       " </div>\n",
       " <div id=\"MenuIr\">\n",
       " <div class=\"DropDown\" onmouseout=\"MM_showHideLayers('MenuIr','','hide')\" onmouseover=\"MM_showHideLayers('MenuIr','','show')\"><a href=\"http://investors.fcx.com/investor-center/company-profile/default.aspx\">Company Profile</a></div>\n",
       " <div class=\"DropDown\" onmouseout=\"MM_showHideLayers('MenuIr','','hide')\" onmouseover=\"MM_showHideLayers('MenuIr','','show')\"><a href=\"http://investors.fcx.com/investor-center/news-releases/default.aspx\">News Releases</a></div>\n",
       " <div class=\"DropDown\" onmouseout=\"MM_showHideLayers('MenuIr','','hide')\" onmouseover=\"MM_showHideLayers('MenuIr','','show')\"><a href=\"http://investors.fcx.com/investor-center/presentations/default.aspx\">Presentations</a></div>\n",
       " <div class=\"DropDown\" onmouseout=\"MM_showHideLayers('MenuIr','','hide','MenuStocksDividends','','hide')\" onmouseover=\"MM_showHideLayers('MenuIr','','show','MenuStocksDividends','','show')\"><a href=\"http://investors.fcx.com/investor-center/stock-and-dividend-information/stock-quote/default.aspx\">Stock &amp; Dividend Information</a>\n",
       " <div id=\"MenuStocksDividends\" style=\"visibility:hidden\">\n",
       " <div class=\"DropDown\" onmouseout=\"MM_showHideLayers('MenuStocksDividends','','hide')\" onmouseover=\"MM_showHideLayers('MenuStocksDividends','','show','MenuFinancialInfo','','hide')\"><a href=\"http://investors.fcx.com/investor-center/stock-and-dividend-information/stock-quote/default.aspx\">Stock Quote</a></div>\n",
       " <div class=\"DropDown\" onmouseout=\"MM_showHideLayers('MenuStocksDividends','','hide')\" onmouseover=\"MM_showHideLayers('MenuStocksDividends','','show','MenuFinancialInfo','','hide')\"><a href=\"http://investors.fcx.com/investor-center/stock-and-dividend-information/dividend-history/default.aspx\">Dividend History</a></div>\n",
       " </div><!-- MenuStocksDividends -->\n",
       " </div><!-- Stock .DropDown -->\n",
       " <div class=\"DropDown\" onmouseout=\"MM_showHideLayers('MenuIr','','hide','MenuFinancialInfo','','hide')\" onmouseover=\"MM_showHideLayers('MenuIr','','show','MenuFinancialInfo','','show')\"><a href=\"http://investors.fcx.com/investor-center/financial-information/annual-reports-and-proxy/default.aspx\">Financial Information</a> <div id=\"MenuFinancialInfo\" style=\"visibility:hidden\">\n",
       " <div class=\"DropDown\" onmouseout=\"MM_showHideLayers('MenuFinancialInfo','','hide')\" onmouseover=\"MM_showHideLayers('MenuFinancialInfo','','show','MenuStocksDividends','','hide')\"><a href=\"http://investors.fcx.com/investor-center/financial-information/annual-reports-and-proxy/default.aspx\">Annual Reports &amp; Proxy</a></div>\n",
       " <div class=\"DropDown\" onmouseout=\"MM_showHideLayers('MenuFinancialInfo','','hide')\" onmouseover=\"MM_showHideLayers('MenuFinancialInfo','','show','MenuStocksDividends','','hide')\"><a href=\"http://investors.fcx.com/investor-center/financial-information/sec-filings/default.aspx\">SEC Filings</a></div>\n",
       " <div class=\"DropDown\" onmouseout=\"MM_showHideLayers('MenuFinancialInfo','','hide')\" onmouseover=\"MM_showHideLayers('MenuFinancialInfo','','show','MenuStocksDividends','','hide')\"><a href=\"http://investors.fcx.com/investor-center/financial-information/quarterly-earnings-reports/default.aspx\">Quarterly Earnings Reports</a></div>\n",
       " </div><!-- MenuFinancialInfo -->\n",
       " </div><!-- Financial .Dropdown -->\n",
       " <div class=\"DropDown\" onmouseout=\"MM_showHideLayers('MenuIr','','hide')\" onmouseover=\"MM_showHideLayers('MenuIr','','show')\"><a href=\"http://investors.fcx.com/investor-center/corporate-governance/default.aspx\">Corporate Governance</a></div>\n",
       " <div class=\"DropDown\" onmouseout=\"MM_showHideLayers('MenuIr','','hide','MenuInvestorResources','','hide')\" onmouseover=\"MM_showHideLayers('MenuIr','','show','MenuInvestorResources','','show')\"><a href=\"http://investors.fcx.com/investor-center/investor-resources/shareholder-faqs/default.aspx\">Investor Resources</a> <div id=\"MenuInvestorResources\" style=\"visibility:hidden\">\n",
       " <div class=\"DropDown\" onmouseout=\"MM_showHideLayers('MenuInvestorResources','','hide')\" onmouseover=\"MM_showHideLayers('MenuInvestorResources','','show','MenuFinancialInfo','','hide')\"><a href=\"http://investors.fcx.com/investor-center/investor-resources/shareholder-faqs/default.aspx\">Shareholder FAQs</a></div>\n",
       " <div class=\"DropDown\" onmouseout=\"MM_showHideLayers('MenuInvestorResources','','hide')\" onmouseover=\"MM_showHideLayers('MenuFinancialInfo','','show','MenuFinancialInfo','','hide')\"><a href=\"http://investors.fcx.com/investor-center/investor-resources/set-email-alerts/default.aspx\">Set Email Alerts</a></div>\n",
       " <div class=\"DropDown\" onmouseout=\"MM_showHideLayers('MenuInvestorResources','','hide')\" onmouseover=\"MM_showHideLayers('MenuFinancialInfo','','show','MenuFinancialInfo','','hide')\"><a href=\"http://investors.fcx.com/investor-center/investor-resources/request-information/default.aspx\">Request Information</a></div>\n",
       " <div class=\"DropDown\" onmouseout=\"MM_showHideLayers('MenuInvestorResources','','hide')\" onmouseover=\"MM_showHideLayers('MenuFinancialInfo','','show','MenuFinancialInfo','','hide')\"><a href=\"http://investors.fcx.com/investor-center/investor-resources/rss-feeds/default.aspx\">RSS Feeds</a></div>\n",
       " </div><!-- MenuInvestorResources -->\n",
       " </div><!-- Investor Resurces .Dropdown -->\n",
       " </div>\n",
       " <div id=\"MenuDevelop\">\n",
       " <a href=\"../sd/index.htm\"></a>\n",
       " <div class=\"DropDown\" onmouseout=\"MM_showHideLayers('MenuDevelop','','hide')\" onmouseover=\"MM_showHideLayers('MenuDevelop','','show')\"><a href=\"../sd/approach/index.htm\">Our Approach</a></div>\n",
       " <div class=\"DropDown\" onmouseout=\"MM_showHideLayers('MenuDevelop','','hide')\" onmouseover=\"MM_showHideLayers('MenuDevelop','','show')\"><a href=\"../sd/workforce/index.htm\">Workforce</a></div>\n",
       " <div class=\"DropDown\" onmouseout=\"MM_showHideLayers('MenuDevelop','','hide')\" onmouseover=\"MM_showHideLayers('MenuDevelop','','show')\"><a href=\"../sd/security/index.htm\">Human Rights</a></div>\n",
       " <div class=\"DropDown\" onmouseout=\"MM_showHideLayers('MenuDevelop','','hide')\" onmouseover=\"MM_showHideLayers('MenuDevelop','','show')\"><a href=\"../sd/community/index.htm\">Communities</a></div>\n",
       " <div class=\"DropDown\" onmouseout=\"MM_showHideLayers('MenuDevelop','','hide')\" onmouseover=\"MM_showHideLayers('MenuDevelop','','show')\"><a href=\"../sd/env/index.htm\">Environment</a></div>\n",
       " <div class=\"DropDown\" onmouseout=\"MM_showHideLayers('MenuDevelop','','hide')\" onmouseover=\"MM_showHideLayers('MenuDevelop','','show')\"><a href=\"../sd/sustain/index.htm\">Sustainability Reports &amp; Documents</a></div>\n",
       " </div>\n",
       " <!-- <div id=\"MenuCareers\">\n",
       "             <div class=\"DropDown\" onmouseover=\"MM_showHideLayers('MenuCareers','','show')\" onmouseout=\"MM_showHideLayers('MenuCareers','','hide')\"><a href=\"http://www.fmjobs.com/\">Freeport-McMoRan Mining Careers</a></div>\n",
       "             <div class=\"DropDown\" onmouseover=\"MM_showHideLayers('MenuCareers','','show')\" onmouseout=\"MM_showHideLayers('MenuCareers','','hide')\"><a href=\"http://www.fmjobs-sa.com/\">Oportunidades Laborales en Sudam&eacute;rica</a></div>\n",
       "         \n",
       "         </div> -->\n",
       " <div id=\"MenuOperations\">\n",
       " <div class=\"DropDown\" onmouseout=\"MM_showHideLayers('MenuOperations','','hide')\" onmouseover=\"MM_showHideLayers('MenuOperations','','show')\"><a href=\"operations/overview.htm\">Overview</a></div>\n",
       " <div class=\"DropDown\" onmouseout=\"MM_showHideLayers('MenuOperations','','hide')\" onmouseover=\"MM_showHideLayers('MenuOperations','','show')\"><a href=\"operations/northamerica.htm\">North America</a></div>\n",
       " <div class=\"DropDown\" onmouseout=\"MM_showHideLayers('MenuOperations','','hide')\" onmouseover=\"MM_showHideLayers('MenuOperations','','show')\"><a href=\"operations/southamerica.htm\">South America</a></div>\n",
       " <div class=\"DropDown\" onmouseout=\"MM_showHideLayers('MenuOperations','','hide')\" onmouseover=\"MM_showHideLayers('MenuOperations','','show')\"><a href=\"operations/asia.htm\">Indonesia</a></div>\n",
       " <div class=\"DropDown\" onmouseout=\"MM_showHideLayers('MenuOperations','','hide')\" onmouseover=\"MM_showHideLayers('MenuOperations','','show')\"><a href=\"operations/videos.htm\">Videos</a></div>\n",
       " </div>\n",
       " </div>\n",
       " <!-- END MENUS -->\n",
       " <!-- </div>\n",
       " </div>\n",
       " <!-- FOOTER -->\n",
       " <!-- <div id=\"Footer\">\n",
       " <P class=SecNav> -->\n",
       " <div id=\"footer\">\n",
       " <div class=\"clearfix\" style=\"width: 850px; margin: 0 auto\">\n",
       " <div id=\"footer-left\">\n",
       " <p class=\"footer_text\">Freeport-McMoRan Inc. </p>\n",
       " <p class=\"footer_text\">333 North Central Ave. </p>\n",
       " <p class=\"footer_text\">Phoenix, AZ 85004</p>\n",
       " <p class=\"footer_text\">602.366.8100</p>\n",
       " </div>\n",
       " <!-- #footer-left -->\n",
       " <div id=\"footer-right\">\n",
       " <ul class=\"footer-col\">\n",
       " <li><a href=\"company/index.htm\">Our Company</a></li>\n",
       " <li><a href=\"resources/index.htm\">Our Resources</a></li>\n",
       " <li><a href=\"cautionary.htm\">Cautionary Statement</a></li>\n",
       " </ul>\n",
       " <!-- #footer-col -->\n",
       " <ul class=\"footer-col\">\n",
       " <li><a href=\"http://investors.fcx.com/investor-center/news-releases/default.aspx\" target=\"_blank\">Investor Relations</a></li>\n",
       " <li><a href=\"http://www.computershare.com/investor\" target=\"_blank\">Transfer Agent</a></li>\n",
       " <li><a href=\"company/contact.htm\">Contact Us</a></li>\n",
       " </ul>\n",
       " <!-- #footer-col -->\n",
       " <ul class=\"footer-col\">\n",
       " <li><a href=\"sd/index.htm\">Sustainable Development</a></li>\n",
       " <li><a href=\"operations/overview.htm\">Worldwide Operations</a></li>\n",
       " <li><a href=\"careers/career_intro.htm\">Careers</a></li>\n",
       " </ul>\n",
       " <!-- #footer-col -->\n",
       " </div>\n",
       " <!-- #footer-right -->\n",
       " </div>\n",
       " <!-- .center -->\n",
       " </div>\n",
       " <!-- FOOTER -->\n",
       " </body>\n",
       " <!-- BEGIN INSERT -->\n",
       " <!-- END INSERT -->\n",
       " </html>, '\\n']"
      ]
     },
     "execution_count": 45,
     "metadata": {},
     "output_type": "execute_result"
    }
   ],
   "source": [
    "list(soup.children)\n"
   ]
  },
  {
   "cell_type": "code",
   "execution_count": 46,
   "metadata": {},
   "outputs": [
    {
     "data": {
      "text/plain": [
       "[bs4.element.Doctype, bs4.element.Tag, bs4.element.NavigableString]"
      ]
     },
     "execution_count": 46,
     "metadata": {},
     "output_type": "execute_result"
    }
   ],
   "source": [
    "[type(item) for item in list(soup.children)] \n"
   ]
  },
  {
   "cell_type": "code",
   "execution_count": 49,
   "metadata": {},
   "outputs": [
    {
     "data": {
      "text/plain": [
       "[<p></p>,\n",
       " <p class=\"pNoTopMargin Company_descrip\">FCX operates large, long-lived, geographically diverse assets with significant proven and probable reserves of copper, gold and molybdenum. \n",
       "                                   <br/>\n",
       "                               FCX is the world’s largest publicly traded copper producer. </p>,\n",
       " <p class=\"SubtitleITALIC\"><span class=\"proxima_italic_16bold\">LATEST NEWS</span></p>,\n",
       " <p class=\"HomeNews\"><a class=\"Subtitle2\" href=\"http://investors.fcx.com/investor-center/news-releases/default.aspx\"><strong>\n",
       " \t\t\t\t\t\t    \n",
       " \t\t\t\t\t\t    MORE NEWS</strong></a>\n",
       " </p>,\n",
       " <p class=\"SubtitleITALIC\"><span class=\"proxima_italic_16bold\">LATEST PRESENTATION </span> </p>,\n",
       " <p class=\"HomeNews\"><span class=\"blue12_bold\">07/25/17</span><br/>\n",
       " <a href=\"http://event.on24.com/wcc/r/1397147/2FD6EFFDCE1E92A971C4FDFB831134B3\" target=\"_blank\"><img alt=\"\" height=\"20\" src=\"art/microphone-icon.jpg\" width=\"20\"/><strong>Webcast</strong></a> <br/>\n",
       " <a href=\"http://investors.fcx.com/investor-center/presentations/event-details/2017/FCX-2Q-2017-CONFERENCE-CALL/default.aspx\" target=\"_blank\">FCX 2Q 2017 Conference Call <br/>\n",
       " <br/></a><br/>\n",
       " <br/></p>,\n",
       " <p> </p>,\n",
       " <p><a class=\"Subtitle2\" href=\" http://investors.fcx.com/investor-center/presentations/default.aspx\"><strong>MORE PRESENTATIONS</strong></a> </p>,\n",
       " <p class=\"HomeNews\"> </p>,\n",
       " <p class=\"footer_text\">Freeport-McMoRan Inc. </p>,\n",
       " <p class=\"footer_text\">333 North Central Ave. </p>,\n",
       " <p class=\"footer_text\">Phoenix, AZ 85004</p>,\n",
       " <p class=\"footer_text\">602.366.8100</p>]"
      ]
     },
     "execution_count": 49,
     "metadata": {},
     "output_type": "execute_result"
    }
   ],
   "source": [
    "soup.find_all('p')\n"
   ]
  },
  {
   "cell_type": "code",
   "execution_count": 51,
   "metadata": {},
   "outputs": [
    {
     "data": {
      "text/plain": [
       "'LATEST NEWS'"
      ]
     },
     "execution_count": 51,
     "metadata": {},
     "output_type": "execute_result"
    }
   ],
   "source": [
    "soup.find_all('p')[2].get_text()\n"
   ]
  },
  {
   "cell_type": "code",
   "execution_count": 55,
   "metadata": {},
   "outputs": [
    {
     "data": {
      "text/plain": [
       "'\\n'"
      ]
     },
     "execution_count": 55,
     "metadata": {},
     "output_type": "execute_result"
    }
   ],
   "source": [
    "soup.find_all('h1')[0].get_text()\n"
   ]
  },
  {
   "cell_type": "code",
   "execution_count": 56,
   "metadata": {},
   "outputs": [
    {
     "data": {
      "text/plain": [
       "[<p></p>,\n",
       " <p class=\"pNoTopMargin Company_descrip\">FCX operates large, long-lived, geographically diverse assets with significant proven and probable reserves of copper, gold and molybdenum. \n",
       "                                   <br/>\n",
       "                               FCX is the world’s largest publicly traded copper producer. </p>,\n",
       " <p class=\"SubtitleITALIC\"><span class=\"proxima_italic_16bold\">LATEST NEWS</span></p>,\n",
       " <p class=\"HomeNews\"><a class=\"Subtitle2\" href=\"http://investors.fcx.com/investor-center/news-releases/default.aspx\"><strong>\n",
       " \t\t\t\t\t\t    \n",
       " \t\t\t\t\t\t    MORE NEWS</strong></a>\n",
       " </p>,\n",
       " <p class=\"SubtitleITALIC\"><span class=\"proxima_italic_16bold\">LATEST PRESENTATION </span> </p>,\n",
       " <p class=\"HomeNews\"><span class=\"blue12_bold\">07/25/17</span><br/>\n",
       " <a href=\"http://event.on24.com/wcc/r/1397147/2FD6EFFDCE1E92A971C4FDFB831134B3\" target=\"_blank\"><img alt=\"\" height=\"20\" src=\"art/microphone-icon.jpg\" width=\"20\"/><strong>Webcast</strong></a> <br/>\n",
       " <a href=\"http://investors.fcx.com/investor-center/presentations/event-details/2017/FCX-2Q-2017-CONFERENCE-CALL/default.aspx\" target=\"_blank\">FCX 2Q 2017 Conference Call <br/>\n",
       " <br/></a><br/>\n",
       " <br/></p>,\n",
       " <p> </p>,\n",
       " <p><a class=\"Subtitle2\" href=\" http://investors.fcx.com/investor-center/presentations/default.aspx\"><strong>MORE PRESENTATIONS</strong></a> </p>,\n",
       " <p class=\"HomeNews\"> </p>,\n",
       " <p class=\"footer_text\">Freeport-McMoRan Inc. </p>,\n",
       " <p class=\"footer_text\">333 North Central Ave. </p>,\n",
       " <p class=\"footer_text\">Phoenix, AZ 85004</p>,\n",
       " <p class=\"footer_text\">602.366.8100</p>]"
      ]
     },
     "execution_count": 56,
     "metadata": {},
     "output_type": "execute_result"
    }
   ],
   "source": [
    "soup.select(\"div p\")\n"
   ]
  },
  {
   "cell_type": "markdown",
   "metadata": {
    "collapsed": true
   },
   "source": [
    "## Making the soup\n"
   ]
  },
  {
   "cell_type": "code",
   "execution_count": 8,
   "metadata": {},
   "outputs": [
    {
     "data": {
      "text/plain": [
       "bs4.element.Tag"
      ]
     },
     "execution_count": 8,
     "metadata": {},
     "output_type": "execute_result"
    }
   ],
   "source": [
    "from bs4 import BeautifulSoup\n",
    "\n",
    "soup = BeautifulSoup('<b class=\"boldest\">Extremely bold</b>',\"lxml\")\n",
    "tag = soup.b\n",
    "type(tag)\n",
    "# <class 'bs4.element.Tag'>"
   ]
  },
  {
   "cell_type": "code",
   "execution_count": 11,
   "metadata": {},
   "outputs": [
    {
     "name": "stdout",
     "output_type": "stream",
     "text": [
      "b\n",
      "None\n",
      "{'class': ['boldest']}\n"
     ]
    }
   ],
   "source": [
    "print(tag.name)\n",
    "print(tag.id)\n",
    "print(tag.attrs)"
   ]
  },
  {
   "cell_type": "code",
   "execution_count": 12,
   "metadata": {
    "collapsed": true
   },
   "outputs": [],
   "source": [
    "### Multi-valued attributes¶"
   ]
  },
  {
   "cell_type": "code",
   "execution_count": 18,
   "metadata": {},
   "outputs": [
    {
     "name": "stdout",
     "output_type": "stream",
     "text": [
      "CLASS  : ['body']\n",
      "CLASS  : ['body', 'strikeout']\n"
     ]
    }
   ],
   "source": [
    "css_soup = BeautifulSoup('<p class=\"body\"></p>',\"lxml\")\n",
    "print(\"CLASS  :\",css_soup.p['class'])\n",
    "# [\"body\"]\n",
    "\n",
    "css_soup = BeautifulSoup('<p class=\"body strikeout\"></p>',\"lxml\")\n",
    "print(\"CLASS  :\",css_soup.p['class'])\n",
    "# [\"body\", \"strikeout\"]"
   ]
  },
  {
   "cell_type": "code",
   "execution_count": 19,
   "metadata": {
    "collapsed": true
   },
   "outputs": [],
   "source": [
    "### CSS selectors"
   ]
  },
  {
   "cell_type": "code",
   "execution_count": 29,
   "metadata": {},
   "outputs": [
    {
     "name": "stdout",
     "output_type": "stream",
     "text": [
      "<a class=\"sister\" href=\"http://example.com/elsie\" id=\"link1\">\n",
      " Elsie\n",
      "</a>\n",
      "<a class=\"sister\" href=\"http://example.com/lacie\" id=\"link2\">\n",
      " Lacie\n",
      "</a>\n",
      "<a class=\"sister\" href=\"http://example.com/tillie\" id=\"link3\">\n",
      " Tillie\n",
      "</a>\n"
     ]
    }
   ],
   "source": [
    "from bs4 import SoupStrainer\n",
    "\n",
    "html_doc = \"\"\"\n",
    "<html><head><title>The Dormouse's story</title></head>\n",
    "<body>\n",
    "<p class=\"title\"><b>The Dormouse's story</b></p>\n",
    "\n",
    "<p class=\"story\">Once upon a time there were three little sisters; and their names were\n",
    "<a href=\"http://example.com/elsie\" class=\"sister\" id=\"link1\">Elsie</a>,\n",
    "<a href=\"http://example.com/lacie\" class=\"sister\" id=\"link2\">Lacie</a> and\n",
    "<a href=\"http://example.com/tillie\" class=\"sister\" id=\"link3\">Tillie</a>;\n",
    "and they lived at the bottom of a well.</p>\n",
    "\n",
    "<p class=\"story\">...</p>\n",
    "\"\"\"\n",
    "only_a_tags = SoupStrainer(\"a\")\n",
    "\n",
    "print(BeautifulSoup(html_doc, \"html.parser\", parse_only=only_a_tags).prettify())"
   ]
  },
  {
   "cell_type": "code",
   "execution_count": 33,
   "metadata": {},
   "outputs": [],
   "source": [
    "soup=(BeautifulSoup(html_doc, \"html.parser\"))"
   ]
  },
  {
   "cell_type": "code",
   "execution_count": 34,
   "metadata": {},
   "outputs": [
    {
     "name": "stdout",
     "output_type": "stream",
     "text": [
      "[<title>The Dormouse's story</title>]\n"
     ]
    },
    {
     "data": {
      "text/plain": [
       "[<p class=\"story\">...</p>]"
      ]
     },
     "execution_count": 34,
     "metadata": {},
     "output_type": "execute_result"
    }
   ],
   "source": [
    "print(soup.select(\"title\"))\n",
    "\n",
    "soup.select(\"p:nth-of-type(3)\")"
   ]
  },
  {
   "cell_type": "code",
   "execution_count": 35,
   "metadata": {},
   "outputs": [
    {
     "name": "stdout",
     "output_type": "stream",
     "text": [
      "[<a class=\"sister\" href=\"http://example.com/elsie\" id=\"link1\">Elsie</a>, <a class=\"sister\" href=\"http://example.com/lacie\" id=\"link2\">Lacie</a>, <a class=\"sister\" href=\"http://example.com/tillie\" id=\"link3\">Tillie</a>]\n"
     ]
    }
   ],
   "source": [
    "print(soup.select(\"body a\"))"
   ]
  },
  {
   "cell_type": "code",
   "execution_count": 41,
   "metadata": {},
   "outputs": [
    {
     "data": {
      "text/plain": [
       "[<a class=\"sister\" href=\"http://example.com/elsie\" id=\"link1\">Elsie</a>,\n",
       " <a class=\"sister\" href=\"http://example.com/lacie\" id=\"link2\">Lacie</a>,\n",
       " <a class=\"sister\" href=\"http://example.com/tillie\" id=\"link3\">Tillie</a>]"
      ]
     },
     "execution_count": 41,
     "metadata": {},
     "output_type": "execute_result"
    }
   ],
   "source": [
    "soup.select(\"p > a\")"
   ]
  },
  {
   "cell_type": "code",
   "execution_count": 42,
   "metadata": {},
   "outputs": [
    {
     "data": {
      "text/plain": [
       "[<a class=\"sister\" href=\"http://example.com/lacie\" id=\"link2\">Lacie</a>]"
      ]
     },
     "execution_count": 42,
     "metadata": {},
     "output_type": "execute_result"
    }
   ],
   "source": [
    "soup.select(\"p > a:nth-of-type(2)\")"
   ]
  },
  {
   "cell_type": "code",
   "execution_count": 43,
   "metadata": {},
   "outputs": [
    {
     "data": {
      "text/plain": [
       "[<a class=\"sister\" href=\"http://example.com/tillie\" id=\"link3\">Tillie</a>]"
      ]
     },
     "execution_count": 43,
     "metadata": {},
     "output_type": "execute_result"
    }
   ],
   "source": [
    "soup.select(\"p > a:nth-of-type(3)\")"
   ]
  },
  {
   "cell_type": "code",
   "execution_count": 46,
   "metadata": {},
   "outputs": [
    {
     "data": {
      "text/plain": [
       "[<a class=\"sister\" href=\"http://example.com/elsie\" id=\"link1\">Elsie</a>]"
      ]
     },
     "execution_count": 46,
     "metadata": {},
     "output_type": "execute_result"
    }
   ],
   "source": [
    "soup.select(\"p > #link1\")"
   ]
  },
  {
   "cell_type": "code",
   "execution_count": null,
   "metadata": {
    "collapsed": true
   },
   "outputs": [],
   "source": []
  }
 ],
 "metadata": {
  "kernelspec": {
   "display_name": "Python [conda env:python36]",
   "language": "python",
   "name": "conda-env-python36-py"
  },
  "language_info": {
   "codemirror_mode": {
    "name": "ipython",
    "version": 3
   },
   "file_extension": ".py",
   "mimetype": "text/x-python",
   "name": "python",
   "nbconvert_exporter": "python",
   "pygments_lexer": "ipython3",
   "version": "3.6.1"
  }
 },
 "nbformat": 4,
 "nbformat_minor": 2
}
