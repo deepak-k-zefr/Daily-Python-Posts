{
 "cells": [
  {
   "cell_type": "markdown",
   "metadata": {},
   "source": [
    "https://pythonprogramming.net/introduction-python-reddit-api-wrapper-praw-tutorial/"
   ]
  },
  {
   "cell_type": "code",
   "execution_count": 39,
   "metadata": {
    "collapsed": true
   },
   "outputs": [],
   "source": [
    "### PART 1"
   ]
  },
  {
   "cell_type": "code",
   "execution_count": 9,
   "metadata": {},
   "outputs": [],
   "source": [
    "import praw\n",
    "\n",
    "reddit = praw.Reddit(client_id='id',\n",
    "                     client_secret='secret', password='password',\n",
    "                     user_agent='PrawTut', username='name')"
   ]
  },
  {
   "cell_type": "code",
   "execution_count": 10,
   "metadata": {
    "collapsed": true
   },
   "outputs": [],
   "source": [
    "subreddit = reddit.subreddit('python')"
   ]
  },
  {
   "cell_type": "code",
   "execution_count": 11,
   "metadata": {},
   "outputs": [
    {
     "data": {
      "text/plain": [
       "Subreddit(display_name='python')"
      ]
     },
     "execution_count": 11,
     "metadata": {},
     "output_type": "execute_result"
    }
   ],
   "source": [
    "subreddit"
   ]
  },
  {
   "cell_type": "code",
   "execution_count": 16,
   "metadata": {},
   "outputs": [
    {
     "data": {
      "text/plain": [
       "<praw.models.listing.generator.ListingGenerator at 0x108b214a8>"
      ]
     },
     "execution_count": 16,
     "metadata": {},
     "output_type": "execute_result"
    }
   ],
   "source": [
    "hot_python = subreddit.hot(limit=5)\n",
    "hot_python"
   ]
  },
  {
   "cell_type": "code",
   "execution_count": 17,
   "metadata": {},
   "outputs": [
    {
     "name": "stdout",
     "output_type": "stream",
     "text": [
      "6302cj\n",
      "72kl2a\n",
      "73mh0k\n",
      "73m523\n",
      "73q3qb\n"
     ]
    }
   ],
   "source": [
    "for submission in hot_python:\n",
    "    print(submission)"
   ]
  },
  {
   "cell_type": "code",
   "execution_count": 23,
   "metadata": {},
   "outputs": [
    {
     "name": "stdout",
     "output_type": "stream",
     "text": [
      "/r/Python Official Job Board\n",
      "What's everyone working on this week?\n",
      "python script to measure 3D object volume\n",
      "In what cases You using Python on your work?\n",
      "Deep Learning From Scratch I: Computational Graphs\n"
     ]
    }
   ],
   "source": [
    "hot_python = subreddit.hot(limit=5)\n",
    "for submission in hot_python:\n",
    "    print(submission.title)"
   ]
  },
  {
   "cell_type": "code",
   "execution_count": 22,
   "metadata": {},
   "outputs": [
    {
     "name": "stdout",
     "output_type": "stream",
     "text": [
      "python script to measure 3D object volume\n",
      "In what cases You using Python on your work?\n",
      "Deep Learning From Scratch I: Computational Graphs\n",
      "Project management software recommendations?\n",
      "Build RESTful APIs on asyncio web application\n",
      "Is it possible to replicate the Windows search using my own Python app?\n",
      "Flask app using LDA to suggest GitHub repositories based on what you have starred.\n",
      "How to programatically recognize divergences in correlation?\n"
     ]
    }
   ],
   "source": [
    "hot_python = subreddit.hot(limit=10)\n",
    "for submission in hot_python:\n",
    "    if not submission.stickied:\n",
    "        print(submission.title)"
   ]
  },
  {
   "cell_type": "code",
   "execution_count": 28,
   "metadata": {},
   "outputs": [
    {
     "name": "stdout",
     "output_type": "stream",
     "text": [
      "Title: python script to measure 3D object volume, ups: 109, downs: 0, Have we visited?: False\n",
      "Title: In what cases You using Python on your work?, ups: 74, downs: 0, Have we visited?: False\n",
      "Title: Deep Learning From Scratch I: Computational Graphs, ups: 3, downs: 0, Have we visited?: False\n",
      "Title: Project management software recommendations?, ups: 8, downs: 0, Have we visited?: False\n",
      "Title: Build RESTful APIs on asyncio web application, ups: 36, downs: 0, Have we visited?: False\n",
      "Title: Is it possible to replicate the Windows search using my own Python app?, ups: 2, downs: 0, Have we visited?: False\n",
      "Title: Flask app using LDA to suggest GitHub repositories based on what you have starred., ups: 3, downs: 0, Have we visited?: False\n",
      "Title: How to programatically recognize divergences in correlation?, ups: 2, downs: 0, Have we visited?: False\n"
     ]
    }
   ],
   "source": [
    "hot_python = subreddit.hot(limit=10)\n",
    "for submission in hot_python:\n",
    "    if not submission.stickied:\n",
    "        print('Title: {}, ups: {}, downs: {}, Have we visited?: {}'.format(submission.title,\n",
    "                                                                           submission.ups,\n",
    "                                                                           submission.downs,\n",
    "                                                                           submission.visited))\n"
   ]
  },
  {
   "cell_type": "code",
   "execution_count": 30,
   "metadata": {
    "collapsed": true
   },
   "outputs": [],
   "source": [
    "subreddit.subscribe()\n"
   ]
  },
  {
   "cell_type": "code",
   "execution_count": 37,
   "metadata": {},
   "outputs": [
    {
     "name": "stdout",
     "output_type": "stream",
     "text": [
      "['STR_FIELD', '__class__', '__delattr__', '__dict__', '__dir__', '__doc__', '__eq__', '__format__', '__ge__', '__getattr__', '__getattribute__', '__gt__', '__hash__', '__init__', '__init_subclass__', '__le__', '__lt__', '__module__', '__ne__', '__new__', '__reduce__', '__reduce_ex__', '__repr__', '__setattr__', '__sizeof__', '__str__', '__subclasshook__', '__weakref__', '_chunk', '_comments_by_id', '_fetch', '_fetched', '_flair', '_info_params', '_info_path', '_mod', '_reddit', '_reset_attributes', '_safely_add_arguments', '_vote', 'approved_at_utc', 'approved_by', 'archived', 'author', 'author_flair_css_class', 'author_flair_text', 'banned_at_utc', 'banned_by', 'brand_safe', 'can_gild', 'can_mod_post', 'clear_vote', 'clicked', 'comment_limit', 'comment_sort', 'comments', 'contest_mode', 'created', 'created_utc', 'crosspost', 'delete', 'disable_inbox_replies', 'distinguished', 'domain', 'downs', 'downvote', 'duplicates', 'edit', 'edited', 'enable_inbox_replies', 'flair', 'fullname', 'gild', 'gilded', 'hidden', 'hide', 'hide_score', 'id', 'id_from_url', 'is_crosspostable', 'is_self', 'is_video', 'likes', 'link_flair_css_class', 'link_flair_text', 'locked', 'media', 'media_embed', 'mod', 'mod_reports', 'name', 'num_comments', 'num_crossposts', 'num_reports', 'over_18', 'parent_whitelist_status', 'parse', 'permalink', 'pinned', 'quarantine', 'removal_reason', 'reply', 'report', 'report_reasons', 'save', 'saved', 'score', 'secure_media', 'secure_media_embed', 'selftext', 'selftext_html', 'shortlink', 'spoiler', 'stickied', 'subreddit', 'subreddit_id', 'subreddit_name_prefixed', 'subreddit_type', 'suggested_sort', 'thumbnail', 'title', 'unhide', 'unsave', 'ups', 'upvote', 'url', 'user_reports', 'view_count', 'visited', 'whitelist_status']\n"
     ]
    }
   ],
   "source": [
    "hot_python=subreddit.hot(limit=1)\n",
    "for submission in hot_python:\n",
    "    print(dir(submission))"
   ]
  },
  {
   "cell_type": "code",
   "execution_count": 40,
   "metadata": {
    "collapsed": true
   },
   "outputs": [],
   "source": [
    "##PART 2- Reddit comments"
   ]
  },
  {
   "cell_type": "code",
   "execution_count": 41,
   "metadata": {},
   "outputs": [
    {
     "name": "stdout",
     "output_type": "stream",
     "text": [
      "Title: python script to measure 3D object volume, ups: 107, downs: 0, Have we visited?: False\n",
      "--------------------\n",
      "I wish I could help more than simply upvoting for visibility, but your English is just fine. ^_^\n",
      "REPLY:\n",
      "\tthank you mate!! This is encouraging\n",
      "--------------------\n",
      "Going by the [setup file](https://github.com/mvhenten/pylatscan/blob/master/python/setup.py#L39) pylatparse_cli is simply calling[ this script](https://github.com/mvhenten/pylatscan/blob/master/python/pylatscan/controller/parser_cli.py) you could try to run it directly and see if it works.\n",
      "REPLY:\n",
      "\t[Permanent(https://help.github.com/articles/getting-permanent-links-to-files/#press-y-to-permalink-to-a-file-in-a-specific-commit)] GitHub links:\n",
      "\n",
      "\n",
      " * [mvhenten/pylatscan/.../**setup.py#L39** (master → f5e8b97)](https://github.com/mvhenten/pylatscan/blob/f5e8b974d932826ee7d267e8cd5894bd2297c204/python/setup.py#L39)\n",
      " * [mvhenten/pylatscan/.../**parser_cli.py** (master → f5e8b97)](https://github.com/mvhenten/pylatscan/blob/f5e8b974d932826ee7d267e8cd5894bd2297c204/python/pylatscan/controller/parser_cli.py)\n",
      "\n",
      "----\n",
      "\n",
      "^(Shoot me a PM if you think I'm doing something wrong.)^( To delete this, click) [^here](https://www.reddit.com/message/compose/?to=GitHubPermalinkBot&subject=deletion&message=Delete reply dnrkxdf.)^.\n",
      "--------------------\n",
      "It looks like those _cli tools are included with the python package, it might simply be an issue with setting the path correctly. You could try using the gui tool if you don't want to get too indepth with command line stuff. Just make sure you go through the install process outlined in the readme.\n",
      "REPLY:\n",
      "\tYes, I know which scripts to look at now. Thank you very much!\n",
      "/u/lagooned\n",
      "/u/_AACO\n",
      "--------------------\n",
      "Silly question but can’t you just immerse the object you’re measuring in liquid and measure the volume it displaces?\n",
      "REPLY:\n",
      "\tI think it's inside a mouse.... Your method would prove...difficult...if so.\n",
      "REPLY:\n",
      "\t...eureka?\n",
      "--------------------\n",
      "Are these live specimens you're measuring? I think the only issue is that you don't want any movement while it's sampling. \n",
      "\n",
      "If you had an expensive 3D capture system it could probably compensate for small movements, but this system might not be spectacular at it.\n",
      "REPLY:\n",
      "\tYeah, though single shot might solve the movement problem, resolution is another problem as I want to build one with limited budget but I will try~!\n",
      "--------------------\n",
      "Can you elaborate a bit on how the data looks like, or what you want to measure, exactly. You said it's tumors, are they still inside the mice or already extracted? (I suppose extracted, since you want to take structure light measurements of them).\n",
      "\n",
      "If extracted, there would be a few ways to measure their volume and lengths. Structure light is one, you'll need a projector and a camera, and you need to calibrate both (intrinsics and extrinsics / relative position). Stereo would be a second way, maybe with a semi-random pattern projected on the tumor to get some data. Stereo also requires calibrated cameras. In the link you gave, I belive they are using a sheet-of-light / laser line approach, but you'll need a precise stepping motor for that one.\n",
      "\n",
      "Hardware wise, stereo would be the simplest setup, since projectors are much harder to calibrate (and not that simple to obtain for such small measurement volumes). Buy two cameras - make sure that you can manually set and fix their focus, since autofocus / changing the focus destorys the calibration -, arrange them, calibrate and measure.\n",
      "\n",
      "\n",
      "REPLY:\n",
      "\tI was thinking to project color light strips onto a surface, say if A strip land at left-3cm of a photo, I know it's at a distance of 4cm from the camera and if I push the plane forward, the position of the strip on the photo should be shifted (I guess?). Can I say like \"by knowing how much it's shifted I could calculate the distance of a point from the camera? So that I could generate ponit-cloud data by know the distance of a point away from the camera?\n",
      "--------------------\n",
      "If you are working with images, you could probably train a Neural network to do it,\n",
      "REPLY:\n",
      "\tYour not wrong exactly, but that is going to be a way more difficult problem to solve and regular maths is more reliable for such a well defined problem. \n",
      "REPLY:\n",
      "\t> bably train a Neural network to\n",
      "\n",
      "Thank you for your idea, I will read some material regarding neural network : )\n"
     ]
    }
   ],
   "source": [
    "import time\n",
    "\n",
    "hot_python = subreddit.hot(limit=3)\n",
    "for submission in hot_python:\n",
    "    if not submission.stickied:\n",
    "        print('Title: {}, ups: {}, downs: {}, Have we visited?: {}'.format(submission.title,\n",
    "                                                                           submission.ups,\n",
    "                                                                           submission.downs,\n",
    "                                                                           submission.visited))\n",
    "        comments = submission.comments\n",
    "        for comment in comments:\n",
    "            print(20*'-')\n",
    "            print(comment.body)\n",
    "            if len(comment.replies) > 0:\n",
    "                for reply in comment.replies:\n",
    "                    print('REPLY:')\n",
    "                    print(\"\\t\"+reply.body)"
   ]
  },
  {
   "cell_type": "code",
   "execution_count": 42,
   "metadata": {},
   "outputs": [
    {
     "name": "stdout",
     "output_type": "stream",
     "text": [
      "Title: python script to measure 3D object volume, ups: 107, downs: 0, Have we visited?: False, subid: 73mh0k\n",
      "####################\n",
      "Parent ID: 73mh0k\n",
      "Comment ID: dnrfas0\n",
      "I wish I could help more than simply upvoting for visibility, but your English is just fine. ^_^\n",
      "####################\n",
      "Parent ID: 73mh0k\n",
      "Comment ID: dnrkwz6\n",
      "Going by the [setup file](https://github.com/mvhenten/pylatscan/blob/master/python/setup.py#L39) pylatparse_cli is simply calling[ this script](https://github.com/mvhenten/pylatscan/blob/master/python\n",
      "####################\n",
      "Parent ID: 73mh0k\n",
      "Comment ID: dnrhe1p\n",
      "It looks like those _cli tools are included with the python package, it might simply be an issue with setting the path correctly. You could try using the gui tool if you don't want to get too indepth \n",
      "####################\n",
      "Parent ID: 73mh0k\n",
      "Comment ID: dns1qtm\n",
      "Silly question but can’t you just immerse the object you’re measuring in liquid and measure the volume it displaces?\n",
      "####################\n",
      "Parent ID: 73mh0k\n",
      "Comment ID: dnrz76v\n",
      "Are these live specimens you're measuring? I think the only issue is that you don't want any movement while it's sampling. \n",
      "\n",
      "If you had an expensive 3D capture system it could probably compensate for \n",
      "####################\n",
      "Parent ID: 73mh0k\n",
      "Comment ID: dnsc0l7\n",
      "Can you elaborate a bit on how the data looks like, or what you want to measure, exactly. You said it's tumors, are they still inside the mice or already extracted? (I suppose extracted, since you wan\n",
      "####################\n",
      "Parent ID: 73mh0k\n",
      "Comment ID: dns3nk6\n",
      "If you are working with images, you could probably train a Neural network to do it,\n",
      "####################\n",
      "Parent ID: dnrfas0\n",
      "Comment ID: dnsc4lk\n",
      "thank you mate!! This is encouraging\n",
      "####################\n",
      "Parent ID: dnrkwz6\n",
      "Comment ID: dnrkxdf\n",
      "[Permanent(https://help.github.com/articles/getting-permanent-links-to-files/#press-y-to-permalink-to-a-file-in-a-specific-commit)] GitHub links:\n",
      "\n",
      "\n",
      " * [mvhenten/pylatscan/.../**setup.py#L39** (master \n",
      "####################\n",
      "Parent ID: dnrhe1p\n",
      "Comment ID: dnscc4i\n",
      "Yes, I know which scripts to look at now. Thank you very much!\n",
      "/u/lagooned\n",
      "/u/_AACO\n",
      "####################\n",
      "Parent ID: dns1qtm\n",
      "Comment ID: dns4qtp\n",
      "I think it's inside a mouse.... Your method would prove...difficult...if so.\n",
      "####################\n",
      "Parent ID: dns1qtm\n",
      "Comment ID: dnsatau\n",
      "...eureka?\n",
      "####################\n",
      "Parent ID: dnrz76v\n",
      "Comment ID: dnschc3\n",
      "Yeah, though single shot might solve the movement problem, resolution is another problem as I want to build one with limited budget but I will try~!\n",
      "####################\n",
      "Parent ID: dnsc0l7\n",
      "Comment ID: dnscsnw\n",
      "I was thinking to project color light strips onto a surface, say if A strip land at left-3cm of a photo, I know it's at a distance of 4cm from the camera and if I push the plane forward, the position \n",
      "####################\n",
      "Parent ID: dns3nk6\n",
      "Comment ID: dnsckb7\n",
      "Your not wrong exactly, but that is going to be a way more difficult problem to solve and regular maths is more reliable for such a well defined problem. \n"
     ]
    }
   ],
   "source": [
    "hot_python = subreddit.hot(limit=3)\n",
    "for submission in hot_python:\n",
    "    if not submission.stickied:\n",
    "        print('Title: {}, ups: {}, downs: {}, Have we visited?: {}, subid: {}'.format(submission.title,\n",
    "                                                                                                   submission.ups,\n",
    "                                                                                                   submission.downs,\n",
    "                                                                                                   submission.visited,\n",
    "                                                                                                   submission.id))\n",
    "        submission.comments.replace_more(limit=0)\n",
    "        # limiting to 15 results to save output\n",
    "        for comment in submission.comments.list()[:15]:\n",
    "            print(20*'#')\n",
    "            print('Parent ID:',comment.parent())\n",
    "            print('Comment ID:',comment.id)\n",
    "            # limiting output for space-saving-sake, feel free to not do this\n",
    "            print(comment.body[:200])"
   ]
  },
  {
   "cell_type": "code",
   "execution_count": 44,
   "metadata": {},
   "outputs": [
    {
     "name": "stdout",
     "output_type": "stream",
     "text": [
      "Title: python script to measure 3D object volume, ups: 109, downs: 0, Have we visited?: False, subid: 73mh0k\n"
     ]
    }
   ],
   "source": [
    "conversedict = {}\n",
    "hot_python = subreddit.hot(limit=3)\n",
    "\n",
    "for submission in hot_python:\n",
    "    if not submission.stickied:\n",
    "        print('Title: {}, ups: {}, downs: {}, Have we visited?: {}, subid: {}'.format(submission.title,\n",
    "                                                                                      submission.ups,\n",
    "                                                                                      submission.downs,\n",
    "                                                                                      submission.visited,\n",
    "                                                                                      submission.id))\n",
    "\n",
    "        submission.comments.replace_more(limit=0)\n",
    "        for comment in submission.comments.list():\n",
    "            if comment.id not in conversedict:\n",
    "                conversedict[comment.id] = [comment.body,{}]\n",
    "                if comment.parent() != submission.id:\n",
    "                    parent = str(comment.parent())\n",
    "                    conversedict[parent][1][comment.id] = [comment.ups, comment.body]\n"
   ]
  },
  {
   "cell_type": "code",
   "execution_count": 45,
   "metadata": {},
   "outputs": [
    {
     "name": "stdout",
     "output_type": "stream",
     "text": [
      "Original Message: Silly question but can’t you just immerse the object you’re measuring in liquid and measure the volume it displaces?\n",
      "___________________________________\n",
      "Replies:\n",
      "[5, \"I think it's inside a mouse.... Your method would prove...difficult...if so.\"]\n",
      "[1, '...eureka?']\n",
      "Original Message: If you are working with images, you could probably train a Neural network to do it,\n",
      "___________________________________\n",
      "Replies:\n",
      "[2, 'Your not wrong exactly, but that is going to be a way more difficult problem to solve and regular maths is more reliable for such a well defined problem. ']\n",
      "[1, '> bably train a Neural network to\\n\\nThank you for your idea, I will read some material regarding neural network : )']\n"
     ]
    }
   ],
   "source": [
    "for post_id in conversedict:\n",
    "    message = conversedict[post_id][0]\n",
    "    replies = conversedict[post_id][1]\n",
    "    if len(replies) > 1:\n",
    "        print('Original Message: {}'.format(message))\n",
    "        print(35*'_')\n",
    "        print('Replies:')\n",
    "        for reply in replies:\n",
    "            print(replies[reply])"
   ]
  },
  {
   "cell_type": "code",
   "execution_count": 47,
   "metadata": {},
   "outputs": [
    {
     "name": "stdout",
     "output_type": "stream",
     "text": [
      "______________________________\n",
      "\n",
      "Parent:\n",
      "______________________________\n",
      "\n",
      "Parent:\n",
      "Lol,lol,lol we should change everything based on your opinion?\n",
      "\n",
      "I forgot what was the death toll again?\n",
      "Reply\n",
      "Based on the fact there was a terrorist attack yesterday. Perhaps you feel terrorist attacks should be part and parcel with living in the city of champions but I respectfully disagree.\n",
      "______________________________\n",
      "\n",
      "Parent:\n",
      "So no, you’re not familiar with personal responsibility.\n",
      "Reply\n",
      "People like you are personally responsible for moderates drifting away from the Democratic party so yeah I suppose so.\n",
      "______________________________\n",
      "\n",
      "Parent:\n",
      "I can't find any legit news source reporting on the strike but all day there have been people blaming a truck driver strike and linking to shady blogs as proof.\n",
      "Reply\n",
      "Rumor started by T_D to explain away Daddy's failures.\n",
      "______________________________\n",
      "\n",
      "Parent:\n",
      "then maybe they shouldn’t have elected a reality tv star to be president.\n",
      "Reply\n",
      "This is gold.  Many trumptards gonna be mad.\n",
      "______________________________\n",
      "\n",
      "Parent:\n",
      "\"Be asked to be corrected if I am wrong, but you clearly aren't the wine to do it.\"\n",
      "\n",
      "Lol what? Do you guys use some kind of really crappy software for these troll accounts? \n",
      "Reply\n",
      "You got really triggered cause, of what again? I talked neutrally about narratives. That's right. lol.\n",
      "______________________________\n",
      "\n",
      "Parent:\n",
      "Maybe, but I think that in a courtroom you would have a very hard time making the case that a teenage girl should be charged with a criminal offense for offering a sexual favor to a police officer. Mostly because the common sense response is: the police officer should fucking know better than to accept a blowjob from anyone (but especially an almost-minor) both during work hours and whom they’re arresting, so it shouldn’t have become a problem in the first place.\n",
      "\n",
      "When someone is successfully charged with bribery of a law enforcement official, it’s usually for something on a much larger scale (like a wealthy person bribing a powerful judge).\n",
      "Reply\n",
      "Aww ok that makes sense.   It still would be attempting to bribe I think though. Like if they had it on video. Like police should know to take money to change decisions but if i offered it would be attempting to bribe him\n",
      "______________________________\n",
      "\n",
      "Parent:\n"
     ]
    },
    {
     "ename": "KeyboardInterrupt",
     "evalue": "",
     "output_type": "error",
     "traceback": [
      "\u001b[0;31m---------------------------------------------------------------------------\u001b[0m",
      "\u001b[0;31mKeyboardInterrupt\u001b[0m                         Traceback (most recent call last)",
      "\u001b[0;32m<ipython-input-47-9013558d358a>\u001b[0m in \u001b[0;36m<module>\u001b[0;34m()\u001b[0m\n\u001b[1;32m      6\u001b[0m         \u001b[0msubmission\u001b[0m \u001b[0;34m=\u001b[0m \u001b[0mreddit\u001b[0m\u001b[0;34m.\u001b[0m\u001b[0mcomment\u001b[0m\u001b[0;34m(\u001b[0m\u001b[0mparent_id\u001b[0m\u001b[0;34m)\u001b[0m\u001b[0;34m\u001b[0m\u001b[0m\n\u001b[1;32m      7\u001b[0m         \u001b[0mprint\u001b[0m\u001b[0;34m(\u001b[0m\u001b[0;34m'Parent:'\u001b[0m\u001b[0;34m)\u001b[0m\u001b[0;34m\u001b[0m\u001b[0m\n\u001b[0;32m----> 8\u001b[0;31m         \u001b[0mprint\u001b[0m\u001b[0;34m(\u001b[0m\u001b[0msubmission\u001b[0m\u001b[0;34m.\u001b[0m\u001b[0mbody\u001b[0m\u001b[0;34m)\u001b[0m\u001b[0;34m\u001b[0m\u001b[0m\n\u001b[0m\u001b[1;32m      9\u001b[0m         \u001b[0mprint\u001b[0m\u001b[0;34m(\u001b[0m\u001b[0;34m'Reply'\u001b[0m\u001b[0;34m)\u001b[0m\u001b[0;34m\u001b[0m\u001b[0m\n\u001b[1;32m     10\u001b[0m         \u001b[0mprint\u001b[0m\u001b[0;34m(\u001b[0m\u001b[0mcomment\u001b[0m\u001b[0;34m.\u001b[0m\u001b[0mbody\u001b[0m\u001b[0;34m)\u001b[0m\u001b[0;34m\u001b[0m\u001b[0m\n",
      "\u001b[0;32m/Users/deepak/anaconda/lib/python3.6/site-packages/praw/models/reddit/base.py\u001b[0m in \u001b[0;36m__getattr__\u001b[0;34m(self, attribute)\u001b[0m\n\u001b[1;32m     29\u001b[0m         \u001b[0;34m\"\"\"Return the value of `attribute`.\"\"\"\u001b[0m\u001b[0;34m\u001b[0m\u001b[0m\n\u001b[1;32m     30\u001b[0m         \u001b[0;32mif\u001b[0m \u001b[0;32mnot\u001b[0m \u001b[0mattribute\u001b[0m\u001b[0;34m.\u001b[0m\u001b[0mstartswith\u001b[0m\u001b[0;34m(\u001b[0m\u001b[0;34m'_'\u001b[0m\u001b[0;34m)\u001b[0m \u001b[0;32mand\u001b[0m \u001b[0;32mnot\u001b[0m \u001b[0mself\u001b[0m\u001b[0;34m.\u001b[0m\u001b[0m_fetched\u001b[0m\u001b[0;34m:\u001b[0m\u001b[0;34m\u001b[0m\u001b[0m\n\u001b[0;32m---> 31\u001b[0;31m             \u001b[0mself\u001b[0m\u001b[0;34m.\u001b[0m\u001b[0m_fetch\u001b[0m\u001b[0;34m(\u001b[0m\u001b[0;34m)\u001b[0m\u001b[0;34m\u001b[0m\u001b[0m\n\u001b[0m\u001b[1;32m     32\u001b[0m             \u001b[0;32mreturn\u001b[0m \u001b[0mgetattr\u001b[0m\u001b[0;34m(\u001b[0m\u001b[0mself\u001b[0m\u001b[0;34m,\u001b[0m \u001b[0mattribute\u001b[0m\u001b[0;34m)\u001b[0m\u001b[0;34m\u001b[0m\u001b[0m\n\u001b[1;32m     33\u001b[0m         raise AttributeError('{!r} object has no attribute {!r}'\n",
      "\u001b[0;32m/Users/deepak/anaconda/lib/python3.6/site-packages/praw/models/reddit/base.py\u001b[0m in \u001b[0;36m_fetch\u001b[0;34m(self)\u001b[0m\n\u001b[1;32m     68\u001b[0m             \u001b[0mself\u001b[0m\u001b[0;34m.\u001b[0m\u001b[0m_info_params\u001b[0m\u001b[0;34m[\u001b[0m\u001b[0;34m'id'\u001b[0m\u001b[0;34m]\u001b[0m \u001b[0;34m=\u001b[0m \u001b[0mself\u001b[0m\u001b[0;34m.\u001b[0m\u001b[0mfullname\u001b[0m\u001b[0;34m\u001b[0m\u001b[0m\n\u001b[1;32m     69\u001b[0m             children = self._reddit.get(API_PATH['info'],\n\u001b[0;32m---> 70\u001b[0;31m                                         params=self._info_params).children\n\u001b[0m\u001b[1;32m     71\u001b[0m             \u001b[0;32mif\u001b[0m \u001b[0;32mnot\u001b[0m \u001b[0mchildren\u001b[0m\u001b[0;34m:\u001b[0m\u001b[0;34m\u001b[0m\u001b[0m\n\u001b[1;32m     72\u001b[0m                 raise PRAWException('No {!r} data returned for thing {}'\n",
      "\u001b[0;32m/Users/deepak/anaconda/lib/python3.6/site-packages/praw/reddit.py\u001b[0m in \u001b[0;36mget\u001b[0;34m(self, path, params)\u001b[0m\n\u001b[1;32m    365\u001b[0m \u001b[0;34m\u001b[0m\u001b[0m\n\u001b[1;32m    366\u001b[0m         \"\"\"\n\u001b[0;32m--> 367\u001b[0;31m         \u001b[0mdata\u001b[0m \u001b[0;34m=\u001b[0m \u001b[0mself\u001b[0m\u001b[0;34m.\u001b[0m\u001b[0mrequest\u001b[0m\u001b[0;34m(\u001b[0m\u001b[0;34m'GET'\u001b[0m\u001b[0;34m,\u001b[0m \u001b[0mpath\u001b[0m\u001b[0;34m,\u001b[0m \u001b[0mparams\u001b[0m\u001b[0;34m=\u001b[0m\u001b[0mparams\u001b[0m\u001b[0;34m)\u001b[0m\u001b[0;34m\u001b[0m\u001b[0m\n\u001b[0m\u001b[1;32m    368\u001b[0m         \u001b[0;32mreturn\u001b[0m \u001b[0mself\u001b[0m\u001b[0;34m.\u001b[0m\u001b[0m_objector\u001b[0m\u001b[0;34m.\u001b[0m\u001b[0mobjectify\u001b[0m\u001b[0;34m(\u001b[0m\u001b[0mdata\u001b[0m\u001b[0;34m)\u001b[0m\u001b[0;34m\u001b[0m\u001b[0m\n\u001b[1;32m    369\u001b[0m \u001b[0;34m\u001b[0m\u001b[0m\n",
      "\u001b[0;32m/Users/deepak/anaconda/lib/python3.6/site-packages/praw/reddit.py\u001b[0m in \u001b[0;36mrequest\u001b[0;34m(self, method, path, params, data, files)\u001b[0m\n\u001b[1;32m    470\u001b[0m         \"\"\"\n\u001b[1;32m    471\u001b[0m         return self._core.request(method, path, data=data, files=files,\n\u001b[0;32m--> 472\u001b[0;31m                                   params=params)\n\u001b[0m\u001b[1;32m    473\u001b[0m \u001b[0;34m\u001b[0m\u001b[0m\n\u001b[1;32m    474\u001b[0m     def submission(  # pylint: disable=invalid-name,redefined-builtin\n",
      "\u001b[0;32m/Users/deepak/anaconda/lib/python3.6/site-packages/prawcore/sessions.py\u001b[0m in \u001b[0;36mrequest\u001b[0;34m(self, method, path, data, files, json, params)\u001b[0m\n\u001b[1;32m    177\u001b[0m         return self._request_with_retries(\n\u001b[1;32m    178\u001b[0m             \u001b[0mdata\u001b[0m\u001b[0;34m=\u001b[0m\u001b[0mdata\u001b[0m\u001b[0;34m,\u001b[0m \u001b[0mfiles\u001b[0m\u001b[0;34m=\u001b[0m\u001b[0mfiles\u001b[0m\u001b[0;34m,\u001b[0m \u001b[0mjson\u001b[0m\u001b[0;34m=\u001b[0m\u001b[0mjson\u001b[0m\u001b[0;34m,\u001b[0m \u001b[0mmethod\u001b[0m\u001b[0;34m=\u001b[0m\u001b[0mmethod\u001b[0m\u001b[0;34m,\u001b[0m\u001b[0;34m\u001b[0m\u001b[0m\n\u001b[0;32m--> 179\u001b[0;31m             params=params, url=url)\n\u001b[0m\u001b[1;32m    180\u001b[0m \u001b[0;34m\u001b[0m\u001b[0m\n\u001b[1;32m    181\u001b[0m \u001b[0;34m\u001b[0m\u001b[0m\n",
      "\u001b[0;32m/Users/deepak/anaconda/lib/python3.6/site-packages/prawcore/sessions.py\u001b[0m in \u001b[0;36m_request_with_retries\u001b[0;34m(self, data, files, json, method, params, url, retries)\u001b[0m\n\u001b[1;32m    108\u001b[0m         \u001b[0mself\u001b[0m\u001b[0;34m.\u001b[0m\u001b[0m_log_request\u001b[0m\u001b[0;34m(\u001b[0m\u001b[0mdata\u001b[0m\u001b[0;34m,\u001b[0m \u001b[0mmethod\u001b[0m\u001b[0;34m,\u001b[0m \u001b[0mparams\u001b[0m\u001b[0;34m,\u001b[0m \u001b[0murl\u001b[0m\u001b[0;34m)\u001b[0m\u001b[0;34m\u001b[0m\u001b[0m\n\u001b[1;32m    109\u001b[0m         response, saved_exception = self._make_request(\n\u001b[0;32m--> 110\u001b[0;31m             data, files, json, method, params, retries, url)\n\u001b[0m\u001b[1;32m    111\u001b[0m \u001b[0;34m\u001b[0m\u001b[0m\n\u001b[1;32m    112\u001b[0m         \u001b[0mdo_retry\u001b[0m \u001b[0;34m=\u001b[0m \u001b[0;32mFalse\u001b[0m\u001b[0;34m\u001b[0m\u001b[0m\n",
      "\u001b[0;32m/Users/deepak/anaconda/lib/python3.6/site-packages/prawcore/sessions.py\u001b[0m in \u001b[0;36m_make_request\u001b[0;34m(self, data, files, json, method, params, retries, url)\u001b[0m\n\u001b[1;32m     93\u001b[0m                 \u001b[0mself\u001b[0m\u001b[0;34m.\u001b[0m\u001b[0m_requestor\u001b[0m\u001b[0;34m.\u001b[0m\u001b[0mrequest\u001b[0m\u001b[0;34m,\u001b[0m \u001b[0mself\u001b[0m\u001b[0;34m.\u001b[0m\u001b[0m_set_header_callback\u001b[0m\u001b[0;34m,\u001b[0m \u001b[0mmethod\u001b[0m\u001b[0;34m,\u001b[0m\u001b[0;34m\u001b[0m\u001b[0m\n\u001b[1;32m     94\u001b[0m                 \u001b[0murl\u001b[0m\u001b[0;34m,\u001b[0m \u001b[0mallow_redirects\u001b[0m\u001b[0;34m=\u001b[0m\u001b[0;32mFalse\u001b[0m\u001b[0;34m,\u001b[0m \u001b[0mdata\u001b[0m\u001b[0;34m=\u001b[0m\u001b[0mdata\u001b[0m\u001b[0;34m,\u001b[0m \u001b[0mfiles\u001b[0m\u001b[0;34m=\u001b[0m\u001b[0mfiles\u001b[0m\u001b[0;34m,\u001b[0m \u001b[0mjson\u001b[0m\u001b[0;34m=\u001b[0m\u001b[0mjson\u001b[0m\u001b[0;34m,\u001b[0m\u001b[0;34m\u001b[0m\u001b[0m\n\u001b[0;32m---> 95\u001b[0;31m                 params=params)\n\u001b[0m\u001b[1;32m     96\u001b[0m             log.debug('Response: {} ({} bytes)'.format(\n\u001b[1;32m     97\u001b[0m                 response.status_code, response.headers.get('content-length')))\n",
      "\u001b[0;32m/Users/deepak/anaconda/lib/python3.6/site-packages/prawcore/rate_limit.py\u001b[0m in \u001b[0;36mcall\u001b[0;34m(self, request_function, set_header_callback, *args, **kwargs)\u001b[0m\n\u001b[1;32m     29\u001b[0m \u001b[0;34m\u001b[0m\u001b[0m\n\u001b[1;32m     30\u001b[0m         \"\"\"\n\u001b[0;32m---> 31\u001b[0;31m         \u001b[0mself\u001b[0m\u001b[0;34m.\u001b[0m\u001b[0mdelay\u001b[0m\u001b[0;34m(\u001b[0m\u001b[0;34m)\u001b[0m\u001b[0;34m\u001b[0m\u001b[0m\n\u001b[0m\u001b[1;32m     32\u001b[0m         \u001b[0mkwargs\u001b[0m\u001b[0;34m[\u001b[0m\u001b[0;34m'headers'\u001b[0m\u001b[0;34m]\u001b[0m \u001b[0;34m=\u001b[0m \u001b[0mset_header_callback\u001b[0m\u001b[0;34m(\u001b[0m\u001b[0;34m)\u001b[0m\u001b[0;34m\u001b[0m\u001b[0m\n\u001b[1;32m     33\u001b[0m         \u001b[0mresponse\u001b[0m \u001b[0;34m=\u001b[0m \u001b[0mrequest_function\u001b[0m\u001b[0;34m(\u001b[0m\u001b[0;34m*\u001b[0m\u001b[0margs\u001b[0m\u001b[0;34m,\u001b[0m \u001b[0;34m**\u001b[0m\u001b[0mkwargs\u001b[0m\u001b[0;34m)\u001b[0m\u001b[0;34m\u001b[0m\u001b[0m\n",
      "\u001b[0;32m/Users/deepak/anaconda/lib/python3.6/site-packages/prawcore/rate_limit.py\u001b[0m in \u001b[0;36mdelay\u001b[0;34m(self)\u001b[0m\n\u001b[1;32m     42\u001b[0m         \u001b[0;32mif\u001b[0m \u001b[0msleep_seconds\u001b[0m \u001b[0;34m<=\u001b[0m \u001b[0;36m0\u001b[0m\u001b[0;34m:\u001b[0m\u001b[0;34m\u001b[0m\u001b[0m\n\u001b[1;32m     43\u001b[0m             \u001b[0;32mreturn\u001b[0m\u001b[0;34m\u001b[0m\u001b[0m\n\u001b[0;32m---> 44\u001b[0;31m         \u001b[0mtime\u001b[0m\u001b[0;34m.\u001b[0m\u001b[0msleep\u001b[0m\u001b[0;34m(\u001b[0m\u001b[0msleep_seconds\u001b[0m\u001b[0;34m)\u001b[0m\u001b[0;34m\u001b[0m\u001b[0m\n\u001b[0m\u001b[1;32m     45\u001b[0m \u001b[0;34m\u001b[0m\u001b[0m\n\u001b[1;32m     46\u001b[0m     \u001b[0;32mdef\u001b[0m \u001b[0mupdate\u001b[0m\u001b[0;34m(\u001b[0m\u001b[0mself\u001b[0m\u001b[0;34m,\u001b[0m \u001b[0mresponse_headers\u001b[0m\u001b[0;34m)\u001b[0m\u001b[0;34m:\u001b[0m\u001b[0;34m\u001b[0m\u001b[0m\n",
      "\u001b[0;31mKeyboardInterrupt\u001b[0m: "
     ]
    }
   ],
   "source": [
    "for comment in subreddit.stream.comments():\n",
    "    try:\n",
    "        print(30*'_')\n",
    "        print()\n",
    "        parent_id = str(comment.parent())\n",
    "        submission = reddit.comment(parent_id)\n",
    "        print('Parent:')\n",
    "        print(submission.body)\n",
    "        print('Reply')\n",
    "        print(comment.body)\n",
    "    except praw.exceptions.PRAWException as e:\n",
    "        pass"
   ]
  },
  {
   "cell_type": "code",
   "execution_count": 48,
   "metadata": {},
   "outputs": [
    {
     "name": "stdout",
     "output_type": "stream",
     "text": [
      "redditdev\n",
      "reddit Development\n",
      "A subreddit for discussion of reddit API clients.\n",
      "\n",
      "* [Read the API Overview & Rules](https://github.com/reddit/reddit/wiki/API)\n",
      "* [Check out the API documentation](http://www.reddit.com/dev/api)\n",
      "* For PRAW related chat visit: https://gitter.im/praw-dev/praw\n",
      "* [Join us on IRC: `#reddit-dev` on irc.freenode.net](http://webchat.freenode.net/?channels=reddit-dev) (see also: [a log of previous conversations](https://botbot.me/freenode/reddit-dev/))\n",
      "* Please do not request bots here. Consider /r/requestabot instead.\n",
      "\n",
      "\n",
      "Please confine discussion to reddit's API instead of using this as a soapbox to talk to the admins. In particular, use [/r/ideasfortheadmins](/r/ideasfortheadmins) for feature ideas and [/r/bugs](/r/bugs) for bugs. If you have general reddit questions, try [/r/help](/r/help).\n",
      "\n",
      "To see an explanation of recent user-facing changes to reddit (and the code behind them), check out /r/changelog.\n",
      "\n",
      "---\n",
      "\n",
      "To report a security issue with reddit, please send an email to <security@reddit.com> .\n",
      "\n",
      "This is an admin-sponsored subreddit.\n"
     ]
    }
   ],
   "source": [
    "# assume you have a Reddit instance bound to variable `reddit`\n",
    "subreddit = reddit.subreddit('redditdev')\n",
    "\n",
    "print(subreddit.display_name)  # Output: redditdev\n",
    "print(subreddit.title)         # Output: reddit Development\n",
    "print(subreddit.description)   # Output: A subreddit for discussion of ..."
   ]
  },
  {
   "cell_type": "code",
   "execution_count": 49,
   "metadata": {},
   "outputs": [
    {
     "name": "stdout",
     "output_type": "stream",
     "text": [
      "Reddit API read-only access from Mobile app without user login.\n",
      "4\n",
      "73ios3\n",
      "https://www.reddit.com/r/redditdev/comments/73ios3/reddit_api_readonly_access_from_mobile_app/\n",
      "Reddit from Github (I know it's no longer maintained) build cannot find Baseplate\n",
      "7\n",
      "73gkeq\n",
      "https://www.reddit.com/r/redditdev/comments/73gkeq/reddit_from_github_i_know_its_no_longer/\n",
      "way to retrieve only textual posts\n",
      "3\n",
      "73eb56\n",
      "https://www.reddit.com/r/redditdev/comments/73eb56/way_to_retrieve_only_textual_posts/\n",
      "[PRAW] Docs for comment attributes?\n",
      "1\n",
      "73bbbq\n",
      "https://www.reddit.com/r/redditdev/comments/73bbbq/praw_docs_for_comment_attributes/\n",
      "obtaining top 10 posts from reddit using submission.selftext\n",
      "1\n",
      "738ome\n",
      "https://www.reddit.com/r/redditdev/comments/738ome/obtaining_top_10_posts_from_reddit_using/\n",
      "Subreddit mirroring bot\n",
      "1\n",
      "737rwd\n",
      "https://www.reddit.com/r/redditdev/comments/737rwd/subreddit_mirroring_bot/\n",
      "What is the point of Saved if you can only view your latest 1000 saves?\n",
      "16\n",
      "72vy5k\n",
      "https://www.reddit.com/r/redditdev/comments/72vy5k/what_is_the_point_of_saved_if_you_can_only_view/\n",
      "same url. right json response in browser. wrong in mobile. help!\n",
      "3\n",
      "72xjjl\n",
      "https://www.reddit.com/r/redditdev/comments/72xjjl/same_url_right_json_response_in_browser_wrong_in/\n",
      "Is it possible to get the time you subscribed to a particular subreddit?\n",
      "4\n",
      "72viv1\n",
      "https://www.reddit.com/r/redditdev/comments/72viv1/is_it_possible_to_get_the_time_you_subscribed_to/\n",
      "[PRAW] Invite user to invite-only subreddit?\n",
      "1\n",
      "72v97e\n",
      "https://www.reddit.com/r/redditdev/comments/72v97e/praw_invite_user_to_inviteonly_subreddit/\n"
     ]
    }
   ],
   "source": [
    "# assume you have a Subreddit instance bound to variable `subreddit`\n",
    "for submission in subreddit.hot(limit=10):\n",
    "    print(submission.title)  # Output: the submission's title\n",
    "    print(submission.score)  # Output: the submission's score\n",
    "    print(submission.id)     # Output: the submission's ID\n",
    "    print(submission.url)    # Output: the URL the submission points to\n",
    "                             # or the submission's URL if it's a self post"
   ]
  },
  {
   "cell_type": "code",
   "execution_count": null,
   "metadata": {
    "collapsed": true
   },
   "outputs": [],
   "source": []
  }
 ],
 "metadata": {
  "kernelspec": {
   "display_name": "Python [conda root]",
   "language": "python",
   "name": "conda-root-py"
  },
  "language_info": {
   "codemirror_mode": {
    "name": "ipython",
    "version": 3
   },
   "file_extension": ".py",
   "mimetype": "text/x-python",
   "name": "python",
   "nbconvert_exporter": "python",
   "pygments_lexer": "ipython3",
   "version": "3.6.1"
  }
 },
 "nbformat": 4,
 "nbformat_minor": 2
}
